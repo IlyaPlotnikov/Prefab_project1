{
 "cells": [
  {
   "cell_type": "markdown",
   "metadata": {},
   "source": [
    "<h1>Содержание<span class=\"tocSkip\"></span></h1>\n",
    "<div class=\"toc\"><ul class=\"toc-item\"><li><span><a href=\"#1.-Изучение-данных-из-файла\" data-toc-modified-id=\"1.-Изучение-данных-из-файла\"><span class=\"toc-item-num\">1&nbsp;&nbsp;</span>Изучение данных из файла</a></span><ul class=\"toc-item\"><li><span><a href=\"#1.1-Вывод\" data-toc-modified-id=\"1.1-Вывод\"><span class=\"toc-item-num\">1.1&nbsp;&nbsp;</span>Вывод</a></span></li></ul></li><li><span><a href=\"#2.-Предобработка-данных\" data-toc-modified-id=\"2.-Предобработка-данных-2\"><span class=\"toc-item-num\">2&nbsp;&nbsp;</span>Предобработка данных</a></span></li><li><span><a href=\"#3.-Исследовательский-анализ-данных\" data-toc-modified-id=\"3.-Исследовательский-анализ-данных-3\"><span class=\"toc-item-num\">3&nbsp;&nbsp;</span>Исследовательский анализ данных</a></span><ul class=\"toc-item\"><li><span><a href=\"#3.1-Вывод\" data-toc-modified-id=\"3.1-Вывод\"><span class=\"toc-item-num\">3.1&nbsp;&nbsp;</span>Вывод</a></span></li></ul></li><li><span><a href=\"#4.-Составим-портрет-пользователя-каждого-региона\" data-toc-modified-id=\"4.-Составим-портрет-пользователя-каждого-региона-4\"><span class=\"toc-item-num\">4&nbsp;&nbsp;</span>Составим-портрет-пользователя-каждого-региона</a></span></li><li><span><a href=\"#5.-Проверка-гипотез\" data-toc-modified-id=\"5.-Проверка-гипотез-5\"><span class=\"toc-item-num\">5&nbsp;&nbsp;</span>Проверка-гипотез</a></span></li><li><span><a href=\"#6.-Общий-вывод\" data-toc-modified-id=\"6.-Общий-вывод\"><span class=\"toc-item-num\">6&nbsp;&nbsp;</span>Общий-вывод</a></span></li></ul></div>"
   ]
  },
  {
   "cell_type": "markdown",
   "metadata": {},
   "source": [
    "# Описание проекта\n",
    "\n",
    "Вы работаете в интернет-магазине «Стримчик», который продаёт по всему миру компьютерные игры. Из открытых источников доступны исторические данные о продажах игр, оценки пользователей и экспертов, жанры и платформы (например, Xbox или PlayStation). Вам нужно выявить определяющие успешность игры закономерности. Это позволит сделать ставку на потенциально популярный продукт и спланировать рекламные кампании.\n",
    "Перед вами данные до 2016 года. Представим, что сейчас декабрь 2016 г., и вы планируете кампанию на 2017-й. Нужно отработать принцип работы с данными. Неважно, прогнозируете ли вы продажи на 2017 год по данным 2016-го или же 2027-й — по данным 2026 года.\n",
    "В наборе данных попадается аббревиатура ESRB (Entertainment Software Rating Board) — это ассоциация, определяющая возрастной рейтинг компьютерных игр. ESRB оценивает игровой контент и присваивает ему подходящую возрастную категорию, например, «Для взрослых», «Для детей младшего возраста» или «Для подростков»."
   ]
  },
  {
   "cell_type": "markdown",
   "metadata": {},
   "source": [
    "## 1. Изучение данных из файла"
   ]
  },
  {
   "cell_type": "code",
   "execution_count": 63,
   "metadata": {},
   "outputs": [],
   "source": [
    "import pandas as pd\n",
    "import matplotlib.pyplot as plt\n",
    "from scipy import stats as st\n",
    "import math\n",
    "import numpy as np\n",
    "import seaborn as sns"
   ]
  },
  {
   "cell_type": "markdown",
   "metadata": {},
   "source": [
    "<div class=\"alert alert-info\">\n",
    " <font color='Blue'>\n",
    "     <b>Открываем файл с данными и изучаем общую информацию:"
   ]
  },
  {
   "cell_type": "code",
   "execution_count": 64,
   "metadata": {},
   "outputs": [
    {
     "name": "stdout",
     "output_type": "stream",
     "text": [
      "<class 'pandas.core.frame.DataFrame'>\n",
      "RangeIndex: 16715 entries, 0 to 16714\n",
      "Data columns (total 11 columns):\n",
      " #   Column           Non-Null Count  Dtype  \n",
      "---  ------           --------------  -----  \n",
      " 0   Name             16713 non-null  object \n",
      " 1   Platform         16715 non-null  object \n",
      " 2   Year_of_Release  16446 non-null  float64\n",
      " 3   Genre            16713 non-null  object \n",
      " 4   NA_sales         16715 non-null  float64\n",
      " 5   EU_sales         16715 non-null  float64\n",
      " 6   JP_sales         16715 non-null  float64\n",
      " 7   Other_sales      16715 non-null  float64\n",
      " 8   Critic_Score     8137 non-null   float64\n",
      " 9   User_Score       10014 non-null  object \n",
      " 10  Rating           9949 non-null   object \n",
      "dtypes: float64(6), object(5)\n",
      "memory usage: 1.4+ MB\n"
     ]
    },
    {
     "data": {
      "text/html": [
       "<div>\n",
       "<style scoped>\n",
       "    .dataframe tbody tr th:only-of-type {\n",
       "        vertical-align: middle;\n",
       "    }\n",
       "\n",
       "    .dataframe tbody tr th {\n",
       "        vertical-align: top;\n",
       "    }\n",
       "\n",
       "    .dataframe thead th {\n",
       "        text-align: right;\n",
       "    }\n",
       "</style>\n",
       "<table border=\"1\" class=\"dataframe\">\n",
       "  <thead>\n",
       "    <tr style=\"text-align: right;\">\n",
       "      <th></th>\n",
       "      <th>Name</th>\n",
       "      <th>Platform</th>\n",
       "      <th>Year_of_Release</th>\n",
       "      <th>Genre</th>\n",
       "      <th>NA_sales</th>\n",
       "      <th>EU_sales</th>\n",
       "      <th>JP_sales</th>\n",
       "      <th>Other_sales</th>\n",
       "      <th>Critic_Score</th>\n",
       "      <th>User_Score</th>\n",
       "      <th>Rating</th>\n",
       "    </tr>\n",
       "  </thead>\n",
       "  <tbody>\n",
       "    <tr>\n",
       "      <th>0</th>\n",
       "      <td>Wii Sports</td>\n",
       "      <td>Wii</td>\n",
       "      <td>2006.0</td>\n",
       "      <td>Sports</td>\n",
       "      <td>41.36</td>\n",
       "      <td>28.96</td>\n",
       "      <td>3.77</td>\n",
       "      <td>8.45</td>\n",
       "      <td>76.0</td>\n",
       "      <td>8</td>\n",
       "      <td>E</td>\n",
       "    </tr>\n",
       "    <tr>\n",
       "      <th>1</th>\n",
       "      <td>Super Mario Bros.</td>\n",
       "      <td>NES</td>\n",
       "      <td>1985.0</td>\n",
       "      <td>Platform</td>\n",
       "      <td>29.08</td>\n",
       "      <td>3.58</td>\n",
       "      <td>6.81</td>\n",
       "      <td>0.77</td>\n",
       "      <td>NaN</td>\n",
       "      <td>NaN</td>\n",
       "      <td>NaN</td>\n",
       "    </tr>\n",
       "    <tr>\n",
       "      <th>2</th>\n",
       "      <td>Mario Kart Wii</td>\n",
       "      <td>Wii</td>\n",
       "      <td>2008.0</td>\n",
       "      <td>Racing</td>\n",
       "      <td>15.68</td>\n",
       "      <td>12.76</td>\n",
       "      <td>3.79</td>\n",
       "      <td>3.29</td>\n",
       "      <td>82.0</td>\n",
       "      <td>8.3</td>\n",
       "      <td>E</td>\n",
       "    </tr>\n",
       "    <tr>\n",
       "      <th>3</th>\n",
       "      <td>Wii Sports Resort</td>\n",
       "      <td>Wii</td>\n",
       "      <td>2009.0</td>\n",
       "      <td>Sports</td>\n",
       "      <td>15.61</td>\n",
       "      <td>10.93</td>\n",
       "      <td>3.28</td>\n",
       "      <td>2.95</td>\n",
       "      <td>80.0</td>\n",
       "      <td>8</td>\n",
       "      <td>E</td>\n",
       "    </tr>\n",
       "    <tr>\n",
       "      <th>4</th>\n",
       "      <td>Pokemon Red/Pokemon Blue</td>\n",
       "      <td>GB</td>\n",
       "      <td>1996.0</td>\n",
       "      <td>Role-Playing</td>\n",
       "      <td>11.27</td>\n",
       "      <td>8.89</td>\n",
       "      <td>10.22</td>\n",
       "      <td>1.00</td>\n",
       "      <td>NaN</td>\n",
       "      <td>NaN</td>\n",
       "      <td>NaN</td>\n",
       "    </tr>\n",
       "  </tbody>\n",
       "</table>\n",
       "</div>"
      ],
      "text/plain": [
       "                       Name Platform  Year_of_Release         Genre  NA_sales  \\\n",
       "0                Wii Sports      Wii           2006.0        Sports     41.36   \n",
       "1         Super Mario Bros.      NES           1985.0      Platform     29.08   \n",
       "2            Mario Kart Wii      Wii           2008.0        Racing     15.68   \n",
       "3         Wii Sports Resort      Wii           2009.0        Sports     15.61   \n",
       "4  Pokemon Red/Pokemon Blue       GB           1996.0  Role-Playing     11.27   \n",
       "\n",
       "   EU_sales  JP_sales  Other_sales  Critic_Score User_Score Rating  \n",
       "0     28.96      3.77         8.45          76.0          8      E  \n",
       "1      3.58      6.81         0.77           NaN        NaN    NaN  \n",
       "2     12.76      3.79         3.29          82.0        8.3      E  \n",
       "3     10.93      3.28         2.95          80.0          8      E  \n",
       "4      8.89     10.22         1.00           NaN        NaN    NaN  "
      ]
     },
     "execution_count": 64,
     "metadata": {},
     "output_type": "execute_result"
    }
   ],
   "source": [
    "df=pd.read_csv('/datasets/games.csv') # открываем файл games.csv\n",
    "df.info()\n",
    "df.head()"
   ]
  },
  {
   "cell_type": "markdown",
   "metadata": {},
   "source": [
    "<div class=\"alert alert-info\">\n",
    " <font color='Blue'>\n",
    "     <b>Посчитаем долю пропущенных данных в столбцах, путем суммирования количества заполненных ячеек и делением его на все ячейки"
   ]
  },
  {
   "cell_type": "code",
   "execution_count": 65,
   "metadata": {},
   "outputs": [
    {
     "name": "stdout",
     "output_type": "stream",
     "text": [
      "Доля пропущенных в столбце Name: 0.01%\n",
      "Доля пропущенных в столбце Genre: 0.01%\n",
      "Доля пропущенных в столбце Year_of_Release: 1.61%\n",
      "Доля пропущенных в столбце Critic_Score: 51.32%\n",
      "Доля пропущенных в столбце User_Score: 40.09%\n",
      "Доля пропущенных в столбце Rating: 40.48%\n"
     ]
    }
   ],
   "source": [
    "missing_in_Name = df['Name']. isnull(). sum() / len(df)\n",
    "print('Доля пропущенных в столбце Name:',\"{:.2%}\".format(missing_in_Name))\n",
    "missing_in_Genre = df['Genre']. isnull(). sum() / len(df)\n",
    "print('Доля пропущенных в столбце Genre:',\"{:.2%}\".format(missing_in_Genre))\n",
    "missing_in_Year_of_Release = df['Year_of_Release']. isnull(). sum() / len(df)\n",
    "print('Доля пропущенных в столбце Year_of_Release:',\"{:.2%}\".format(missing_in_Year_of_Release))\n",
    "missing_in_Critic_Score = df['Critic_Score']. isnull(). sum() / len(df)\n",
    "print('Доля пропущенных в столбце Critic_Score:',\"{:.2%}\".format(missing_in_Critic_Score))\n",
    "missing_in_User_Score = df['User_Score']. isnull(). sum() / len(df)\n",
    "print('Доля пропущенных в столбце User_Score:',\"{:.2%}\".format(missing_in_User_Score))\n",
    "missing_in_Rating = df['Rating']. isnull(). sum() / len(df)\n",
    "print('Доля пропущенных в столбце Rating:',\"{:.2%}\".format(missing_in_Rating))"
   ]
  },
  {
   "cell_type": "code",
   "execution_count": 66,
   "metadata": {},
   "outputs": [
    {
     "data": {
      "text/html": [
       "<style  type=\"text/css\" >\n",
       "#T_fe642_row0_col0,#T_fe642_row1_col0,#T_fe642_row3_col0,#T_fe642_row4_col0,#T_fe642_row5_col0,#T_fe642_row6_col0,#T_fe642_row7_col0{\n",
       "            background-color:  #3b4cc0;\n",
       "            color:  #f1f1f1;\n",
       "        }#T_fe642_row2_col0{\n",
       "            background-color:  #445acc;\n",
       "            color:  #f1f1f1;\n",
       "        }#T_fe642_row8_col0{\n",
       "            background-color:  #b40426;\n",
       "            color:  #f1f1f1;\n",
       "        }#T_fe642_row9_col0{\n",
       "            background-color:  #f18d6f;\n",
       "            color:  #000000;\n",
       "        }#T_fe642_row10_col0{\n",
       "            background-color:  #f08a6c;\n",
       "            color:  #000000;\n",
       "        }</style><table id=\"T_fe642_\" ><thead>    <tr>        <th class=\"blank level0\" ></th>        <th class=\"col_heading level0 col0\" >0</th>    </tr></thead><tbody>\n",
       "                <tr>\n",
       "                        <th id=\"T_fe642_level0_row0\" class=\"row_heading level0 row0\" >Name</th>\n",
       "                        <td id=\"T_fe642_row0_col0\" class=\"data row0 col0\" >0.010000</td>\n",
       "            </tr>\n",
       "            <tr>\n",
       "                        <th id=\"T_fe642_level0_row1\" class=\"row_heading level0 row1\" >Platform</th>\n",
       "                        <td id=\"T_fe642_row1_col0\" class=\"data row1 col0\" >0.000000</td>\n",
       "            </tr>\n",
       "            <tr>\n",
       "                        <th id=\"T_fe642_level0_row2\" class=\"row_heading level0 row2\" >Year_of_Release</th>\n",
       "                        <td id=\"T_fe642_row2_col0\" class=\"data row2 col0\" >1.610000</td>\n",
       "            </tr>\n",
       "            <tr>\n",
       "                        <th id=\"T_fe642_level0_row3\" class=\"row_heading level0 row3\" >Genre</th>\n",
       "                        <td id=\"T_fe642_row3_col0\" class=\"data row3 col0\" >0.010000</td>\n",
       "            </tr>\n",
       "            <tr>\n",
       "                        <th id=\"T_fe642_level0_row4\" class=\"row_heading level0 row4\" >NA_sales</th>\n",
       "                        <td id=\"T_fe642_row4_col0\" class=\"data row4 col0\" >0.000000</td>\n",
       "            </tr>\n",
       "            <tr>\n",
       "                        <th id=\"T_fe642_level0_row5\" class=\"row_heading level0 row5\" >EU_sales</th>\n",
       "                        <td id=\"T_fe642_row5_col0\" class=\"data row5 col0\" >0.000000</td>\n",
       "            </tr>\n",
       "            <tr>\n",
       "                        <th id=\"T_fe642_level0_row6\" class=\"row_heading level0 row6\" >JP_sales</th>\n",
       "                        <td id=\"T_fe642_row6_col0\" class=\"data row6 col0\" >0.000000</td>\n",
       "            </tr>\n",
       "            <tr>\n",
       "                        <th id=\"T_fe642_level0_row7\" class=\"row_heading level0 row7\" >Other_sales</th>\n",
       "                        <td id=\"T_fe642_row7_col0\" class=\"data row7 col0\" >0.000000</td>\n",
       "            </tr>\n",
       "            <tr>\n",
       "                        <th id=\"T_fe642_level0_row8\" class=\"row_heading level0 row8\" >Critic_Score</th>\n",
       "                        <td id=\"T_fe642_row8_col0\" class=\"data row8 col0\" >51.320000</td>\n",
       "            </tr>\n",
       "            <tr>\n",
       "                        <th id=\"T_fe642_level0_row9\" class=\"row_heading level0 row9\" >User_Score</th>\n",
       "                        <td id=\"T_fe642_row9_col0\" class=\"data row9 col0\" >40.090000</td>\n",
       "            </tr>\n",
       "            <tr>\n",
       "                        <th id=\"T_fe642_level0_row10\" class=\"row_heading level0 row10\" >Rating</th>\n",
       "                        <td id=\"T_fe642_row10_col0\" class=\"data row10 col0\" >40.480000</td>\n",
       "            </tr>\n",
       "    </tbody></table>"
      ],
      "text/plain": [
       "<pandas.io.formats.style.Styler at 0x7fb81c170070>"
      ]
     },
     "execution_count": 66,
     "metadata": {},
     "output_type": "execute_result"
    }
   ],
   "source": [
    "##КОД РЕВЬЮЕРА\n",
    "pd.DataFrame(round((df.isna().mean()*100),2)).style.background_gradient('coolwarm')"
   ]
  },
  {
   "cell_type": "markdown",
   "metadata": {},
   "source": [
    "<div class=\"alert alert-info\">\n",
    " <font color='Blue'>\n",
    "     <b>Посчитаем количество пустых значений:"
   ]
  },
  {
   "cell_type": "code",
   "execution_count": 67,
   "metadata": {},
   "outputs": [
    {
     "data": {
      "text/plain": [
       "Name                  2\n",
       "Platform              0\n",
       "Year_of_Release     269\n",
       "Genre                 2\n",
       "NA_sales              0\n",
       "EU_sales              0\n",
       "JP_sales              0\n",
       "Other_sales           0\n",
       "Critic_Score       8578\n",
       "User_Score         6701\n",
       "Rating             6766\n",
       "dtype: int64"
      ]
     },
     "execution_count": 67,
     "metadata": {},
     "output_type": "execute_result"
    }
   ],
   "source": [
    "df.isna().sum()"
   ]
  },
  {
   "cell_type": "markdown",
   "metadata": {},
   "source": [
    "### 1.1 Вывод"
   ]
  },
  {
   "cell_type": "markdown",
   "metadata": {},
   "source": [
    "<div class=\"alert alert-info\">\n",
    " <font color='Blue'>\n",
    "     <b>Выявили пропущенные значения:</b>\n",
    "        <p>\n",
    "- Name: 0.01% (название игры) -  можно удалить\n",
    "        <p>\n",
    "- Genre: 0.01% (жанр игры) -  можно удалить\n",
    "        <p>\n",
    "- Year_of_Release: 1.61% (год выпуска) -  можно удалить\n",
    "            <p>\n",
    "- Critic_Score: 51.32% (оценка критиков (максимум 100)) \n",
    "                <p>\n",
    "- User_Score: 40.09%  (оценка пользователей (максимум 10)) \n",
    "                    <p>\n",
    "- Rating: 40.48% (рейтинг от организации ESRB (англ. Entertainment Software Rating Board). Эта ассоциация определяет рейтинг компьютерных игр и присваивает им подходящую возрастную категорию.) -  <b>заполнять пропуски в столбцах \"Critic_Score\", \"User_Score\" и \"Rating\" будет не корректно, так как повлияет на статистические данныезначениями <p>\n",
    "      <b>Предположительно,появление пропусков данных вызвано отсутствием информации. Можем сообщить о проблеме заказчику и запросить данные для дальнейшего анализа   <p>\n",
    "      "
   ]
  },
  {
   "cell_type": "markdown",
   "metadata": {},
   "source": [
    "<div class=\"alert alert-block alert-info\">\n",
    "<b>Заполнил пропуски на 'no rating' в столбце rating:</b>\n",
    "</div>"
   ]
  },
  {
   "cell_type": "code",
   "execution_count": 68,
   "metadata": {},
   "outputs": [
    {
     "data": {
      "text/plain": [
       "E       3990\n",
       "T       2961\n",
       "M       1563\n",
       "E10+    1420\n",
       "EC         8\n",
       "K-A        3\n",
       "RP         3\n",
       "AO         1\n",
       "Name: Rating, dtype: int64"
      ]
     },
     "execution_count": 68,
     "metadata": {},
     "output_type": "execute_result"
    }
   ],
   "source": [
    "df['Rating'].value_counts()"
   ]
  },
  {
   "cell_type": "code",
   "execution_count": 69,
   "metadata": {},
   "outputs": [],
   "source": [
    "df['Rating']=df['Rating'].fillna('no rating')"
   ]
  },
  {
   "cell_type": "code",
   "execution_count": 70,
   "metadata": {},
   "outputs": [
    {
     "data": {
      "text/plain": [
       "no rating    6766\n",
       "E            3990\n",
       "T            2961\n",
       "M            1563\n",
       "E10+         1420\n",
       "EC              8\n",
       "K-A             3\n",
       "RP              3\n",
       "AO              1\n",
       "Name: Rating, dtype: int64"
      ]
     },
     "execution_count": 70,
     "metadata": {},
     "output_type": "execute_result"
    }
   ],
   "source": [
    "df['Rating'].value_counts()"
   ]
  },
  {
   "cell_type": "code",
   "execution_count": 71,
   "metadata": {},
   "outputs": [
    {
     "data": {
      "text/html": [
       "<div>\n",
       "<style scoped>\n",
       "    .dataframe tbody tr th:only-of-type {\n",
       "        vertical-align: middle;\n",
       "    }\n",
       "\n",
       "    .dataframe tbody tr th {\n",
       "        vertical-align: top;\n",
       "    }\n",
       "\n",
       "    .dataframe thead th {\n",
       "        text-align: right;\n",
       "    }\n",
       "</style>\n",
       "<table border=\"1\" class=\"dataframe\">\n",
       "  <thead>\n",
       "    <tr style=\"text-align: right;\">\n",
       "      <th></th>\n",
       "      <th>Name</th>\n",
       "      <th>Platform</th>\n",
       "      <th>Year_of_Release</th>\n",
       "      <th>Genre</th>\n",
       "      <th>NA_sales</th>\n",
       "      <th>EU_sales</th>\n",
       "      <th>JP_sales</th>\n",
       "      <th>Other_sales</th>\n",
       "      <th>Critic_Score</th>\n",
       "      <th>User_Score</th>\n",
       "      <th>Rating</th>\n",
       "    </tr>\n",
       "  </thead>\n",
       "  <tbody>\n",
       "    <tr>\n",
       "      <th>0</th>\n",
       "      <td>Wii Sports</td>\n",
       "      <td>Wii</td>\n",
       "      <td>2006.0</td>\n",
       "      <td>Sports</td>\n",
       "      <td>41.36</td>\n",
       "      <td>28.96</td>\n",
       "      <td>3.77</td>\n",
       "      <td>8.45</td>\n",
       "      <td>76.0</td>\n",
       "      <td>8</td>\n",
       "      <td>E</td>\n",
       "    </tr>\n",
       "    <tr>\n",
       "      <th>1</th>\n",
       "      <td>Super Mario Bros.</td>\n",
       "      <td>NES</td>\n",
       "      <td>1985.0</td>\n",
       "      <td>Platform</td>\n",
       "      <td>29.08</td>\n",
       "      <td>3.58</td>\n",
       "      <td>6.81</td>\n",
       "      <td>0.77</td>\n",
       "      <td>NaN</td>\n",
       "      <td>NaN</td>\n",
       "      <td>no rating</td>\n",
       "    </tr>\n",
       "    <tr>\n",
       "      <th>2</th>\n",
       "      <td>Mario Kart Wii</td>\n",
       "      <td>Wii</td>\n",
       "      <td>2008.0</td>\n",
       "      <td>Racing</td>\n",
       "      <td>15.68</td>\n",
       "      <td>12.76</td>\n",
       "      <td>3.79</td>\n",
       "      <td>3.29</td>\n",
       "      <td>82.0</td>\n",
       "      <td>8.3</td>\n",
       "      <td>E</td>\n",
       "    </tr>\n",
       "    <tr>\n",
       "      <th>3</th>\n",
       "      <td>Wii Sports Resort</td>\n",
       "      <td>Wii</td>\n",
       "      <td>2009.0</td>\n",
       "      <td>Sports</td>\n",
       "      <td>15.61</td>\n",
       "      <td>10.93</td>\n",
       "      <td>3.28</td>\n",
       "      <td>2.95</td>\n",
       "      <td>80.0</td>\n",
       "      <td>8</td>\n",
       "      <td>E</td>\n",
       "    </tr>\n",
       "    <tr>\n",
       "      <th>4</th>\n",
       "      <td>Pokemon Red/Pokemon Blue</td>\n",
       "      <td>GB</td>\n",
       "      <td>1996.0</td>\n",
       "      <td>Role-Playing</td>\n",
       "      <td>11.27</td>\n",
       "      <td>8.89</td>\n",
       "      <td>10.22</td>\n",
       "      <td>1.00</td>\n",
       "      <td>NaN</td>\n",
       "      <td>NaN</td>\n",
       "      <td>no rating</td>\n",
       "    </tr>\n",
       "  </tbody>\n",
       "</table>\n",
       "</div>"
      ],
      "text/plain": [
       "                       Name Platform  Year_of_Release         Genre  NA_sales  \\\n",
       "0                Wii Sports      Wii           2006.0        Sports     41.36   \n",
       "1         Super Mario Bros.      NES           1985.0      Platform     29.08   \n",
       "2            Mario Kart Wii      Wii           2008.0        Racing     15.68   \n",
       "3         Wii Sports Resort      Wii           2009.0        Sports     15.61   \n",
       "4  Pokemon Red/Pokemon Blue       GB           1996.0  Role-Playing     11.27   \n",
       "\n",
       "   EU_sales  JP_sales  Other_sales  Critic_Score User_Score     Rating  \n",
       "0     28.96      3.77         8.45          76.0          8          E  \n",
       "1      3.58      6.81         0.77           NaN        NaN  no rating  \n",
       "2     12.76      3.79         3.29          82.0        8.3          E  \n",
       "3     10.93      3.28         2.95          80.0          8          E  \n",
       "4      8.89     10.22         1.00           NaN        NaN  no rating  "
      ]
     },
     "execution_count": 71,
     "metadata": {},
     "output_type": "execute_result"
    }
   ],
   "source": [
    "df.head()"
   ]
  },
  {
   "cell_type": "markdown",
   "metadata": {},
   "source": [
    "## 2. Предобработка данных"
   ]
  },
  {
   "cell_type": "markdown",
   "metadata": {},
   "source": [
    "<div class=\"alert alert-info\">\n",
    "<font color='Blue'>\n",
    "    <b>Привожу к нижнему регистру название столбцов и данные в четырёх столбцах 'name','platform','genre' и 'rating'со значениями \"str\""
   ]
  },
  {
   "cell_type": "code",
   "execution_count": 72,
   "metadata": {},
   "outputs": [],
   "source": [
    "df.columns = map(str.lower, df.columns)\n",
    "for column in df[['name','platform','genre','rating']]:\n",
    "    df[column] = df[column].str.lower()"
   ]
  },
  {
   "cell_type": "markdown",
   "metadata": {},
   "source": [
    "<div class=\"alert alert-info\">\n",
    "<font color='Blue'>\n",
    "    <b>Удаляю пропуски в столбцах \"name\", \"year_of_release\", \"genre\" так как маленькое количество и нет вариантов для замены "
   ]
  },
  {
   "cell_type": "code",
   "execution_count": 73,
   "metadata": {},
   "outputs": [
    {
     "name": "stdout",
     "output_type": "stream",
     "text": [
      "<class 'pandas.core.frame.DataFrame'>\n",
      "Int64Index: 16444 entries, 0 to 16714\n",
      "Data columns (total 11 columns):\n",
      " #   Column           Non-Null Count  Dtype  \n",
      "---  ------           --------------  -----  \n",
      " 0   name             16444 non-null  object \n",
      " 1   platform         16444 non-null  object \n",
      " 2   year_of_release  16444 non-null  float64\n",
      " 3   genre            16444 non-null  object \n",
      " 4   na_sales         16444 non-null  float64\n",
      " 5   eu_sales         16444 non-null  float64\n",
      " 6   jp_sales         16444 non-null  float64\n",
      " 7   other_sales      16444 non-null  float64\n",
      " 8   critic_score     7983 non-null   float64\n",
      " 9   user_score       9839 non-null   object \n",
      " 10  rating           16444 non-null  object \n",
      "dtypes: float64(6), object(5)\n",
      "memory usage: 1.5+ MB\n"
     ]
    }
   ],
   "source": [
    "df.dropna(subset=['name', 'genre','year_of_release'], inplace=True)\n",
    "df.info()"
   ]
  },
  {
   "cell_type": "markdown",
   "metadata": {},
   "source": [
    "<div class=\"alert alert-info\">\n",
    "<font color='Blue'>\n",
    "    <b>Проверяю столбцы с пропусками:"
   ]
  },
  {
   "cell_type": "code",
   "execution_count": 74,
   "metadata": {},
   "outputs": [
    {
     "data": {
      "text/html": [
       "<div>\n",
       "<style scoped>\n",
       "    .dataframe tbody tr th:only-of-type {\n",
       "        vertical-align: middle;\n",
       "    }\n",
       "\n",
       "    .dataframe tbody tr th {\n",
       "        vertical-align: top;\n",
       "    }\n",
       "\n",
       "    .dataframe thead th {\n",
       "        text-align: right;\n",
       "    }\n",
       "</style>\n",
       "<table border=\"1\" class=\"dataframe\">\n",
       "  <thead>\n",
       "    <tr style=\"text-align: right;\">\n",
       "      <th></th>\n",
       "      <th>name</th>\n",
       "      <th>platform</th>\n",
       "      <th>year_of_release</th>\n",
       "      <th>genre</th>\n",
       "      <th>na_sales</th>\n",
       "      <th>eu_sales</th>\n",
       "      <th>jp_sales</th>\n",
       "      <th>other_sales</th>\n",
       "      <th>critic_score</th>\n",
       "      <th>user_score</th>\n",
       "      <th>rating</th>\n",
       "    </tr>\n",
       "  </thead>\n",
       "  <tbody>\n",
       "    <tr>\n",
       "      <th>1</th>\n",
       "      <td>super mario bros.</td>\n",
       "      <td>nes</td>\n",
       "      <td>1985.0</td>\n",
       "      <td>platform</td>\n",
       "      <td>29.08</td>\n",
       "      <td>3.58</td>\n",
       "      <td>6.81</td>\n",
       "      <td>0.77</td>\n",
       "      <td>NaN</td>\n",
       "      <td>NaN</td>\n",
       "      <td>no rating</td>\n",
       "    </tr>\n",
       "    <tr>\n",
       "      <th>4</th>\n",
       "      <td>pokemon red/pokemon blue</td>\n",
       "      <td>gb</td>\n",
       "      <td>1996.0</td>\n",
       "      <td>role-playing</td>\n",
       "      <td>11.27</td>\n",
       "      <td>8.89</td>\n",
       "      <td>10.22</td>\n",
       "      <td>1.00</td>\n",
       "      <td>NaN</td>\n",
       "      <td>NaN</td>\n",
       "      <td>no rating</td>\n",
       "    </tr>\n",
       "    <tr>\n",
       "      <th>5</th>\n",
       "      <td>tetris</td>\n",
       "      <td>gb</td>\n",
       "      <td>1989.0</td>\n",
       "      <td>puzzle</td>\n",
       "      <td>23.20</td>\n",
       "      <td>2.26</td>\n",
       "      <td>4.22</td>\n",
       "      <td>0.58</td>\n",
       "      <td>NaN</td>\n",
       "      <td>NaN</td>\n",
       "      <td>no rating</td>\n",
       "    </tr>\n",
       "    <tr>\n",
       "      <th>9</th>\n",
       "      <td>duck hunt</td>\n",
       "      <td>nes</td>\n",
       "      <td>1984.0</td>\n",
       "      <td>shooter</td>\n",
       "      <td>26.93</td>\n",
       "      <td>0.63</td>\n",
       "      <td>0.28</td>\n",
       "      <td>0.47</td>\n",
       "      <td>NaN</td>\n",
       "      <td>NaN</td>\n",
       "      <td>no rating</td>\n",
       "    </tr>\n",
       "    <tr>\n",
       "      <th>10</th>\n",
       "      <td>nintendogs</td>\n",
       "      <td>ds</td>\n",
       "      <td>2005.0</td>\n",
       "      <td>simulation</td>\n",
       "      <td>9.05</td>\n",
       "      <td>10.95</td>\n",
       "      <td>1.93</td>\n",
       "      <td>2.74</td>\n",
       "      <td>NaN</td>\n",
       "      <td>NaN</td>\n",
       "      <td>no rating</td>\n",
       "    </tr>\n",
       "    <tr>\n",
       "      <th>...</th>\n",
       "      <td>...</td>\n",
       "      <td>...</td>\n",
       "      <td>...</td>\n",
       "      <td>...</td>\n",
       "      <td>...</td>\n",
       "      <td>...</td>\n",
       "      <td>...</td>\n",
       "      <td>...</td>\n",
       "      <td>...</td>\n",
       "      <td>...</td>\n",
       "      <td>...</td>\n",
       "    </tr>\n",
       "    <tr>\n",
       "      <th>16710</th>\n",
       "      <td>samurai warriors: sanada maru</td>\n",
       "      <td>ps3</td>\n",
       "      <td>2016.0</td>\n",
       "      <td>action</td>\n",
       "      <td>0.00</td>\n",
       "      <td>0.00</td>\n",
       "      <td>0.01</td>\n",
       "      <td>0.00</td>\n",
       "      <td>NaN</td>\n",
       "      <td>NaN</td>\n",
       "      <td>no rating</td>\n",
       "    </tr>\n",
       "    <tr>\n",
       "      <th>16711</th>\n",
       "      <td>lma manager 2007</td>\n",
       "      <td>x360</td>\n",
       "      <td>2006.0</td>\n",
       "      <td>sports</td>\n",
       "      <td>0.00</td>\n",
       "      <td>0.01</td>\n",
       "      <td>0.00</td>\n",
       "      <td>0.00</td>\n",
       "      <td>NaN</td>\n",
       "      <td>NaN</td>\n",
       "      <td>no rating</td>\n",
       "    </tr>\n",
       "    <tr>\n",
       "      <th>16712</th>\n",
       "      <td>haitaka no psychedelica</td>\n",
       "      <td>psv</td>\n",
       "      <td>2016.0</td>\n",
       "      <td>adventure</td>\n",
       "      <td>0.00</td>\n",
       "      <td>0.00</td>\n",
       "      <td>0.01</td>\n",
       "      <td>0.00</td>\n",
       "      <td>NaN</td>\n",
       "      <td>NaN</td>\n",
       "      <td>no rating</td>\n",
       "    </tr>\n",
       "    <tr>\n",
       "      <th>16713</th>\n",
       "      <td>spirits &amp; spells</td>\n",
       "      <td>gba</td>\n",
       "      <td>2003.0</td>\n",
       "      <td>platform</td>\n",
       "      <td>0.01</td>\n",
       "      <td>0.00</td>\n",
       "      <td>0.00</td>\n",
       "      <td>0.00</td>\n",
       "      <td>NaN</td>\n",
       "      <td>NaN</td>\n",
       "      <td>no rating</td>\n",
       "    </tr>\n",
       "    <tr>\n",
       "      <th>16714</th>\n",
       "      <td>winning post 8 2016</td>\n",
       "      <td>psv</td>\n",
       "      <td>2016.0</td>\n",
       "      <td>simulation</td>\n",
       "      <td>0.00</td>\n",
       "      <td>0.00</td>\n",
       "      <td>0.01</td>\n",
       "      <td>0.00</td>\n",
       "      <td>NaN</td>\n",
       "      <td>NaN</td>\n",
       "      <td>no rating</td>\n",
       "    </tr>\n",
       "  </tbody>\n",
       "</table>\n",
       "<p>8461 rows × 11 columns</p>\n",
       "</div>"
      ],
      "text/plain": [
       "                                name platform  year_of_release         genre  \\\n",
       "1                  super mario bros.      nes           1985.0      platform   \n",
       "4           pokemon red/pokemon blue       gb           1996.0  role-playing   \n",
       "5                             tetris       gb           1989.0        puzzle   \n",
       "9                          duck hunt      nes           1984.0       shooter   \n",
       "10                        nintendogs       ds           2005.0    simulation   \n",
       "...                              ...      ...              ...           ...   \n",
       "16710  samurai warriors: sanada maru      ps3           2016.0        action   \n",
       "16711               lma manager 2007     x360           2006.0        sports   \n",
       "16712        haitaka no psychedelica      psv           2016.0     adventure   \n",
       "16713               spirits & spells      gba           2003.0      platform   \n",
       "16714            winning post 8 2016      psv           2016.0    simulation   \n",
       "\n",
       "       na_sales  eu_sales  jp_sales  other_sales  critic_score user_score  \\\n",
       "1         29.08      3.58      6.81         0.77           NaN        NaN   \n",
       "4         11.27      8.89     10.22         1.00           NaN        NaN   \n",
       "5         23.20      2.26      4.22         0.58           NaN        NaN   \n",
       "9         26.93      0.63      0.28         0.47           NaN        NaN   \n",
       "10         9.05     10.95      1.93         2.74           NaN        NaN   \n",
       "...         ...       ...       ...          ...           ...        ...   \n",
       "16710      0.00      0.00      0.01         0.00           NaN        NaN   \n",
       "16711      0.00      0.01      0.00         0.00           NaN        NaN   \n",
       "16712      0.00      0.00      0.01         0.00           NaN        NaN   \n",
       "16713      0.01      0.00      0.00         0.00           NaN        NaN   \n",
       "16714      0.00      0.00      0.01         0.00           NaN        NaN   \n",
       "\n",
       "          rating  \n",
       "1      no rating  \n",
       "4      no rating  \n",
       "5      no rating  \n",
       "9      no rating  \n",
       "10     no rating  \n",
       "...          ...  \n",
       "16710  no rating  \n",
       "16711  no rating  \n",
       "16712  no rating  \n",
       "16713  no rating  \n",
       "16714  no rating  \n",
       "\n",
       "[8461 rows x 11 columns]"
      ]
     },
     "execution_count": 74,
     "metadata": {},
     "output_type": "execute_result"
    }
   ],
   "source": [
    "df[df['critic_score'].isna()]"
   ]
  },
  {
   "cell_type": "code",
   "execution_count": 75,
   "metadata": {},
   "outputs": [
    {
     "data": {
      "text/html": [
       "<div>\n",
       "<style scoped>\n",
       "    .dataframe tbody tr th:only-of-type {\n",
       "        vertical-align: middle;\n",
       "    }\n",
       "\n",
       "    .dataframe tbody tr th {\n",
       "        vertical-align: top;\n",
       "    }\n",
       "\n",
       "    .dataframe thead th {\n",
       "        text-align: right;\n",
       "    }\n",
       "</style>\n",
       "<table border=\"1\" class=\"dataframe\">\n",
       "  <thead>\n",
       "    <tr style=\"text-align: right;\">\n",
       "      <th></th>\n",
       "      <th>name</th>\n",
       "      <th>platform</th>\n",
       "      <th>year_of_release</th>\n",
       "      <th>genre</th>\n",
       "      <th>na_sales</th>\n",
       "      <th>eu_sales</th>\n",
       "      <th>jp_sales</th>\n",
       "      <th>other_sales</th>\n",
       "      <th>critic_score</th>\n",
       "      <th>user_score</th>\n",
       "      <th>rating</th>\n",
       "    </tr>\n",
       "  </thead>\n",
       "  <tbody>\n",
       "    <tr>\n",
       "      <th>1</th>\n",
       "      <td>super mario bros.</td>\n",
       "      <td>nes</td>\n",
       "      <td>1985.0</td>\n",
       "      <td>platform</td>\n",
       "      <td>29.08</td>\n",
       "      <td>3.58</td>\n",
       "      <td>6.81</td>\n",
       "      <td>0.77</td>\n",
       "      <td>NaN</td>\n",
       "      <td>NaN</td>\n",
       "      <td>no rating</td>\n",
       "    </tr>\n",
       "    <tr>\n",
       "      <th>4</th>\n",
       "      <td>pokemon red/pokemon blue</td>\n",
       "      <td>gb</td>\n",
       "      <td>1996.0</td>\n",
       "      <td>role-playing</td>\n",
       "      <td>11.27</td>\n",
       "      <td>8.89</td>\n",
       "      <td>10.22</td>\n",
       "      <td>1.00</td>\n",
       "      <td>NaN</td>\n",
       "      <td>NaN</td>\n",
       "      <td>no rating</td>\n",
       "    </tr>\n",
       "    <tr>\n",
       "      <th>5</th>\n",
       "      <td>tetris</td>\n",
       "      <td>gb</td>\n",
       "      <td>1989.0</td>\n",
       "      <td>puzzle</td>\n",
       "      <td>23.20</td>\n",
       "      <td>2.26</td>\n",
       "      <td>4.22</td>\n",
       "      <td>0.58</td>\n",
       "      <td>NaN</td>\n",
       "      <td>NaN</td>\n",
       "      <td>no rating</td>\n",
       "    </tr>\n",
       "    <tr>\n",
       "      <th>9</th>\n",
       "      <td>duck hunt</td>\n",
       "      <td>nes</td>\n",
       "      <td>1984.0</td>\n",
       "      <td>shooter</td>\n",
       "      <td>26.93</td>\n",
       "      <td>0.63</td>\n",
       "      <td>0.28</td>\n",
       "      <td>0.47</td>\n",
       "      <td>NaN</td>\n",
       "      <td>NaN</td>\n",
       "      <td>no rating</td>\n",
       "    </tr>\n",
       "    <tr>\n",
       "      <th>10</th>\n",
       "      <td>nintendogs</td>\n",
       "      <td>ds</td>\n",
       "      <td>2005.0</td>\n",
       "      <td>simulation</td>\n",
       "      <td>9.05</td>\n",
       "      <td>10.95</td>\n",
       "      <td>1.93</td>\n",
       "      <td>2.74</td>\n",
       "      <td>NaN</td>\n",
       "      <td>NaN</td>\n",
       "      <td>no rating</td>\n",
       "    </tr>\n",
       "    <tr>\n",
       "      <th>...</th>\n",
       "      <td>...</td>\n",
       "      <td>...</td>\n",
       "      <td>...</td>\n",
       "      <td>...</td>\n",
       "      <td>...</td>\n",
       "      <td>...</td>\n",
       "      <td>...</td>\n",
       "      <td>...</td>\n",
       "      <td>...</td>\n",
       "      <td>...</td>\n",
       "      <td>...</td>\n",
       "    </tr>\n",
       "    <tr>\n",
       "      <th>16710</th>\n",
       "      <td>samurai warriors: sanada maru</td>\n",
       "      <td>ps3</td>\n",
       "      <td>2016.0</td>\n",
       "      <td>action</td>\n",
       "      <td>0.00</td>\n",
       "      <td>0.00</td>\n",
       "      <td>0.01</td>\n",
       "      <td>0.00</td>\n",
       "      <td>NaN</td>\n",
       "      <td>NaN</td>\n",
       "      <td>no rating</td>\n",
       "    </tr>\n",
       "    <tr>\n",
       "      <th>16711</th>\n",
       "      <td>lma manager 2007</td>\n",
       "      <td>x360</td>\n",
       "      <td>2006.0</td>\n",
       "      <td>sports</td>\n",
       "      <td>0.00</td>\n",
       "      <td>0.01</td>\n",
       "      <td>0.00</td>\n",
       "      <td>0.00</td>\n",
       "      <td>NaN</td>\n",
       "      <td>NaN</td>\n",
       "      <td>no rating</td>\n",
       "    </tr>\n",
       "    <tr>\n",
       "      <th>16712</th>\n",
       "      <td>haitaka no psychedelica</td>\n",
       "      <td>psv</td>\n",
       "      <td>2016.0</td>\n",
       "      <td>adventure</td>\n",
       "      <td>0.00</td>\n",
       "      <td>0.00</td>\n",
       "      <td>0.01</td>\n",
       "      <td>0.00</td>\n",
       "      <td>NaN</td>\n",
       "      <td>NaN</td>\n",
       "      <td>no rating</td>\n",
       "    </tr>\n",
       "    <tr>\n",
       "      <th>16713</th>\n",
       "      <td>spirits &amp; spells</td>\n",
       "      <td>gba</td>\n",
       "      <td>2003.0</td>\n",
       "      <td>platform</td>\n",
       "      <td>0.01</td>\n",
       "      <td>0.00</td>\n",
       "      <td>0.00</td>\n",
       "      <td>0.00</td>\n",
       "      <td>NaN</td>\n",
       "      <td>NaN</td>\n",
       "      <td>no rating</td>\n",
       "    </tr>\n",
       "    <tr>\n",
       "      <th>16714</th>\n",
       "      <td>winning post 8 2016</td>\n",
       "      <td>psv</td>\n",
       "      <td>2016.0</td>\n",
       "      <td>simulation</td>\n",
       "      <td>0.00</td>\n",
       "      <td>0.00</td>\n",
       "      <td>0.01</td>\n",
       "      <td>0.00</td>\n",
       "      <td>NaN</td>\n",
       "      <td>NaN</td>\n",
       "      <td>no rating</td>\n",
       "    </tr>\n",
       "  </tbody>\n",
       "</table>\n",
       "<p>6605 rows × 11 columns</p>\n",
       "</div>"
      ],
      "text/plain": [
       "                                name platform  year_of_release         genre  \\\n",
       "1                  super mario bros.      nes           1985.0      platform   \n",
       "4           pokemon red/pokemon blue       gb           1996.0  role-playing   \n",
       "5                             tetris       gb           1989.0        puzzle   \n",
       "9                          duck hunt      nes           1984.0       shooter   \n",
       "10                        nintendogs       ds           2005.0    simulation   \n",
       "...                              ...      ...              ...           ...   \n",
       "16710  samurai warriors: sanada maru      ps3           2016.0        action   \n",
       "16711               lma manager 2007     x360           2006.0        sports   \n",
       "16712        haitaka no psychedelica      psv           2016.0     adventure   \n",
       "16713               spirits & spells      gba           2003.0      platform   \n",
       "16714            winning post 8 2016      psv           2016.0    simulation   \n",
       "\n",
       "       na_sales  eu_sales  jp_sales  other_sales  critic_score user_score  \\\n",
       "1         29.08      3.58      6.81         0.77           NaN        NaN   \n",
       "4         11.27      8.89     10.22         1.00           NaN        NaN   \n",
       "5         23.20      2.26      4.22         0.58           NaN        NaN   \n",
       "9         26.93      0.63      0.28         0.47           NaN        NaN   \n",
       "10         9.05     10.95      1.93         2.74           NaN        NaN   \n",
       "...         ...       ...       ...          ...           ...        ...   \n",
       "16710      0.00      0.00      0.01         0.00           NaN        NaN   \n",
       "16711      0.00      0.01      0.00         0.00           NaN        NaN   \n",
       "16712      0.00      0.00      0.01         0.00           NaN        NaN   \n",
       "16713      0.01      0.00      0.00         0.00           NaN        NaN   \n",
       "16714      0.00      0.00      0.01         0.00           NaN        NaN   \n",
       "\n",
       "          rating  \n",
       "1      no rating  \n",
       "4      no rating  \n",
       "5      no rating  \n",
       "9      no rating  \n",
       "10     no rating  \n",
       "...          ...  \n",
       "16710  no rating  \n",
       "16711  no rating  \n",
       "16712  no rating  \n",
       "16713  no rating  \n",
       "16714  no rating  \n",
       "\n",
       "[6605 rows x 11 columns]"
      ]
     },
     "execution_count": 75,
     "metadata": {},
     "output_type": "execute_result"
    }
   ],
   "source": [
    "df[df['user_score'].isna()]"
   ]
  },
  {
   "cell_type": "code",
   "execution_count": 76,
   "metadata": {},
   "outputs": [
    {
     "data": {
      "text/html": [
       "<div>\n",
       "<style scoped>\n",
       "    .dataframe tbody tr th:only-of-type {\n",
       "        vertical-align: middle;\n",
       "    }\n",
       "\n",
       "    .dataframe tbody tr th {\n",
       "        vertical-align: top;\n",
       "    }\n",
       "\n",
       "    .dataframe thead th {\n",
       "        text-align: right;\n",
       "    }\n",
       "</style>\n",
       "<table border=\"1\" class=\"dataframe\">\n",
       "  <thead>\n",
       "    <tr style=\"text-align: right;\">\n",
       "      <th></th>\n",
       "      <th>name</th>\n",
       "      <th>platform</th>\n",
       "      <th>year_of_release</th>\n",
       "      <th>genre</th>\n",
       "      <th>na_sales</th>\n",
       "      <th>eu_sales</th>\n",
       "      <th>jp_sales</th>\n",
       "      <th>other_sales</th>\n",
       "      <th>critic_score</th>\n",
       "      <th>user_score</th>\n",
       "      <th>rating</th>\n",
       "    </tr>\n",
       "  </thead>\n",
       "  <tbody>\n",
       "  </tbody>\n",
       "</table>\n",
       "</div>"
      ],
      "text/plain": [
       "Empty DataFrame\n",
       "Columns: [name, platform, year_of_release, genre, na_sales, eu_sales, jp_sales, other_sales, critic_score, user_score, rating]\n",
       "Index: []"
      ]
     },
     "execution_count": 76,
     "metadata": {},
     "output_type": "execute_result"
    }
   ],
   "source": [
    "df[df['rating'].isna()]"
   ]
  },
  {
   "cell_type": "markdown",
   "metadata": {},
   "source": [
    "<div class=\"alert alert-info\">\n",
    "<font color='Blue'>\n",
    "    <b>Проверю наличие дубликатов"
   ]
  },
  {
   "cell_type": "code",
   "execution_count": 77,
   "metadata": {},
   "outputs": [
    {
     "data": {
      "text/plain": [
       "0"
      ]
     },
     "execution_count": 77,
     "metadata": {},
     "output_type": "execute_result"
    }
   ],
   "source": [
    "df.duplicated().sum() "
   ]
  },
  {
   "cell_type": "code",
   "execution_count": 78,
   "metadata": {},
   "outputs": [
    {
     "data": {
      "text/html": [
       "<div>\n",
       "<style scoped>\n",
       "    .dataframe tbody tr th:only-of-type {\n",
       "        vertical-align: middle;\n",
       "    }\n",
       "\n",
       "    .dataframe tbody tr th {\n",
       "        vertical-align: top;\n",
       "    }\n",
       "\n",
       "    .dataframe thead th {\n",
       "        text-align: right;\n",
       "    }\n",
       "</style>\n",
       "<table border=\"1\" class=\"dataframe\">\n",
       "  <thead>\n",
       "    <tr style=\"text-align: right;\">\n",
       "      <th></th>\n",
       "      <th>name</th>\n",
       "      <th>platform</th>\n",
       "      <th>year_of_release</th>\n",
       "      <th>genre</th>\n",
       "      <th>na_sales</th>\n",
       "      <th>eu_sales</th>\n",
       "      <th>jp_sales</th>\n",
       "      <th>other_sales</th>\n",
       "      <th>critic_score</th>\n",
       "      <th>user_score</th>\n",
       "      <th>rating</th>\n",
       "    </tr>\n",
       "  </thead>\n",
       "  <tbody>\n",
       "    <tr>\n",
       "      <th>1591</th>\n",
       "      <td>need for speed: most wanted</td>\n",
       "      <td>x360</td>\n",
       "      <td>2005.0</td>\n",
       "      <td>racing</td>\n",
       "      <td>1.0</td>\n",
       "      <td>0.13</td>\n",
       "      <td>0.02</td>\n",
       "      <td>0.10</td>\n",
       "      <td>83.0</td>\n",
       "      <td>8.5</td>\n",
       "      <td>t</td>\n",
       "    </tr>\n",
       "    <tr>\n",
       "      <th>11715</th>\n",
       "      <td>need for speed: most wanted</td>\n",
       "      <td>pc</td>\n",
       "      <td>2012.0</td>\n",
       "      <td>racing</td>\n",
       "      <td>0.0</td>\n",
       "      <td>0.06</td>\n",
       "      <td>0.00</td>\n",
       "      <td>0.02</td>\n",
       "      <td>82.0</td>\n",
       "      <td>8.5</td>\n",
       "      <td>t</td>\n",
       "    </tr>\n",
       "    <tr>\n",
       "      <th>16230</th>\n",
       "      <td>madden nfl 13</td>\n",
       "      <td>ps3</td>\n",
       "      <td>2012.0</td>\n",
       "      <td>sports</td>\n",
       "      <td>0.0</td>\n",
       "      <td>0.01</td>\n",
       "      <td>0.00</td>\n",
       "      <td>0.00</td>\n",
       "      <td>83.0</td>\n",
       "      <td>5.5</td>\n",
       "      <td>e</td>\n",
       "    </tr>\n",
       "  </tbody>\n",
       "</table>\n",
       "</div>"
      ],
      "text/plain": [
       "                              name platform  year_of_release   genre  \\\n",
       "1591   need for speed: most wanted     x360           2005.0  racing   \n",
       "11715  need for speed: most wanted       pc           2012.0  racing   \n",
       "16230                madden nfl 13      ps3           2012.0  sports   \n",
       "\n",
       "       na_sales  eu_sales  jp_sales  other_sales  critic_score user_score  \\\n",
       "1591        1.0      0.13      0.02         0.10          83.0        8.5   \n",
       "11715       0.0      0.06      0.00         0.02          82.0        8.5   \n",
       "16230       0.0      0.01      0.00         0.00          83.0        5.5   \n",
       "\n",
       "      rating  \n",
       "1591       t  \n",
       "11715      t  \n",
       "16230      e  "
      ]
     },
     "execution_count": 78,
     "metadata": {},
     "output_type": "execute_result"
    }
   ],
   "source": [
    "df[df.duplicated(subset=['name', 'platform'])]"
   ]
  },
  {
   "cell_type": "markdown",
   "metadata": {},
   "source": [
    "<div class=\"alert alert-info\">\n",
    "<font color='Blue'>\n",
    "    <b>Ппривожу данные в столбце \"year_of_release\" типу \"int\""
   ]
  },
  {
   "cell_type": "code",
   "execution_count": 79,
   "metadata": {},
   "outputs": [
    {
     "data": {
      "text/html": [
       "<div>\n",
       "<style scoped>\n",
       "    .dataframe tbody tr th:only-of-type {\n",
       "        vertical-align: middle;\n",
       "    }\n",
       "\n",
       "    .dataframe tbody tr th {\n",
       "        vertical-align: top;\n",
       "    }\n",
       "\n",
       "    .dataframe thead th {\n",
       "        text-align: right;\n",
       "    }\n",
       "</style>\n",
       "<table border=\"1\" class=\"dataframe\">\n",
       "  <thead>\n",
       "    <tr style=\"text-align: right;\">\n",
       "      <th></th>\n",
       "      <th>name</th>\n",
       "      <th>platform</th>\n",
       "      <th>year_of_release</th>\n",
       "      <th>genre</th>\n",
       "      <th>na_sales</th>\n",
       "      <th>eu_sales</th>\n",
       "      <th>jp_sales</th>\n",
       "      <th>other_sales</th>\n",
       "      <th>critic_score</th>\n",
       "      <th>user_score</th>\n",
       "      <th>rating</th>\n",
       "    </tr>\n",
       "  </thead>\n",
       "  <tbody>\n",
       "    <tr>\n",
       "      <th>0</th>\n",
       "      <td>wii sports</td>\n",
       "      <td>wii</td>\n",
       "      <td>2006</td>\n",
       "      <td>sports</td>\n",
       "      <td>41.36</td>\n",
       "      <td>28.96</td>\n",
       "      <td>3.77</td>\n",
       "      <td>8.45</td>\n",
       "      <td>76.0</td>\n",
       "      <td>8</td>\n",
       "      <td>e</td>\n",
       "    </tr>\n",
       "    <tr>\n",
       "      <th>1</th>\n",
       "      <td>super mario bros.</td>\n",
       "      <td>nes</td>\n",
       "      <td>1985</td>\n",
       "      <td>platform</td>\n",
       "      <td>29.08</td>\n",
       "      <td>3.58</td>\n",
       "      <td>6.81</td>\n",
       "      <td>0.77</td>\n",
       "      <td>NaN</td>\n",
       "      <td>NaN</td>\n",
       "      <td>no rating</td>\n",
       "    </tr>\n",
       "    <tr>\n",
       "      <th>2</th>\n",
       "      <td>mario kart wii</td>\n",
       "      <td>wii</td>\n",
       "      <td>2008</td>\n",
       "      <td>racing</td>\n",
       "      <td>15.68</td>\n",
       "      <td>12.76</td>\n",
       "      <td>3.79</td>\n",
       "      <td>3.29</td>\n",
       "      <td>82.0</td>\n",
       "      <td>8.3</td>\n",
       "      <td>e</td>\n",
       "    </tr>\n",
       "    <tr>\n",
       "      <th>3</th>\n",
       "      <td>wii sports resort</td>\n",
       "      <td>wii</td>\n",
       "      <td>2009</td>\n",
       "      <td>sports</td>\n",
       "      <td>15.61</td>\n",
       "      <td>10.93</td>\n",
       "      <td>3.28</td>\n",
       "      <td>2.95</td>\n",
       "      <td>80.0</td>\n",
       "      <td>8</td>\n",
       "      <td>e</td>\n",
       "    </tr>\n",
       "    <tr>\n",
       "      <th>4</th>\n",
       "      <td>pokemon red/pokemon blue</td>\n",
       "      <td>gb</td>\n",
       "      <td>1996</td>\n",
       "      <td>role-playing</td>\n",
       "      <td>11.27</td>\n",
       "      <td>8.89</td>\n",
       "      <td>10.22</td>\n",
       "      <td>1.00</td>\n",
       "      <td>NaN</td>\n",
       "      <td>NaN</td>\n",
       "      <td>no rating</td>\n",
       "    </tr>\n",
       "  </tbody>\n",
       "</table>\n",
       "</div>"
      ],
      "text/plain": [
       "                       name platform  year_of_release         genre  na_sales  \\\n",
       "0                wii sports      wii             2006        sports     41.36   \n",
       "1         super mario bros.      nes             1985      platform     29.08   \n",
       "2            mario kart wii      wii             2008        racing     15.68   \n",
       "3         wii sports resort      wii             2009        sports     15.61   \n",
       "4  pokemon red/pokemon blue       gb             1996  role-playing     11.27   \n",
       "\n",
       "   eu_sales  jp_sales  other_sales  critic_score user_score     rating  \n",
       "0     28.96      3.77         8.45          76.0          8          e  \n",
       "1      3.58      6.81         0.77           NaN        NaN  no rating  \n",
       "2     12.76      3.79         3.29          82.0        8.3          e  \n",
       "3     10.93      3.28         2.95          80.0          8          e  \n",
       "4      8.89     10.22         1.00           NaN        NaN  no rating  "
      ]
     },
     "execution_count": 79,
     "metadata": {},
     "output_type": "execute_result"
    }
   ],
   "source": [
    "df['year_of_release'] = df['year_of_release'].astype('Int64')\n",
    "df.head()"
   ]
  },
  {
   "cell_type": "code",
   "execution_count": 80,
   "metadata": {},
   "outputs": [
    {
     "data": {
      "text/html": [
       "<div>\n",
       "<style scoped>\n",
       "    .dataframe tbody tr th:only-of-type {\n",
       "        vertical-align: middle;\n",
       "    }\n",
       "\n",
       "    .dataframe tbody tr th {\n",
       "        vertical-align: top;\n",
       "    }\n",
       "\n",
       "    .dataframe thead th {\n",
       "        text-align: right;\n",
       "    }\n",
       "</style>\n",
       "<table border=\"1\" class=\"dataframe\">\n",
       "  <thead>\n",
       "    <tr style=\"text-align: right;\">\n",
       "      <th></th>\n",
       "      <th>name</th>\n",
       "      <th>platform</th>\n",
       "      <th>year_of_release</th>\n",
       "      <th>genre</th>\n",
       "      <th>na_sales</th>\n",
       "      <th>eu_sales</th>\n",
       "      <th>jp_sales</th>\n",
       "      <th>other_sales</th>\n",
       "      <th>critic_score</th>\n",
       "      <th>user_score</th>\n",
       "      <th>rating</th>\n",
       "    </tr>\n",
       "  </thead>\n",
       "  <tbody>\n",
       "    <tr>\n",
       "      <th>1</th>\n",
       "      <td>super mario bros.</td>\n",
       "      <td>nes</td>\n",
       "      <td>1985</td>\n",
       "      <td>platform</td>\n",
       "      <td>29.08</td>\n",
       "      <td>3.58</td>\n",
       "      <td>6.81</td>\n",
       "      <td>0.77</td>\n",
       "      <td>NaN</td>\n",
       "      <td>NaN</td>\n",
       "      <td>no rating</td>\n",
       "    </tr>\n",
       "    <tr>\n",
       "      <th>4</th>\n",
       "      <td>pokemon red/pokemon blue</td>\n",
       "      <td>gb</td>\n",
       "      <td>1996</td>\n",
       "      <td>role-playing</td>\n",
       "      <td>11.27</td>\n",
       "      <td>8.89</td>\n",
       "      <td>10.22</td>\n",
       "      <td>1.00</td>\n",
       "      <td>NaN</td>\n",
       "      <td>NaN</td>\n",
       "      <td>no rating</td>\n",
       "    </tr>\n",
       "    <tr>\n",
       "      <th>5</th>\n",
       "      <td>tetris</td>\n",
       "      <td>gb</td>\n",
       "      <td>1989</td>\n",
       "      <td>puzzle</td>\n",
       "      <td>23.20</td>\n",
       "      <td>2.26</td>\n",
       "      <td>4.22</td>\n",
       "      <td>0.58</td>\n",
       "      <td>NaN</td>\n",
       "      <td>NaN</td>\n",
       "      <td>no rating</td>\n",
       "    </tr>\n",
       "    <tr>\n",
       "      <th>9</th>\n",
       "      <td>duck hunt</td>\n",
       "      <td>nes</td>\n",
       "      <td>1984</td>\n",
       "      <td>shooter</td>\n",
       "      <td>26.93</td>\n",
       "      <td>0.63</td>\n",
       "      <td>0.28</td>\n",
       "      <td>0.47</td>\n",
       "      <td>NaN</td>\n",
       "      <td>NaN</td>\n",
       "      <td>no rating</td>\n",
       "    </tr>\n",
       "    <tr>\n",
       "      <th>10</th>\n",
       "      <td>nintendogs</td>\n",
       "      <td>ds</td>\n",
       "      <td>2005</td>\n",
       "      <td>simulation</td>\n",
       "      <td>9.05</td>\n",
       "      <td>10.95</td>\n",
       "      <td>1.93</td>\n",
       "      <td>2.74</td>\n",
       "      <td>NaN</td>\n",
       "      <td>NaN</td>\n",
       "      <td>no rating</td>\n",
       "    </tr>\n",
       "    <tr>\n",
       "      <th>...</th>\n",
       "      <td>...</td>\n",
       "      <td>...</td>\n",
       "      <td>...</td>\n",
       "      <td>...</td>\n",
       "      <td>...</td>\n",
       "      <td>...</td>\n",
       "      <td>...</td>\n",
       "      <td>...</td>\n",
       "      <td>...</td>\n",
       "      <td>...</td>\n",
       "      <td>...</td>\n",
       "    </tr>\n",
       "    <tr>\n",
       "      <th>16710</th>\n",
       "      <td>samurai warriors: sanada maru</td>\n",
       "      <td>ps3</td>\n",
       "      <td>2016</td>\n",
       "      <td>action</td>\n",
       "      <td>0.00</td>\n",
       "      <td>0.00</td>\n",
       "      <td>0.01</td>\n",
       "      <td>0.00</td>\n",
       "      <td>NaN</td>\n",
       "      <td>NaN</td>\n",
       "      <td>no rating</td>\n",
       "    </tr>\n",
       "    <tr>\n",
       "      <th>16711</th>\n",
       "      <td>lma manager 2007</td>\n",
       "      <td>x360</td>\n",
       "      <td>2006</td>\n",
       "      <td>sports</td>\n",
       "      <td>0.00</td>\n",
       "      <td>0.01</td>\n",
       "      <td>0.00</td>\n",
       "      <td>0.00</td>\n",
       "      <td>NaN</td>\n",
       "      <td>NaN</td>\n",
       "      <td>no rating</td>\n",
       "    </tr>\n",
       "    <tr>\n",
       "      <th>16712</th>\n",
       "      <td>haitaka no psychedelica</td>\n",
       "      <td>psv</td>\n",
       "      <td>2016</td>\n",
       "      <td>adventure</td>\n",
       "      <td>0.00</td>\n",
       "      <td>0.00</td>\n",
       "      <td>0.01</td>\n",
       "      <td>0.00</td>\n",
       "      <td>NaN</td>\n",
       "      <td>NaN</td>\n",
       "      <td>no rating</td>\n",
       "    </tr>\n",
       "    <tr>\n",
       "      <th>16713</th>\n",
       "      <td>spirits &amp; spells</td>\n",
       "      <td>gba</td>\n",
       "      <td>2003</td>\n",
       "      <td>platform</td>\n",
       "      <td>0.01</td>\n",
       "      <td>0.00</td>\n",
       "      <td>0.00</td>\n",
       "      <td>0.00</td>\n",
       "      <td>NaN</td>\n",
       "      <td>NaN</td>\n",
       "      <td>no rating</td>\n",
       "    </tr>\n",
       "    <tr>\n",
       "      <th>16714</th>\n",
       "      <td>winning post 8 2016</td>\n",
       "      <td>psv</td>\n",
       "      <td>2016</td>\n",
       "      <td>simulation</td>\n",
       "      <td>0.00</td>\n",
       "      <td>0.00</td>\n",
       "      <td>0.01</td>\n",
       "      <td>0.00</td>\n",
       "      <td>NaN</td>\n",
       "      <td>NaN</td>\n",
       "      <td>no rating</td>\n",
       "    </tr>\n",
       "  </tbody>\n",
       "</table>\n",
       "<p>8461 rows × 11 columns</p>\n",
       "</div>"
      ],
      "text/plain": [
       "                                name platform  year_of_release         genre  \\\n",
       "1                  super mario bros.      nes             1985      platform   \n",
       "4           pokemon red/pokemon blue       gb             1996  role-playing   \n",
       "5                             tetris       gb             1989        puzzle   \n",
       "9                          duck hunt      nes             1984       shooter   \n",
       "10                        nintendogs       ds             2005    simulation   \n",
       "...                              ...      ...              ...           ...   \n",
       "16710  samurai warriors: sanada maru      ps3             2016        action   \n",
       "16711               lma manager 2007     x360             2006        sports   \n",
       "16712        haitaka no psychedelica      psv             2016     adventure   \n",
       "16713               spirits & spells      gba             2003      platform   \n",
       "16714            winning post 8 2016      psv             2016    simulation   \n",
       "\n",
       "       na_sales  eu_sales  jp_sales  other_sales  critic_score user_score  \\\n",
       "1         29.08      3.58      6.81         0.77           NaN        NaN   \n",
       "4         11.27      8.89     10.22         1.00           NaN        NaN   \n",
       "5         23.20      2.26      4.22         0.58           NaN        NaN   \n",
       "9         26.93      0.63      0.28         0.47           NaN        NaN   \n",
       "10         9.05     10.95      1.93         2.74           NaN        NaN   \n",
       "...         ...       ...       ...          ...           ...        ...   \n",
       "16710      0.00      0.00      0.01         0.00           NaN        NaN   \n",
       "16711      0.00      0.01      0.00         0.00           NaN        NaN   \n",
       "16712      0.00      0.00      0.01         0.00           NaN        NaN   \n",
       "16713      0.01      0.00      0.00         0.00           NaN        NaN   \n",
       "16714      0.00      0.00      0.01         0.00           NaN        NaN   \n",
       "\n",
       "          rating  \n",
       "1      no rating  \n",
       "4      no rating  \n",
       "5      no rating  \n",
       "9      no rating  \n",
       "10     no rating  \n",
       "...          ...  \n",
       "16710  no rating  \n",
       "16711  no rating  \n",
       "16712  no rating  \n",
       "16713  no rating  \n",
       "16714  no rating  \n",
       "\n",
       "[8461 rows x 11 columns]"
      ]
     },
     "execution_count": 80,
     "metadata": {},
     "output_type": "execute_result"
    }
   ],
   "source": [
    "df[df['critic_score'].isna()]"
   ]
  },
  {
   "cell_type": "markdown",
   "metadata": {},
   "source": [
    "<div class=\"alert alert-info\">\n",
    "<font color='Blue'>\n",
    "<b> В столбце \"user_score\" имеется аббревиатура \"tbd\" - to be done (будет сделано), заменяю на NaN, что бы не мешало для дальнейшего статистического анализа:   "
   ]
  },
  {
   "cell_type": "code",
   "execution_count": 81,
   "metadata": {},
   "outputs": [
    {
     "data": {
      "text/plain": [
       "dtype('float64')"
      ]
     },
     "execution_count": 81,
     "metadata": {},
     "output_type": "execute_result"
    }
   ],
   "source": [
    "df['user_score'] = df['user_score'].replace('tbd', np.nan, regex=True)\n",
    "df['user_score'] = df['user_score'].astype(float)\n",
    "df['user_score'].dtype"
   ]
  },
  {
   "cell_type": "markdown",
   "metadata": {},
   "source": [
    "<div class=\"alert alert-info\">\n",
    "<font color='Blue'>\n",
    "    <b> Посчитаем суммарные продажи во всех регионах и запишу в отдельный столбец:"
   ]
  },
  {
   "cell_type": "code",
   "execution_count": 82,
   "metadata": {},
   "outputs": [
    {
     "data": {
      "text/html": [
       "<div>\n",
       "<style scoped>\n",
       "    .dataframe tbody tr th:only-of-type {\n",
       "        vertical-align: middle;\n",
       "    }\n",
       "\n",
       "    .dataframe tbody tr th {\n",
       "        vertical-align: top;\n",
       "    }\n",
       "\n",
       "    .dataframe thead th {\n",
       "        text-align: right;\n",
       "    }\n",
       "</style>\n",
       "<table border=\"1\" class=\"dataframe\">\n",
       "  <thead>\n",
       "    <tr style=\"text-align: right;\">\n",
       "      <th></th>\n",
       "      <th>name</th>\n",
       "      <th>platform</th>\n",
       "      <th>year_of_release</th>\n",
       "      <th>genre</th>\n",
       "      <th>na_sales</th>\n",
       "      <th>eu_sales</th>\n",
       "      <th>jp_sales</th>\n",
       "      <th>other_sales</th>\n",
       "      <th>critic_score</th>\n",
       "      <th>user_score</th>\n",
       "      <th>rating</th>\n",
       "      <th>total_sales</th>\n",
       "    </tr>\n",
       "  </thead>\n",
       "  <tbody>\n",
       "    <tr>\n",
       "      <th>0</th>\n",
       "      <td>wii sports</td>\n",
       "      <td>wii</td>\n",
       "      <td>2006</td>\n",
       "      <td>sports</td>\n",
       "      <td>41.36</td>\n",
       "      <td>28.96</td>\n",
       "      <td>3.77</td>\n",
       "      <td>8.45</td>\n",
       "      <td>76.0</td>\n",
       "      <td>8.0</td>\n",
       "      <td>e</td>\n",
       "      <td>82.54</td>\n",
       "    </tr>\n",
       "    <tr>\n",
       "      <th>1</th>\n",
       "      <td>super mario bros.</td>\n",
       "      <td>nes</td>\n",
       "      <td>1985</td>\n",
       "      <td>platform</td>\n",
       "      <td>29.08</td>\n",
       "      <td>3.58</td>\n",
       "      <td>6.81</td>\n",
       "      <td>0.77</td>\n",
       "      <td>NaN</td>\n",
       "      <td>NaN</td>\n",
       "      <td>no rating</td>\n",
       "      <td>40.24</td>\n",
       "    </tr>\n",
       "    <tr>\n",
       "      <th>2</th>\n",
       "      <td>mario kart wii</td>\n",
       "      <td>wii</td>\n",
       "      <td>2008</td>\n",
       "      <td>racing</td>\n",
       "      <td>15.68</td>\n",
       "      <td>12.76</td>\n",
       "      <td>3.79</td>\n",
       "      <td>3.29</td>\n",
       "      <td>82.0</td>\n",
       "      <td>8.3</td>\n",
       "      <td>e</td>\n",
       "      <td>35.52</td>\n",
       "    </tr>\n",
       "    <tr>\n",
       "      <th>3</th>\n",
       "      <td>wii sports resort</td>\n",
       "      <td>wii</td>\n",
       "      <td>2009</td>\n",
       "      <td>sports</td>\n",
       "      <td>15.61</td>\n",
       "      <td>10.93</td>\n",
       "      <td>3.28</td>\n",
       "      <td>2.95</td>\n",
       "      <td>80.0</td>\n",
       "      <td>8.0</td>\n",
       "      <td>e</td>\n",
       "      <td>32.77</td>\n",
       "    </tr>\n",
       "    <tr>\n",
       "      <th>4</th>\n",
       "      <td>pokemon red/pokemon blue</td>\n",
       "      <td>gb</td>\n",
       "      <td>1996</td>\n",
       "      <td>role-playing</td>\n",
       "      <td>11.27</td>\n",
       "      <td>8.89</td>\n",
       "      <td>10.22</td>\n",
       "      <td>1.00</td>\n",
       "      <td>NaN</td>\n",
       "      <td>NaN</td>\n",
       "      <td>no rating</td>\n",
       "      <td>31.38</td>\n",
       "    </tr>\n",
       "  </tbody>\n",
       "</table>\n",
       "</div>"
      ],
      "text/plain": [
       "                       name platform  year_of_release         genre  na_sales  \\\n",
       "0                wii sports      wii             2006        sports     41.36   \n",
       "1         super mario bros.      nes             1985      platform     29.08   \n",
       "2            mario kart wii      wii             2008        racing     15.68   \n",
       "3         wii sports resort      wii             2009        sports     15.61   \n",
       "4  pokemon red/pokemon blue       gb             1996  role-playing     11.27   \n",
       "\n",
       "   eu_sales  jp_sales  other_sales  critic_score  user_score     rating  \\\n",
       "0     28.96      3.77         8.45          76.0         8.0          e   \n",
       "1      3.58      6.81         0.77           NaN         NaN  no rating   \n",
       "2     12.76      3.79         3.29          82.0         8.3          e   \n",
       "3     10.93      3.28         2.95          80.0         8.0          e   \n",
       "4      8.89     10.22         1.00           NaN         NaN  no rating   \n",
       "\n",
       "   total_sales  \n",
       "0        82.54  \n",
       "1        40.24  \n",
       "2        35.52  \n",
       "3        32.77  \n",
       "4        31.38  "
      ]
     },
     "execution_count": 82,
     "metadata": {},
     "output_type": "execute_result"
    }
   ],
   "source": [
    "#Создаю новый столбец total_sales и прибавляю продажи всех столбцов\n",
    "df['total_sales'] = df['na_sales'] + df['eu_sales'] + df['jp_sales'] + df['other_sales']\n",
    "df.head()"
   ]
  },
  {
   "cell_type": "markdown",
   "metadata": {},
   "source": [
    "## 3. Исследовательский анализ данных"
   ]
  },
  {
   "cell_type": "markdown",
   "metadata": {},
   "source": [
    "<div class=\"alert alert-info\">\n",
    "<font color='Blue'>\n",
    "\n",
    "   <b>Посмотрим, сколько игр выпускалось в разные годы. Важны ли данные за все периоды?"
   ]
  },
  {
   "cell_type": "code",
   "execution_count": 83,
   "metadata": {},
   "outputs": [
    {
     "data": {
      "image/png": "[encoded data removed]",
      "text/plain": [
       "<Figure size 1296x432 with 1 Axes>"
      ]
     },
     "metadata": {
      "needs_background": "light"
     },
     "output_type": "display_data"
    }
   ],
   "source": [
    "# Методом pivot отсортируем таблицы и построим график\n",
    "games_per_years = df.pivot_table(index='year_of_release', values='name', aggfunc='count').reset_index()\n",
    "plt.figure(figsize=(18, 6))\n",
    "sns.barplot(data = games_per_years, x='year_of_release', y='name')\n",
    "plt.title(\"Количество игр выпускаемых в разные года\")\n",
    "plt.xlabel(\"Год выпуска\")\n",
    "plt.ylabel(\"Количество выпущенных игр\")\n",
    "plt.show()"
   ]
  },
  {
   "cell_type": "markdown",
   "metadata": {},
   "source": [
    "\n",
    "<div class=\"alert alert-block alert-info\">\n",
    "<b>Добавил plt.show()</b>\n",
    "</div>"
   ]
  },
  {
   "cell_type": "markdown",
   "metadata": {},
   "source": [
    "<div class=\"alert alert-info\">\n",
    "<font color='Blue'> <b>Вывод:</b>\n",
    "    <p>\n",
    "    По графику видно, что количество игр начинает расти с 1991 года до 2008-2009 годов, после чего заметно снижение количества игр и стабилизация примерно на одном уровне в 2012-2016 годах.\n",
    "        <p> Данные с 1980 по 1990 не сильно менялись и были значительно ниже количества игр с 1991 и для планирования компании на 2017 год эти данные не важны."
   ]
  },
  {
   "cell_type": "markdown",
   "metadata": {},
   "source": [
    "<div class=\"alert alert-info\">\n",
    "<font color='Blue'>\n",
    "\n",
    "   <b> Посмотрим, как менялись продажи по платформам. Выберем платформы с наибольшими суммарными продажами и построим распределение по годам. За какой характерный срок появляются новые и исчезают старые платформы?"
   ]
  },
  {
   "cell_type": "code",
   "execution_count": 84,
   "metadata": {},
   "outputs": [
    {
     "data": {
      "text/plain": [
       "Text(0, 0.5, 'Количество продаж')"
      ]
     },
     "execution_count": 84,
     "metadata": {},
     "output_type": "execute_result"
    },
    {
     "data": {
      "image/png": "[encoded data removed]",
      "text/plain": [
       "<Figure size 1296x432 with 1 Axes>"
      ]
     },
     "metadata": {
      "needs_background": "light"
     },
     "output_type": "display_data"
    }
   ],
   "source": [
    "platform_sales_sum = df.pivot_table(\n",
    "    index='platform', values='total_sales', aggfunc='sum').sort_values(by='total_sales', ascending=False)\n",
    "plt.figure(figsize=(18,6))\n",
    "sns.barplot(x=platform_sales_sum.index,y=platform_sales_sum['total_sales'])\n",
    "plt.title(\"Продажи по платформам за весь период\")\n",
    "plt.xlabel(\"Название платформы\")\n",
    "plt.ylabel(\"Количество продаж\")"
   ]
  },
  {
   "cell_type": "markdown",
   "metadata": {},
   "source": [
    "<div class=\"alert alert-info\">\n",
    "<font color='Blue'> <b>Вывод:</b>\n",
    "    <p>\n",
    "    По графику видно, что есть шесть игровых платфор, которые самые популярные, это top_6: <b>ps2, x360, ps3, wii, ds и ps."
   ]
  },
  {
   "cell_type": "markdown",
   "metadata": {},
   "source": [
    "<div class=\"alert alert-info\">\n",
    "<font color='Blue'>\n",
    "\n",
    "   <b> Возьмем данные за соответствующий актуальный период. Актуальный период определим самостоятельно в результате исследования предыдущих вопросов. Основной фактор — эти данные помогут построить прогноз на 2017 год. <p></b>\n",
    "       Не будем учитывать в работе данные за предыдущие годы.  <p>\n",
    "    <b> Какие платформы лидируют по продажам, растут или падают? Выберем несколько потенциально прибыльных платформ. "
   ]
  },
  {
   "cell_type": "code",
   "execution_count": 85,
   "metadata": {},
   "outputs": [
    {
     "data": {
      "text/html": [
       "<div>\n",
       "<style scoped>\n",
       "    .dataframe tbody tr th:only-of-type {\n",
       "        vertical-align: middle;\n",
       "    }\n",
       "\n",
       "    .dataframe tbody tr th {\n",
       "        vertical-align: top;\n",
       "    }\n",
       "\n",
       "    .dataframe thead th {\n",
       "        text-align: right;\n",
       "    }\n",
       "</style>\n",
       "<table border=\"1\" class=\"dataframe\">\n",
       "  <thead>\n",
       "    <tr style=\"text-align: right;\">\n",
       "      <th></th>\n",
       "      <th>platform</th>\n",
       "      <th>total_sales</th>\n",
       "    </tr>\n",
       "  </thead>\n",
       "  <tbody>\n",
       "    <tr>\n",
       "      <th>0</th>\n",
       "      <td>ps2</td>\n",
       "      <td>1233.56</td>\n",
       "    </tr>\n",
       "    <tr>\n",
       "      <th>1</th>\n",
       "      <td>x360</td>\n",
       "      <td>961.24</td>\n",
       "    </tr>\n",
       "    <tr>\n",
       "      <th>2</th>\n",
       "      <td>ps3</td>\n",
       "      <td>931.34</td>\n",
       "    </tr>\n",
       "    <tr>\n",
       "      <th>3</th>\n",
       "      <td>wii</td>\n",
       "      <td>891.18</td>\n",
       "    </tr>\n",
       "    <tr>\n",
       "      <th>4</th>\n",
       "      <td>ds</td>\n",
       "      <td>802.78</td>\n",
       "    </tr>\n",
       "    <tr>\n",
       "      <th>5</th>\n",
       "      <td>ps</td>\n",
       "      <td>727.58</td>\n",
       "    </tr>\n",
       "  </tbody>\n",
       "</table>\n",
       "</div>"
      ],
      "text/plain": [
       "  platform  total_sales\n",
       "0      ps2      1233.56\n",
       "1     x360       961.24\n",
       "2      ps3       931.34\n",
       "3      wii       891.18\n",
       "4       ds       802.78\n",
       "5       ps       727.58"
      ]
     },
     "execution_count": 85,
     "metadata": {},
     "output_type": "execute_result"
    }
   ],
   "source": [
    "# Построю таблицу и графики по платформам и их обшим продажам по убыванию для top_6.\n",
    "top_6_platforms = df.pivot_table(index='platform', values='total_sales', aggfunc='sum').sort_values(by='total_sales', ascending=False).head(6)\n",
    "top_6_platforms = top_6_platforms.reset_index().rename_axis(None, axis=1)\n",
    "top_6_platforms"
   ]
  },
  {
   "cell_type": "code",
   "execution_count": 86,
   "metadata": {},
   "outputs": [
    {
     "data": {
      "image/png": "[encoded data removed]",
      "text/plain": [
       "<Figure size 1152x360 with 1 Axes>"
      ]
     },
     "metadata": {
      "needs_background": "light"
     },
     "output_type": "display_data"
    },
    {
     "data": {
      "image/png": "[encoded data removed]",
      "text/plain": [
       "<Figure size 1152x360 with 1 Axes>"
      ]
     },
     "metadata": {
      "needs_background": "light"
     },
     "output_type": "display_data"
    },
    {
     "data": {
      "image/png": "[encoded data removed]",
      "text/plain": [
       "<Figure size 1152x360 with 1 Axes>"
      ]
     },
     "metadata": {
      "needs_background": "light"
     },
     "output_type": "display_data"
    },
    {
     "data": {
      "image/png": "[encoded data removed]",
      "text/plain": [
       "<Figure size 1152x360 with 1 Axes>"
      ]
     },
     "metadata": {
      "needs_background": "light"
     },
     "output_type": "display_data"
    },
    {
     "data": {
      "image/png": "[encoded data removed]",
      "text/plain": [
       "<Figure size 1152x360 with 1 Axes>"
      ]
     },
     "metadata": {
      "needs_background": "light"
     },
     "output_type": "display_data"
    },
    {
     "data": {
      "image/png": "[encoded data removed]",
      "text/plain": [
       "<Figure size 1152x360 with 1 Axes>"
      ]
     },
     "metadata": {
      "needs_background": "light"
     },
     "output_type": "display_data"
    }
   ],
   "source": [
    "\n",
    "top_6_platforms = top_6_platforms['platform'].unique() #создадим словарь наиболее прибыльных платформ\n",
    "for platform in top_6_platforms:\n",
    "    df[df['platform'] == platform].pivot_table(index='year_of_release', values='total_sales', aggfunc='sum').plot(kind='bar', figsize=(16,5))\n",
    "    plt.title(platform)"
   ]
  },
  {
   "cell_type": "code",
   "execution_count": 140,
   "metadata": {},
   "outputs": [
    {
     "data": {
      "text/html": [
       "<div>\n",
       "<style scoped>\n",
       "    .dataframe tbody tr th:only-of-type {\n",
       "        vertical-align: middle;\n",
       "    }\n",
       "\n",
       "    .dataframe tbody tr th {\n",
       "        vertical-align: top;\n",
       "    }\n",
       "\n",
       "    .dataframe thead th {\n",
       "        text-align: right;\n",
       "    }\n",
       "</style>\n",
       "<table border=\"1\" class=\"dataframe\">\n",
       "  <thead>\n",
       "    <tr style=\"text-align: right;\">\n",
       "      <th>platform</th>\n",
       "      <th>3ds</th>\n",
       "      <th>ds</th>\n",
       "      <th>pc</th>\n",
       "      <th>ps2</th>\n",
       "      <th>ps3</th>\n",
       "      <th>ps4</th>\n",
       "      <th>psp</th>\n",
       "      <th>psv</th>\n",
       "      <th>wii</th>\n",
       "      <th>wiiu</th>\n",
       "      <th>x360</th>\n",
       "      <th>xone</th>\n",
       "    </tr>\n",
       "    <tr>\n",
       "      <th>year_of_release</th>\n",
       "      <th></th>\n",
       "      <th></th>\n",
       "      <th></th>\n",
       "      <th></th>\n",
       "      <th></th>\n",
       "      <th></th>\n",
       "      <th></th>\n",
       "      <th></th>\n",
       "      <th></th>\n",
       "      <th></th>\n",
       "      <th></th>\n",
       "      <th></th>\n",
       "    </tr>\n",
       "  </thead>\n",
       "  <tbody>\n",
       "    <tr>\n",
       "      <th>2011</th>\n",
       "      <td>0.544828</td>\n",
       "      <td>0.171111</td>\n",
       "      <td>0.252014</td>\n",
       "      <td>0.064286</td>\n",
       "      <td>0.729209</td>\n",
       "      <td>NaN</td>\n",
       "      <td>0.128201</td>\n",
       "      <td>0.257222</td>\n",
       "      <td>0.417133</td>\n",
       "      <td>NaN</td>\n",
       "      <td>0.698252</td>\n",
       "      <td>NaN</td>\n",
       "    </tr>\n",
       "    <tr>\n",
       "      <th>2012</th>\n",
       "      <td>0.552258</td>\n",
       "      <td>0.478696</td>\n",
       "      <td>0.380656</td>\n",
       "      <td>NaN</td>\n",
       "      <td>0.725405</td>\n",
       "      <td>NaN</td>\n",
       "      <td>0.072547</td>\n",
       "      <td>0.305472</td>\n",
       "      <td>0.700323</td>\n",
       "      <td>0.548750</td>\n",
       "      <td>0.940943</td>\n",
       "      <td>NaN</td>\n",
       "    </tr>\n",
       "    <tr>\n",
       "      <th>2013</th>\n",
       "      <td>0.621648</td>\n",
       "      <td>0.192500</td>\n",
       "      <td>0.325789</td>\n",
       "      <td>NaN</td>\n",
       "      <td>0.898810</td>\n",
       "      <td>1.624375</td>\n",
       "      <td>0.058148</td>\n",
       "      <td>0.168095</td>\n",
       "      <td>0.715833</td>\n",
       "      <td>0.515476</td>\n",
       "      <td>1.181067</td>\n",
       "      <td>0.997895</td>\n",
       "    </tr>\n",
       "    <tr>\n",
       "      <th>2014</th>\n",
       "      <td>0.547000</td>\n",
       "      <td>NaN</td>\n",
       "      <td>0.282553</td>\n",
       "      <td>NaN</td>\n",
       "      <td>0.442222</td>\n",
       "      <td>1.333333</td>\n",
       "      <td>0.024000</td>\n",
       "      <td>0.119000</td>\n",
       "      <td>0.625000</td>\n",
       "      <td>0.710645</td>\n",
       "      <td>0.551429</td>\n",
       "      <td>0.886393</td>\n",
       "    </tr>\n",
       "    <tr>\n",
       "      <th>2015</th>\n",
       "      <td>0.323023</td>\n",
       "      <td>NaN</td>\n",
       "      <td>0.170400</td>\n",
       "      <td>NaN</td>\n",
       "      <td>0.230411</td>\n",
       "      <td>0.867883</td>\n",
       "      <td>0.040000</td>\n",
       "      <td>0.056818</td>\n",
       "      <td>0.285000</td>\n",
       "      <td>0.583929</td>\n",
       "      <td>0.341714</td>\n",
       "      <td>0.751750</td>\n",
       "    </tr>\n",
       "  </tbody>\n",
       "</table>\n",
       "</div>"
      ],
      "text/plain": [
       "platform              3ds        ds        pc       ps2       ps3       ps4  \\\n",
       "year_of_release                                                               \n",
       "2011             0.544828  0.171111  0.252014  0.064286  0.729209       NaN   \n",
       "2012             0.552258  0.478696  0.380656       NaN  0.725405       NaN   \n",
       "2013             0.621648  0.192500  0.325789       NaN  0.898810  1.624375   \n",
       "2014             0.547000       NaN  0.282553       NaN  0.442222  1.333333   \n",
       "2015             0.323023       NaN  0.170400       NaN  0.230411  0.867883   \n",
       "\n",
       "platform              psp       psv       wii      wiiu      x360      xone  \n",
       "year_of_release                                                              \n",
       "2011             0.128201  0.257222  0.417133       NaN  0.698252       NaN  \n",
       "2012             0.072547  0.305472  0.700323  0.548750  0.940943       NaN  \n",
       "2013             0.058148  0.168095  0.715833  0.515476  1.181067  0.997895  \n",
       "2014             0.024000  0.119000  0.625000  0.710645  0.551429  0.886393  \n",
       "2015             0.040000  0.056818  0.285000  0.583929  0.341714  0.751750  "
      ]
     },
     "execution_count": 140,
     "metadata": {},
     "output_type": "execute_result"
    }
   ],
   "source": [
    "tmp1=df.query('year_of_release>2010')\n",
    "tmp = tmp1.pivot_table(index=\"year_of_release\",columns= \"platform\",values= \"total_sales\")\n",
    "tmp.head(5)\n",
    "\n"
   ]
  },
  {
   "cell_type": "code",
   "execution_count": 141,
   "metadata": {},
   "outputs": [
    {
     "data": {
      "text/plain": [
       "<AxesSubplot:xlabel='year_of_release'>"
      ]
     },
     "execution_count": 141,
     "metadata": {},
     "output_type": "execute_result"
    },
    {
     "data": {
      "image/png": "[encoded data removed]",
      "text/plain": [
       "<Figure size 1080x720 with 1 Axes>"
      ]
     },
     "metadata": {
      "needs_background": "light"
     },
     "output_type": "display_data"
    }
   ],
   "source": [
    "plt.rcParams['figure.figsize']=(15,10)\n",
    "sns.lineplot(data=tmp)\n"
   ]
  },
  {
   "cell_type": "markdown",
   "metadata": {},
   "source": [
    "<div class=\"alert alert-info\">\n",
    "<font color='Blue'> <b>Вывод:</b>\n",
    "    <p>\n",
    "Игровые платформы в среднем существуют около 10 лет <p>\n",
    "Cамые продаваемые это PS2, x360 и PS3  <p>\n",
    "Пик продаж игровых платформ наступает в среднем на 4-6 год после выхода <p>\n",
    "В качестве актуального периода возьму 2006-2016г для прогноза на 2017 год <p>\n",
    "Платформа ps перестала выпускаться после 2003 года "
   ]
  },
  {
   "cell_type": "markdown",
   "metadata": {},
   "source": [
    "<div class=\"alert alert-block alert-info\">\n",
    "<b>Сделал срез по актуальному периоду:</b>\n",
    "</div>"
   ]
  },
  {
   "cell_type": "code",
   "execution_count": 89,
   "metadata": {},
   "outputs": [
    {
     "data": {
      "text/html": [
       "<div>\n",
       "<style scoped>\n",
       "    .dataframe tbody tr th:only-of-type {\n",
       "        vertical-align: middle;\n",
       "    }\n",
       "\n",
       "    .dataframe tbody tr th {\n",
       "        vertical-align: top;\n",
       "    }\n",
       "\n",
       "    .dataframe thead th {\n",
       "        text-align: right;\n",
       "    }\n",
       "</style>\n",
       "<table border=\"1\" class=\"dataframe\">\n",
       "  <thead>\n",
       "    <tr style=\"text-align: right;\">\n",
       "      <th></th>\n",
       "      <th>name</th>\n",
       "      <th>platform</th>\n",
       "      <th>year_of_release</th>\n",
       "      <th>genre</th>\n",
       "      <th>na_sales</th>\n",
       "      <th>eu_sales</th>\n",
       "      <th>jp_sales</th>\n",
       "      <th>other_sales</th>\n",
       "      <th>critic_score</th>\n",
       "      <th>user_score</th>\n",
       "      <th>rating</th>\n",
       "      <th>total_sales</th>\n",
       "    </tr>\n",
       "  </thead>\n",
       "  <tbody>\n",
       "    <tr>\n",
       "      <th>31</th>\n",
       "      <td>call of duty: black ops 3</td>\n",
       "      <td>ps4</td>\n",
       "      <td>2015</td>\n",
       "      <td>shooter</td>\n",
       "      <td>6.03</td>\n",
       "      <td>5.86</td>\n",
       "      <td>0.36</td>\n",
       "      <td>2.38</td>\n",
       "      <td>NaN</td>\n",
       "      <td>NaN</td>\n",
       "      <td>no rating</td>\n",
       "      <td>14.63</td>\n",
       "    </tr>\n",
       "    <tr>\n",
       "      <th>77</th>\n",
       "      <td>fifa 16</td>\n",
       "      <td>ps4</td>\n",
       "      <td>2015</td>\n",
       "      <td>sports</td>\n",
       "      <td>1.12</td>\n",
       "      <td>6.12</td>\n",
       "      <td>0.06</td>\n",
       "      <td>1.28</td>\n",
       "      <td>82.0</td>\n",
       "      <td>4.3</td>\n",
       "      <td>e</td>\n",
       "      <td>8.58</td>\n",
       "    </tr>\n",
       "    <tr>\n",
       "      <th>87</th>\n",
       "      <td>star wars battlefront (2015)</td>\n",
       "      <td>ps4</td>\n",
       "      <td>2015</td>\n",
       "      <td>shooter</td>\n",
       "      <td>2.99</td>\n",
       "      <td>3.49</td>\n",
       "      <td>0.22</td>\n",
       "      <td>1.28</td>\n",
       "      <td>NaN</td>\n",
       "      <td>NaN</td>\n",
       "      <td>no rating</td>\n",
       "      <td>7.98</td>\n",
       "    </tr>\n",
       "    <tr>\n",
       "      <th>94</th>\n",
       "      <td>fifa 17</td>\n",
       "      <td>ps4</td>\n",
       "      <td>2016</td>\n",
       "      <td>sports</td>\n",
       "      <td>0.66</td>\n",
       "      <td>5.75</td>\n",
       "      <td>0.08</td>\n",
       "      <td>1.11</td>\n",
       "      <td>85.0</td>\n",
       "      <td>5.0</td>\n",
       "      <td>e</td>\n",
       "      <td>7.60</td>\n",
       "    </tr>\n",
       "    <tr>\n",
       "      <th>99</th>\n",
       "      <td>call of duty: black ops 3</td>\n",
       "      <td>xone</td>\n",
       "      <td>2015</td>\n",
       "      <td>shooter</td>\n",
       "      <td>4.59</td>\n",
       "      <td>2.11</td>\n",
       "      <td>0.01</td>\n",
       "      <td>0.68</td>\n",
       "      <td>NaN</td>\n",
       "      <td>NaN</td>\n",
       "      <td>no rating</td>\n",
       "      <td>7.39</td>\n",
       "    </tr>\n",
       "  </tbody>\n",
       "</table>\n",
       "</div>"
      ],
      "text/plain": [
       "                            name platform  year_of_release    genre  na_sales  \\\n",
       "31     call of duty: black ops 3      ps4             2015  shooter      6.03   \n",
       "77                       fifa 16      ps4             2015   sports      1.12   \n",
       "87  star wars battlefront (2015)      ps4             2015  shooter      2.99   \n",
       "94                       fifa 17      ps4             2016   sports      0.66   \n",
       "99     call of duty: black ops 3     xone             2015  shooter      4.59   \n",
       "\n",
       "    eu_sales  jp_sales  other_sales  critic_score  user_score     rating  \\\n",
       "31      5.86      0.36         2.38           NaN         NaN  no rating   \n",
       "77      6.12      0.06         1.28          82.0         4.3          e   \n",
       "87      3.49      0.22         1.28           NaN         NaN  no rating   \n",
       "94      5.75      0.08         1.11          85.0         5.0          e   \n",
       "99      2.11      0.01         0.68           NaN         NaN  no rating   \n",
       "\n",
       "    total_sales  \n",
       "31        14.63  \n",
       "77         8.58  \n",
       "87         7.98  \n",
       "94         7.60  \n",
       "99         7.39  "
      ]
     },
     "execution_count": 89,
     "metadata": {},
     "output_type": "execute_result"
    }
   ],
   "source": [
    "df_actual_period=df.query('year_of_release>2014')\n",
    "df_actual_period.head()"
   ]
  },
  {
   "cell_type": "code",
   "execution_count": 90,
   "metadata": {},
   "outputs": [
    {
     "data": {
      "text/html": [
       "<div>\n",
       "<style scoped>\n",
       "    .dataframe tbody tr th:only-of-type {\n",
       "        vertical-align: middle;\n",
       "    }\n",
       "\n",
       "    .dataframe tbody tr th {\n",
       "        vertical-align: top;\n",
       "    }\n",
       "\n",
       "    .dataframe thead th {\n",
       "        text-align: right;\n",
       "    }\n",
       "</style>\n",
       "<table border=\"1\" class=\"dataframe\">\n",
       "  <thead>\n",
       "    <tr style=\"text-align: right;\">\n",
       "      <th></th>\n",
       "      <th>total_sales</th>\n",
       "    </tr>\n",
       "    <tr>\n",
       "      <th>platform</th>\n",
       "      <th></th>\n",
       "    </tr>\n",
       "  </thead>\n",
       "  <tbody>\n",
       "    <tr>\n",
       "      <th>ps4</th>\n",
       "      <td>188.15</td>\n",
       "    </tr>\n",
       "    <tr>\n",
       "      <th>xone</th>\n",
       "      <td>86.29</td>\n",
       "    </tr>\n",
       "    <tr>\n",
       "      <th>3ds</th>\n",
       "      <td>42.92</td>\n",
       "    </tr>\n",
       "    <tr>\n",
       "      <th>wiiu</th>\n",
       "      <td>20.95</td>\n",
       "    </tr>\n",
       "    <tr>\n",
       "      <th>ps3</th>\n",
       "      <td>20.42</td>\n",
       "    </tr>\n",
       "    <tr>\n",
       "      <th>pc</th>\n",
       "      <td>13.77</td>\n",
       "    </tr>\n",
       "  </tbody>\n",
       "</table>\n",
       "</div>"
      ],
      "text/plain": [
       "          total_sales\n",
       "platform             \n",
       "ps4            188.15\n",
       "xone            86.29\n",
       "3ds             42.92\n",
       "wiiu            20.95\n",
       "ps3             20.42\n",
       "pc              13.77"
      ]
     },
     "execution_count": 90,
     "metadata": {},
     "output_type": "execute_result"
    }
   ],
   "source": [
    "top_6_platforms_actual_period = df_actual_period.pivot_table(index='platform', values='total_sales', aggfunc='sum').sort_values(by='total_sales', ascending=False).head(6)\n",
    "top_6_platforms_actual_period"
   ]
  },
  {
   "cell_type": "markdown",
   "metadata": {},
   "source": [
    "<div class=\"alert alert-info\">\n",
    "<font color='Blue'>\n",
    "\n",
    "   <b> Построим график «ящик с усами» по глобальным продажам игр в разбивке по платформам. Опишем результат."
   ]
  },
  {
   "cell_type": "code",
   "execution_count": 91,
   "metadata": {},
   "outputs": [],
   "source": [
    "#Сохраним в переменной df_top_5_platforms топ 5 платформ и избавимся от выбросов\n",
    "list_of_top6 = ['ps4','xone','3ds','wiiu','ps3','pc']\n",
    "df_top_6_platforms = df[df['platform'].isin(['ps4','xone','3ds','wiiu','ps3','pc'])]\n",
    "df_top_6_platforms = df_top_6_platforms[df_top_6_platforms['total_sales']<1.4]"
   ]
  },
  {
   "cell_type": "code",
   "execution_count": 92,
   "metadata": {},
   "outputs": [
    {
     "data": {
      "text/plain": [
       "count    3219.000000\n",
       "mean        0.260354\n",
       "std         0.316451\n",
       "min         0.000000\n",
       "25%         0.040000\n",
       "50%         0.120000\n",
       "75%         0.370000\n",
       "max         1.390000\n",
       "Name: total_sales, dtype: float64"
      ]
     },
     "execution_count": 92,
     "metadata": {},
     "output_type": "execute_result"
    }
   ],
   "source": [
    "df_top_6_platforms['total_sales'].describe()"
   ]
  },
  {
   "cell_type": "code",
   "execution_count": 93,
   "metadata": {},
   "outputs": [
    {
     "data": {
      "text/plain": [
       "Text(0, 0.5, 'Глобальные продажи')"
      ]
     },
     "execution_count": 93,
     "metadata": {},
     "output_type": "execute_result"
    },
    {
     "data": {
      "image/png": "[encoded data removed]",
      "text/plain": [
       "<Figure size 864x432 with 1 Axes>"
      ]
     },
     "metadata": {
      "needs_background": "light"
     },
     "output_type": "display_data"
    }
   ],
   "source": [
    "#Отрисуем ящики с усами \n",
    "plt.figure(figsize=(12,6))\n",
    "sns.boxplot(data=df_top_6_platforms, x='platform', y='total_sales')\n",
    "plt.title('Ящик с усами', fontsize=18)\n",
    "plt.xlabel('Платформа', fontsize=12)\n",
    "plt.ylabel('Глобальные продажи',fontsize=12)"
   ]
  },
  {
   "cell_type": "markdown",
   "metadata": {},
   "source": [
    "<div class=\"alert alert-info\">\n",
    "<font color='Blue'> <b>Вывод:</b>\n",
    "    <p>\n",
    "Провели срез данных для того, чтоыб отрисовать ящики с усами. <p>\n",
    "По графику видно, что медиана у всех имеет разное значение<p>\n",
    "Больше всех продаж у ps3, потом xone, wiiu, ps4, 3ds и pc на последнем месте. "
   ]
  },
  {
   "cell_type": "markdown",
   "metadata": {},
   "source": [
    "<div class=\"alert alert-info\">\n",
    "   \n",
    "<font color='Blue'>\n",
    "\n",
    "   <b> Посмотрим, как влияют на продажи внутри одной популярной платформы отзывы пользователей и критиков. Построем диаграмму рассеяния и посчитаем корреляцию между отзывами и продажами. Сформулируем выводы."
   ]
  },
  {
   "cell_type": "code",
   "execution_count": 94,
   "metadata": {},
   "outputs": [
    {
     "data": {
      "text/plain": [
       "-0.16529542277898507"
      ]
     },
     "execution_count": 94,
     "metadata": {},
     "output_type": "execute_result"
    }
   ],
   "source": [
    "#Корреляция между оценками пользователей и продажами \n",
    "ps3 = df_actual_period[df_actual_period['platform']=='ps3']\n",
    "ps3['user_score'].corr(ps3['total_sales'])"
   ]
  },
  {
   "cell_type": "code",
   "execution_count": 95,
   "metadata": {},
   "outputs": [
    {
     "data": {
      "text/plain": [
       "Text(0.5, 1.0, 'test')"
      ]
     },
     "execution_count": 95,
     "metadata": {},
     "output_type": "execute_result"
    },
    {
     "data": {
      "image/png": "[encoded data removed]",
      "text/plain": [
       "<Figure size 1152x288 with 1 Axes>"
      ]
     },
     "metadata": {
      "needs_background": "light"
     },
     "output_type": "display_data"
    }
   ],
   "source": [
    "#Построю диаграмму рассеяния по оценкам пользователей\n",
    "plt.figure(figsize=(16,4))\n",
    "sns.scatterplot(x='user_score', y='total_sales', data=ps3)\n",
    "plt.title('test')"
   ]
  },
  {
   "cell_type": "markdown",
   "metadata": {},
   "source": [
    "<div class=\"alert alert-info\">\n",
    "<font color='Blue'>\n",
    "\n",
    "   <b> Соотнесем выводы с продажами игр на других платформах."
   ]
  },
  {
   "cell_type": "code",
   "execution_count": 98,
   "metadata": {},
   "outputs": [],
   "source": [
    "#Напишем функцию, которая будет отрисовывать графики рассеивания и считать корреляции\n",
    "def other_platform_matrix(name_of_platform):\n",
    "    platform = df_actual_period[df_actual_period['platform']==name_of_platform]\n",
    "    fig, ax = plt.subplots(1 ,2, figsize=(15,5))\n",
    "    sns.scatterplot(x='user_score', y='total_sales', data=platform, ax=ax[0])\n",
    "    sns.scatterplot(x='critic_score', y='total_sales', data=platform, ax=ax[1])\n",
    "    fig.suptitle(name_of_platform, fontsize=15)\n",
    "    ax[0].set(xlabel='Оценка пользователей')\n",
    "    ax[1].set(xlabel='Оценка критиков')\n",
    "    ax[0].set(ylabel='Количество продаж')\n",
    "    ax[1].set(ylabel='Количество продаж')\n",
    "    plt.show()\n",
    "    \n",
    "    correl = platform['user_score'].corr(platform['total_sales'])\n",
    "    critic_correl = platform['critic_score'].corr(platform['total_sales'])\n",
    "    \n",
    "    \n",
    "    if 0.3 >= critic_correl >= 0.1:\n",
    "        print('Корреляция между отзывами критиков и игровой платформой ', name_of_platform.upper(), ': Слабая', critic_correl)\n",
    "    if 0.5 >= critic_correl >= 0.3:\n",
    "        print('Корреляция между отзывами критиков и игровой платформой ', name_of_platform.upper(), ': Умеренная', critic_correl)\n",
    "    if 0.7 >= critic_correl >= 0.5:\n",
    "        print('Корреляция между отзывами критиков и игровой платформой ', name_of_platform.upper(), ': Высокая', critic_correl)\n",
    "    if 0.9 >= critic_correl >= 0.7:\n",
    "        print('Корреляция между отзывами критиков и игровой платформой ', name_of_platform.upper(), ': Весьма высокая', critic_correl)\n",
    "    if 1 >= critic_correl >= 0.9:\n",
    "        print('Корреляция между отзывами критиков и игровой платформой ', name_of_platform.upper(), ': Сильная', critic_correl)\n",
    "    \n",
    "    if 0.3 >= correl >= 0.1:\n",
    "        print('Корреляция между отзывами пользователей и продажами ', name_of_platform.upper(), ': Слабая', correl)\n",
    "    if 0.5 >= correl >= 0.3:\n",
    "        print('Корреляция между отзывами пользователей и продажами ', name_of_platform.upper(), ': Умеренная', correl)\n",
    "    if 0.7 >= correl >= 0.5:\n",
    "        print('Корреляция между отзывами пользователей и продажами ', name_of_platform.upper(), ': Высокая', correl)\n",
    "    if 0.9 >= correl >= 0.7:\n",
    "        print('Корреляция между отзывами пользователей и продажами ', name_of_platform.upper(), ': Весьма высокая', correl)\n",
    "    if 1 >= correl >= 0.9:\n",
    "        print('Корреляция между отзывами пользователей и продажами ', name_of_platform.upper(), ': Сильная', correl)\n",
    "    print('\\n')"
   ]
  },
  {
   "cell_type": "code",
   "execution_count": 99,
   "metadata": {},
   "outputs": [
    {
     "data": {
      "image/png": "[encoded data removed]",
      "text/plain": [
       "<Figure size 1080x360 with 2 Axes>"
      ]
     },
     "metadata": {
      "needs_background": "light"
     },
     "output_type": "display_data"
    },
    {
     "name": "stdout",
     "output_type": "stream",
     "text": [
      "Корреляция между отзывами критиков и игровой платформой  PS4 : Умеренная 0.39284855551305986\n",
      "\n",
      "\n"
     ]
    },
    {
     "data": {
      "image/png": "[encoded data removed]",
      "text/plain": [
       "<Figure size 1080x360 with 2 Axes>"
      ]
     },
     "metadata": {
      "needs_background": "light"
     },
     "output_type": "display_data"
    },
    {
     "name": "stdout",
     "output_type": "stream",
     "text": [
      "Корреляция между отзывами критиков и игровой платформой  XONE : Умеренная 0.43088874582136805\n",
      "\n",
      "\n"
     ]
    },
    {
     "data": {
      "image/png": "[encoded data removed]",
      "text/plain": [
       "<Figure size 1080x360 with 2 Axes>"
      ]
     },
     "metadata": {
      "needs_background": "light"
     },
     "output_type": "display_data"
    },
    {
     "name": "stdout",
     "output_type": "stream",
     "text": [
      "Корреляция между отзывами критиков и игровой платформой  3DS : Слабая 0.17757455046092874\n",
      "Корреляция между отзывами пользователей и продажами  3DS : Слабая 0.19879627008102982\n",
      "\n",
      "\n"
     ]
    },
    {
     "data": {
      "image/png": "[encoded data removed]",
      "text/plain": [
       "<Figure size 1080x360 with 2 Axes>"
      ]
     },
     "metadata": {
      "needs_background": "light"
     },
     "output_type": "display_data"
    },
    {
     "name": "stdout",
     "output_type": "stream",
     "text": [
      "Корреляция между отзывами критиков и игровой платформой  WIIU : Умеренная 0.317045711769622\n",
      "Корреляция между отзывами пользователей и продажами  WIIU : Умеренная 0.3635185724809445\n",
      "\n",
      "\n"
     ]
    },
    {
     "data": {
      "image/png": "[encoded data removed]",
      "text/plain": [
       "<Figure size 1080x360 with 2 Axes>"
      ]
     },
     "metadata": {
      "needs_background": "light"
     },
     "output_type": "display_data"
    },
    {
     "name": "stderr",
     "output_type": "stream",
     "text": [
      "/opt/conda/lib/python3.9/site-packages/numpy/lib/function_base.py:2821: RuntimeWarning: Degrees of freedom <= 0 for slice\n",
      "  c = cov(x, y, rowvar, dtype=dtype)\n",
      "/opt/conda/lib/python3.9/site-packages/numpy/lib/function_base.py:2680: RuntimeWarning: divide by zero encountered in true_divide\n",
      "  c *= np.true_divide(1, fact)\n"
     ]
    },
    {
     "name": "stdout",
     "output_type": "stream",
     "text": [
      "\n",
      "\n"
     ]
    },
    {
     "data": {
      "image/png": "[encoded data removed]",
      "text/plain": [
       "<Figure size 1080x360 with 2 Axes>"
      ]
     },
     "metadata": {
      "needs_background": "light"
     },
     "output_type": "display_data"
    },
    {
     "name": "stdout",
     "output_type": "stream",
     "text": [
      "Корреляция между отзывами критиков и игровой платформой  PC : Умеренная 0.3773317477241351\n",
      "Корреляция между отзывами пользователей и продажами  PC : Слабая 0.15038053045029076\n",
      "\n",
      "\n"
     ]
    }
   ],
   "source": [
    "#С помощью цикла выведем графики для top_6\n",
    "for platform in list_of_top6:\n",
    "    other_platform_matrix(platform)"
   ]
  },
  {
   "cell_type": "markdown",
   "metadata": {},
   "source": [
    "<div class=\"alert alert-block alert-info\">\n",
    "<b>Исправил на актуальные платформы</b>\n",
    "</div>"
   ]
  },
  {
   "cell_type": "code",
   "execution_count": 100,
   "metadata": {},
   "outputs": [
    {
     "name": "stdout",
     "output_type": "stream",
     "text": [
      "Дисперсия PS4 : 2.121796544989326\n",
      "Стандартное отклонение PS4 : 1.4566387832916319\n",
      "Среднее PS4 : 6.748249027237354\n",
      "Медиана PS4 : 7.0\n",
      "\n",
      "\n",
      "Дисперсия XONE : 1.8965188383045526\n",
      "Стандартное отклонение XONE : 1.377141546212499\n",
      "Среднее XONE : 6.521428571428572\n",
      "Медиана XONE : 6.8\n",
      "\n",
      "\n",
      "Дисперсия 3DS : 2.0111507814370233\n",
      "Стандартное отклонение 3DS : 1.4181504791230808\n",
      "Среднее 3DS : 6.85204678362573\n",
      "Медиана 3DS : 7.1\n",
      "\n",
      "\n",
      "Дисперсия WIIU : 2.039784\n",
      "Стандартное отклонение WIIU : 1.4282100685823498\n",
      "Среднее WIIU : 6.904\n",
      "Медиана WIIU : 7.1\n",
      "\n",
      "\n",
      "Дисперсия PS3 : 2.1387598085040085\n",
      "Стандартное отклонение PS3 : 1.462449933674315\n",
      "Среднее PS3 : 6.719512195121951\n",
      "Медиана PS3 : 7.1\n",
      "\n",
      "\n",
      "Дисперсия PC : 2.346112819613175\n",
      "Стандартное отклонение PC : 1.5317025884985553\n",
      "Среднее PC : 7.065960264900661\n",
      "Медиана PC : 7.5\n",
      "\n",
      "\n"
     ]
    }
   ],
   "source": [
    "#Посчитаю дисперсию, стандартное отклонение, среднее и медиану у top_6 платформ к оценкам пользователей\n",
    "for platform in list_of_top6:\n",
    "    print('Дисперсия', platform.upper(),':', np.var(df[df['platform']==platform]['user_score']))\n",
    "    print('Стандартное отклонение', platform.upper(),':', np.std(df[df['platform']==platform]['user_score']))\n",
    "    print('Среднее',platform.upper(),':',  df[df['platform']==platform]['user_score'].mean())\n",
    "    print('Медиана',platform.upper(),':',  df[df['platform']==platform]['user_score'].median())\n",
    "    print('\\n')"
   ]
  },
  {
   "cell_type": "code",
   "execution_count": 101,
   "metadata": {},
   "outputs": [
    {
     "name": "stdout",
     "output_type": "stream",
     "text": [
      "Дисперсия PS4 : 155.28135235575712\n",
      "Стандартное отклонение PS4 : 12.561166634972878\n",
      "Среднее PS4 : 71.89189189189189\n",
      "Медиана PS4 : 73.0\n",
      "\n",
      "\n",
      "Дисперсия XONE : 166.7994117853016\n",
      "Стандартное отклонение XONE : 12.803708407316678\n",
      "Среднее XONE : 73.60714285714286\n",
      "Медиана XONE : 76.0\n",
      "\n",
      "\n",
      "Дисперсия 3DS : 154.2164319930324\n",
      "Стандартное отклонение 3DS : 10.512435306630898\n",
      "Среднее 3DS : 71.37931034482759\n",
      "Медиана 3DS : 72.0\n",
      "\n",
      "\n",
      "Дисперсия WIIU : 213.39555555555555\n",
      "Стандартное отклонение WIIU : 13.036839481771239\n",
      "Среднее WIIU : 71.42857142857143\n",
      "Медиана WIIU : 73.5\n",
      "\n",
      "\n",
      "Дисперсия PS3 : 197.1644560159402\n",
      "Стандартное отклонение PS3 : 0.0\n",
      "Среднее PS3 : 63.0\n",
      "Медиана PS3 : 63.0\n",
      "\n",
      "\n",
      "Дисперсия PC : 124.94031326174118\n",
      "Стандартное отклонение PC : 10.19130780452641\n",
      "Среднее PC : 76.21794871794872\n",
      "Медиана PC : 76.0\n",
      "\n",
      "\n"
     ]
    }
   ],
   "source": [
    "#Посчитаю дисперсию, стандартное отклонение, среднее и медиану у top_6 платформ к оценкам критиков\n",
    "for platform in list_of_top6:\n",
    "    print('Дисперсия', platform.upper(),':', np.var(df[df['platform']==platform]['critic_score']))\n",
    "    print('Стандартное отклонение', platform.upper(),':', np.std(df_actual_period[df_actual_period['platform']==platform]['critic_score']))\n",
    "    print('Среднее',platform.upper(),':',  df_actual_period[df_actual_period['platform']==platform]['critic_score'].mean())\n",
    "    print('Медиана',platform.upper(),':',  df_actual_period[df_actual_period['platform']==platform]['critic_score'].median())\n",
    "    print('\\n')"
   ]
  },
  {
   "cell_type": "markdown",
   "metadata": {},
   "source": [
    "<div class=\"alert alert-info\">\n",
    "<font color='Blue'>\n",
    "   <b> Посмотрим на общее распределение игр по жанрам. Что можно сказать о самых прибыльных жанрах? Выделяются ли жанры с высокими и низкими продажами?"
   ]
  },
  {
   "cell_type": "code",
   "execution_count": 102,
   "metadata": {},
   "outputs": [
    {
     "data": {
      "text/html": [
       "<div>\n",
       "<style scoped>\n",
       "    .dataframe tbody tr th:only-of-type {\n",
       "        vertical-align: middle;\n",
       "    }\n",
       "\n",
       "    .dataframe tbody tr th {\n",
       "        vertical-align: top;\n",
       "    }\n",
       "\n",
       "    .dataframe thead th {\n",
       "        text-align: right;\n",
       "    }\n",
       "</style>\n",
       "<table border=\"1\" class=\"dataframe\">\n",
       "  <thead>\n",
       "    <tr style=\"text-align: right;\">\n",
       "      <th></th>\n",
       "      <th>genre</th>\n",
       "      <th>total_sales</th>\n",
       "    </tr>\n",
       "  </thead>\n",
       "  <tbody>\n",
       "    <tr>\n",
       "      <th>0</th>\n",
       "      <td>shooter</td>\n",
       "      <td>105.73</td>\n",
       "    </tr>\n",
       "    <tr>\n",
       "      <th>1</th>\n",
       "      <td>action</td>\n",
       "      <td>102.13</td>\n",
       "    </tr>\n",
       "    <tr>\n",
       "      <th>2</th>\n",
       "      <td>sports</td>\n",
       "      <td>64.33</td>\n",
       "    </tr>\n",
       "    <tr>\n",
       "      <th>3</th>\n",
       "      <td>role-playing</td>\n",
       "      <td>55.82</td>\n",
       "    </tr>\n",
       "    <tr>\n",
       "      <th>4</th>\n",
       "      <td>misc</td>\n",
       "      <td>14.17</td>\n",
       "    </tr>\n",
       "    <tr>\n",
       "      <th>5</th>\n",
       "      <td>fighting</td>\n",
       "      <td>12.37</td>\n",
       "    </tr>\n",
       "    <tr>\n",
       "      <th>6</th>\n",
       "      <td>adventure</td>\n",
       "      <td>11.98</td>\n",
       "    </tr>\n",
       "    <tr>\n",
       "      <th>7</th>\n",
       "      <td>racing</td>\n",
       "      <td>10.86</td>\n",
       "    </tr>\n",
       "    <tr>\n",
       "      <th>8</th>\n",
       "      <td>platform</td>\n",
       "      <td>9.28</td>\n",
       "    </tr>\n",
       "    <tr>\n",
       "      <th>9</th>\n",
       "      <td>simulation</td>\n",
       "      <td>7.55</td>\n",
       "    </tr>\n",
       "    <tr>\n",
       "      <th>10</th>\n",
       "      <td>strategy</td>\n",
       "      <td>2.98</td>\n",
       "    </tr>\n",
       "    <tr>\n",
       "      <th>11</th>\n",
       "      <td>puzzle</td>\n",
       "      <td>0.72</td>\n",
       "    </tr>\n",
       "  </tbody>\n",
       "</table>\n",
       "</div>"
      ],
      "text/plain": [
       "           genre  total_sales\n",
       "0        shooter       105.73\n",
       "1         action       102.13\n",
       "2         sports        64.33\n",
       "3   role-playing        55.82\n",
       "4           misc        14.17\n",
       "5       fighting        12.37\n",
       "6      adventure        11.98\n",
       "7         racing        10.86\n",
       "8       platform         9.28\n",
       "9     simulation         7.55\n",
       "10      strategy         2.98\n",
       "11        puzzle         0.72"
      ]
     },
     "execution_count": 102,
     "metadata": {},
     "output_type": "execute_result"
    }
   ],
   "source": [
    "# Методом pivot выведу жанры и их продажи по убыванию. \n",
    "distr_genre = df_actual_period.pivot_table(\n",
    "    index='genre', values='total_sales', aggfunc='sum').sort_values(by='total_sales', ascending=False)\n",
    "distr_genre = distr_genre.reset_index().rename_axis(None, axis=1)\n",
    "distr_genre"
   ]
  },
  {
   "cell_type": "code",
   "execution_count": 103,
   "metadata": {},
   "outputs": [
    {
     "data": {
      "text/plain": [
       "Text(0, 0.5, 'Продажи')"
      ]
     },
     "execution_count": 103,
     "metadata": {},
     "output_type": "execute_result"
    },
    {
     "data": {
      "image/png": "[encoded data removed]",
      "text/plain": [
       "<Figure size 1152x432 with 1 Axes>"
      ]
     },
     "metadata": {
      "needs_background": "light"
     },
     "output_type": "display_data"
    }
   ],
   "source": [
    "#Построю график распределения игр по жанрам для наглядности\n",
    "plt.figure(figsize=(16,6))\n",
    "plt.title('Распределение игр по жанрам ',fontsize=15)\n",
    "sns.barplot(data=distr_genre, x='genre', y='total_sales')\n",
    "plt.xlabel('Жанры игр',fontsize=12)\n",
    "plt.ylabel('Продажи',fontsize=12)"
   ]
  },
  {
   "cell_type": "markdown",
   "metadata": {},
   "source": [
    "<div class=\"alert alert-info\">\n",
    "<font color='Blue'> <b>Вывод:</b>\n",
    "    <p>Самые высокие продажи у жанров action, sports и  shooter, а самые низкие у жанров puzzle, strategy и simulation"
   ]
  },
  {
   "cell_type": "code",
   "execution_count": 104,
   "metadata": {},
   "outputs": [
    {
     "data": {
      "text/html": [
       "<div>\n",
       "<style scoped>\n",
       "    .dataframe tbody tr th:only-of-type {\n",
       "        vertical-align: middle;\n",
       "    }\n",
       "\n",
       "    .dataframe tbody tr th {\n",
       "        vertical-align: top;\n",
       "    }\n",
       "\n",
       "    .dataframe thead th {\n",
       "        text-align: right;\n",
       "    }\n",
       "</style>\n",
       "<table border=\"1\" class=\"dataframe\">\n",
       "  <thead>\n",
       "    <tr style=\"text-align: right;\">\n",
       "      <th></th>\n",
       "      <th>name</th>\n",
       "      <th>platform</th>\n",
       "      <th>year_of_release</th>\n",
       "      <th>genre</th>\n",
       "      <th>na_sales</th>\n",
       "      <th>eu_sales</th>\n",
       "      <th>jp_sales</th>\n",
       "      <th>other_sales</th>\n",
       "      <th>critic_score</th>\n",
       "      <th>user_score</th>\n",
       "      <th>rating</th>\n",
       "      <th>total_sales</th>\n",
       "    </tr>\n",
       "  </thead>\n",
       "  <tbody>\n",
       "    <tr>\n",
       "      <th>0</th>\n",
       "      <td>wii sports</td>\n",
       "      <td>wii</td>\n",
       "      <td>2006</td>\n",
       "      <td>sports</td>\n",
       "      <td>41.36</td>\n",
       "      <td>28.96</td>\n",
       "      <td>3.77</td>\n",
       "      <td>8.45</td>\n",
       "      <td>76.0</td>\n",
       "      <td>8.0</td>\n",
       "      <td>e</td>\n",
       "      <td>82.54</td>\n",
       "    </tr>\n",
       "    <tr>\n",
       "      <th>1</th>\n",
       "      <td>super mario bros.</td>\n",
       "      <td>nes</td>\n",
       "      <td>1985</td>\n",
       "      <td>platform</td>\n",
       "      <td>29.08</td>\n",
       "      <td>3.58</td>\n",
       "      <td>6.81</td>\n",
       "      <td>0.77</td>\n",
       "      <td>NaN</td>\n",
       "      <td>NaN</td>\n",
       "      <td>no rating</td>\n",
       "      <td>40.24</td>\n",
       "    </tr>\n",
       "    <tr>\n",
       "      <th>2</th>\n",
       "      <td>mario kart wii</td>\n",
       "      <td>wii</td>\n",
       "      <td>2008</td>\n",
       "      <td>racing</td>\n",
       "      <td>15.68</td>\n",
       "      <td>12.76</td>\n",
       "      <td>3.79</td>\n",
       "      <td>3.29</td>\n",
       "      <td>82.0</td>\n",
       "      <td>8.3</td>\n",
       "      <td>e</td>\n",
       "      <td>35.52</td>\n",
       "    </tr>\n",
       "    <tr>\n",
       "      <th>3</th>\n",
       "      <td>wii sports resort</td>\n",
       "      <td>wii</td>\n",
       "      <td>2009</td>\n",
       "      <td>sports</td>\n",
       "      <td>15.61</td>\n",
       "      <td>10.93</td>\n",
       "      <td>3.28</td>\n",
       "      <td>2.95</td>\n",
       "      <td>80.0</td>\n",
       "      <td>8.0</td>\n",
       "      <td>e</td>\n",
       "      <td>32.77</td>\n",
       "    </tr>\n",
       "    <tr>\n",
       "      <th>4</th>\n",
       "      <td>pokemon red/pokemon blue</td>\n",
       "      <td>gb</td>\n",
       "      <td>1996</td>\n",
       "      <td>role-playing</td>\n",
       "      <td>11.27</td>\n",
       "      <td>8.89</td>\n",
       "      <td>10.22</td>\n",
       "      <td>1.00</td>\n",
       "      <td>NaN</td>\n",
       "      <td>NaN</td>\n",
       "      <td>no rating</td>\n",
       "      <td>31.38</td>\n",
       "    </tr>\n",
       "  </tbody>\n",
       "</table>\n",
       "</div>"
      ],
      "text/plain": [
       "                       name platform  year_of_release         genre  na_sales  \\\n",
       "0                wii sports      wii             2006        sports     41.36   \n",
       "1         super mario bros.      nes             1985      platform     29.08   \n",
       "2            mario kart wii      wii             2008        racing     15.68   \n",
       "3         wii sports resort      wii             2009        sports     15.61   \n",
       "4  pokemon red/pokemon blue       gb             1996  role-playing     11.27   \n",
       "\n",
       "   eu_sales  jp_sales  other_sales  critic_score  user_score     rating  \\\n",
       "0     28.96      3.77         8.45          76.0         8.0          e   \n",
       "1      3.58      6.81         0.77           NaN         NaN  no rating   \n",
       "2     12.76      3.79         3.29          82.0         8.3          e   \n",
       "3     10.93      3.28         2.95          80.0         8.0          e   \n",
       "4      8.89     10.22         1.00           NaN         NaN  no rating   \n",
       "\n",
       "   total_sales  \n",
       "0        82.54  \n",
       "1        40.24  \n",
       "2        35.52  \n",
       "3        32.77  \n",
       "4        31.38  "
      ]
     },
     "execution_count": 104,
     "metadata": {},
     "output_type": "execute_result"
    }
   ],
   "source": [
    "df.head()"
   ]
  },
  {
   "cell_type": "code",
   "execution_count": 127,
   "metadata": {},
   "outputs": [
    {
     "data": {
      "text/plain": [
       "array(['shooter', 'sports', 'role-playing', 'action', 'platform',\n",
       "       'simulation', 'fighting', 'racing', 'adventure', 'misc',\n",
       "       'strategy', 'puzzle'], dtype=object)"
      ]
     },
     "execution_count": 127,
     "metadata": {},
     "output_type": "execute_result"
    }
   ],
   "source": [
    "genres=df_actual_period['genre'].unique()\n",
    "genres"
   ]
  },
  {
   "cell_type": "code",
   "execution_count": 128,
   "metadata": {},
   "outputs": [],
   "source": [
    "def median_for_each_genre(genres):\n",
    "    df_tmp=df_actual_period.query('genre == @genres ')\n",
    "    return df_tmp['total_sales'].median()\n",
    "\n"
   ]
  },
  {
   "cell_type": "code",
   "execution_count": 129,
   "metadata": {},
   "outputs": [],
   "source": [
    "medians=[]\n",
    "for i in genres:\n",
    "    medians.append(median_for_each_genre(i))\n",
    "    "
   ]
  },
  {
   "cell_type": "code",
   "execution_count": 130,
   "metadata": {},
   "outputs": [
    {
     "name": "stdout",
     "output_type": "stream",
     "text": [
      "[0.38, 0.12, 0.11499999999999999, 0.060000000000000005, 0.09999999999999999, 0.09999999999999999, 0.09, 0.05500000000000001, 0.03, 0.06, 0.05, 0.03]\n"
     ]
    }
   ],
   "source": [
    "print(medians)"
   ]
  },
  {
   "cell_type": "code",
   "execution_count": 131,
   "metadata": {},
   "outputs": [
    {
     "data": {
      "text/plain": [
       "<AxesSubplot:xlabel='genre', ylabel='median'>"
      ]
     },
     "execution_count": 131,
     "metadata": {},
     "output_type": "execute_result"
    },
    {
     "data": {
      "image/png": "[encoded data removed]",
      "text/plain": [
       "<Figure size 864x432 with 1 Axes>"
      ]
     },
     "metadata": {
      "needs_background": "light"
     },
     "output_type": "display_data"
    }
   ],
   "source": [
    "plt.figure(figsize=(12,6))\n",
    "d = {'genre': genres, 'median': medians}\n",
    "df_medians = pd.DataFrame(data=d)\n",
    "df_medians.head()\n",
    "sns.barplot(data=df_medians, x='genre', y='median')\n",
    "\n",
    "\n"
   ]
  },
  {
   "cell_type": "markdown",
   "metadata": {},
   "source": [
    "### 3.1 Вывод"
   ]
  },
  {
   "cell_type": "markdown",
   "metadata": {},
   "source": [
    "<div class=\"alert alert-info\">\n",
    " <font color='Blue'>\n",
    "     <b>Вывод по исследовательскому анализу данных:</b>\n",
    "        <p>\n",
    "- Количество игр начинает расти с 1991 года до 2008-2009 годов, после чего заметно снижение количества игр и стабилизация примерно на одном уровне в 2012-2016 годах. Данные с 1980 по 1990 не сильно менялись и были значительно ниже количества игр с 1991 и для планирования компании на 2017 год эти данные не важны.  <p>\n",
    "- Самые популярные шесть игровых платформ за актуальный период: ps4, xone, 3ds, wiiu, ps3, pc.  <p>\n",
    "- Игровые платформы в среднем существуют около 10 лет. Cамые продаваемые платформы это PS2, x360 и PS3. Пик продаж игровых платформ наступает в среднем на 4-6 год после выхода.  <p>\n",
    "  -  Самые высокие продажи у жанров role-play shooter, sports а самые низкие у жанров puzzle, misc и strategy.  "
   ]
  },
  {
   "cell_type": "markdown",
   "metadata": {},
   "source": [
    "## 4. Составим-портрет-пользователя-каждого-региона"
   ]
  },
  {
   "cell_type": "markdown",
   "metadata": {},
   "source": [
    "<div class=\"alert alert-info\">\n",
    "<font color='Blue'>\n",
    "\n",
    "   <b>- Определим для пользователя каждого региона (NA, EU, JP):<p>\n",
    "    - Самые популярные платформы (топ-5). Опишем различия в долях продаж.<p>\n",
    "    - Самые популярные жанры (топ-5). Поясним разницу.<p>\n",
    "    - Влияет ли рейтинг ESRB на продажи в отдельном регионе?<p></b>\n",
    "       \n",
    "- NA_sales — продажи в Северной Америке (миллионы проданных копий)\n",
    "- EU_sales — продажи в Европе (миллионы проданных копий)\n",
    "- JP_sales — продажи в Японии (миллионы проданных копий)\n"
   ]
  },
  {
   "cell_type": "markdown",
   "metadata": {},
   "source": [
    "<div class=\"alert alert-info\">\n",
    "<font color='Blue'>\n",
    "\n",
    "   <b>Портрет пользователя из Северной Америки"
   ]
  },
  {
   "cell_type": "code",
   "execution_count": 110,
   "metadata": {},
   "outputs": [],
   "source": [
    "\n",
    "\n",
    "    \n",
    "NA_sales_platform_total=df_actual_period.pivot_table(index=['platform'], values='na_sales',aggfunc='sum')\n",
    "NA_sales_platform_total=NA_sales_platform_total.reset_index()\n",
    "\n",
    "\n",
    "NA_sales_genre_total=df_actual_period.pivot_table(index=['genre'], values='na_sales',aggfunc='sum')\n",
    "NA_sales_genre_total=NA_sales_genre_total.reset_index()\n",
    "\n",
    "NA_sales_rating_total=df_actual_period.pivot_table(index=['rating'], values='na_sales',aggfunc='sum')\n",
    "NA_sales_rating_total=NA_sales_rating_total.reset_index()"
   ]
  },
  {
   "cell_type": "code",
   "execution_count": 112,
   "metadata": {},
   "outputs": [
    {
     "data": {
      "text/plain": [
       "Text(0, 0.5, 'Продажи')"
      ]
     },
     "execution_count": 112,
     "metadata": {},
     "output_type": "execute_result"
    },
    {
     "data": {
      "image/png": "[encoded data removed]",
      "text/plain": [
       "<Figure size 720x360 with 1 Axes>"
      ]
     },
     "metadata": {
      "needs_background": "light"
     },
     "output_type": "display_data"
    },
    {
     "data": {
      "image/png": "[encoded data removed]",
      "text/plain": [
       "<Figure size 720x360 with 1 Axes>"
      ]
     },
     "metadata": {
      "needs_background": "light"
     },
     "output_type": "display_data"
    },
    {
     "data": {
      "image/png": "[encoded data removed]",
      "text/plain": [
       "<Figure size 720x360 with 1 Axes>"
      ]
     },
     "metadata": {
      "needs_background": "light"
     },
     "output_type": "display_data"
    }
   ],
   "source": [
    "plt.figure(figsize=(10,5))\n",
    "plt.title('Распределение рейтинга ',fontsize=20)\n",
    "sns.barplot(data=NA_sales_rating_total.sort_values(by='na_sales',ascending=False).head(5), x='rating', y='na_sales')\n",
    "plt.xlabel('Рейтинг',fontsize=12)\n",
    "plt.ylabel('Продажи',fontsize=12)\n",
    "\n",
    "NA_sales_genre_total.sort_values(by='na_sales',ascending=False).head(5)\n",
    "\n",
    "plt.figure(figsize=(10,5))\n",
    "plt.title('Распределение жанров ',fontsize=20)\n",
    "sns.barplot(data=NA_sales_genre_total.sort_values(by='na_sales',ascending=False).head(5), x='genre', y='na_sales')\n",
    "plt.xlabel('Жанры',fontsize=12)\n",
    "plt.ylabel('Продажи',fontsize=12)\n",
    "\n",
    "plt.figure(figsize=(10,5))\n",
    "plt.title('Распределение платформ ',fontsize=20)\n",
    "sns.barplot(data=NA_sales_platform_total.sort_values(by='na_sales',ascending=False).head(5), x='platform', y='na_sales')\n",
    "plt.xlabel('Платформы',fontsize=12)\n",
    "plt.ylabel('Продажи',fontsize=12)"
   ]
  },
  {
   "cell_type": "markdown",
   "metadata": {},
   "source": [
    "<div class=\"alert alert-info\">\n",
    "<font color='Blue'> <b>Вывод для Севеорной Америки:</b>\n",
    "    \n",
    "   - Самые популярные платформы (топ-5): ps4, xone, 3ds, wiiu и x360<p>\n",
    "   - Самые популярные жанры (топ-5): shooter, action, sports, role-playing, fighting<p>\n",
    "   - Влияет ли рейтинг ESRB на продажи в отдельном регионе?: Самые высокие продажи у игр с рейтингом \"m - от 17 лет\", \"t - подростки 13-19 лет\",игры без рейтинга ,\"e10+ для ввсех старше 10 лет\""
   ]
  },
  {
   "cell_type": "markdown",
   "metadata": {},
   "source": [
    "<div class=\"alert alert-info\">\n",
    "<font color='Blue'>\n",
    "\n",
    "   <b>Портрет пользователя из Европы"
   ]
  },
  {
   "cell_type": "code",
   "execution_count": 132,
   "metadata": {},
   "outputs": [],
   "source": [
    "#создаю сводные таблицы для отсривоки барплотов\n",
    "\n",
    "\n",
    "EU_sales_platform_total=df_actual_period.pivot_table(index=['platform'], values='eu_sales',aggfunc='sum')\n",
    "EU_sales_platform_total=EU_sales_platform_total.reset_index()\n",
    "\n",
    "EU_sales_genre_total=df_actual_period.pivot_table(index=['genre'], values='eu_sales',aggfunc='sum')\n",
    "EU_sales_genre_total=EU_sales_genre_total.reset_index()\n",
    "\n",
    "EU_sales_rating_total=df_actual_period.pivot_table(index=['rating'], values='eu_sales',aggfunc='sum')\n",
    "EU_sales_rating_total=EU_sales_rating_total.reset_index()\n"
   ]
  },
  {
   "cell_type": "markdown",
   "metadata": {},
   "source": []
  },
  {
   "cell_type": "code",
   "execution_count": 115,
   "metadata": {},
   "outputs": [
    {
     "data": {
      "text/plain": [
       "Text(0, 0.5, 'Продажи')"
      ]
     },
     "execution_count": 115,
     "metadata": {},
     "output_type": "execute_result"
    },
    {
     "data": {
      "image/png": "[encoded data removed]",
      "text/plain": [
       "<Figure size 720x360 with 1 Axes>"
      ]
     },
     "metadata": {
      "needs_background": "light"
     },
     "output_type": "display_data"
    },
    {
     "data": {
      "image/png": "[encoded data removed]",
      "text/plain": [
       "<Figure size 720x360 with 1 Axes>"
      ]
     },
     "metadata": {
      "needs_background": "light"
     },
     "output_type": "display_data"
    },
    {
     "data": {
      "image/png": "[encoded data removed]",
      "text/plain": [
       "<Figure size 720x360 with 1 Axes>"
      ]
     },
     "metadata": {
      "needs_background": "light"
     },
     "output_type": "display_data"
    }
   ],
   "source": [
    "plt.figure(figsize=(10,5))\n",
    "plt.title('Распределение рейтинга ',fontsize=20)\n",
    "sns.barplot(data=EU_sales_rating_total.sort_values(by='eu_sales',ascending=False).head(5), x='rating', y='eu_sales')\n",
    "plt.xlabel('Рейтинг',fontsize=12)\n",
    "plt.ylabel('Продажи',fontsize=12)\n",
    "\n",
    "plt.figure(figsize=(10,5))\n",
    "plt.title('Распределение платформ ',fontsize=20)\n",
    "sns.barplot(data=EU_sales_platform_total.sort_values(by='eu_sales',ascending=False).head(5), x='platform', y='eu_sales')\n",
    "plt.xlabel('Платформы',fontsize=12)\n",
    "plt.ylabel('Продажи',fontsize=12)\n",
    "\n",
    "EU_sales_genre_total.sort_values(by='eu_sales',ascending=False).head(5)\n",
    "\n",
    "plt.figure(figsize=(10,5))\n",
    "plt.title('Распределение жанров ',fontsize=20)\n",
    "sns.barplot(data=EU_sales_genre_total.sort_values(by='eu_sales',ascending=False).head(5), x='genre', y='eu_sales')\n",
    "plt.xlabel('Жанры',fontsize=12)\n",
    "plt.ylabel('Продажи',fontsize=12)"
   ]
  },
  {
   "cell_type": "markdown",
   "metadata": {},
   "source": [
    "<div class=\"alert alert-info\">\n",
    "<font color='Blue'> <b>Вывод для Европы:</b>\n",
    "    <p>\n",
    "   - Самые популярные платформы (топ-5): ps4, xone, pc, 3ds и ps3<p>\n",
    "   - Самые популярные жанры (топ-5): shooter, sports, action, role-playing, racing<p>\n",
    "   - Влияет ли рейтинг ESRB на продажи в отдельном регионе?: Самые высокие продажи у игр с рейтингом \"m - от 17 лет\", \"е - для всех\", \"t - подростки 13-19 лет\",  без рейтинга и \"e10+ для всех старше 10 лет\""
   ]
  },
  {
   "cell_type": "markdown",
   "metadata": {},
   "source": [
    "<div class=\"alert alert-info\">\n",
    "<font color='Blue'>\n",
    "\n",
    "   <b>Портрет пользователя из Японии"
   ]
  },
  {
   "cell_type": "code",
   "execution_count": 134,
   "metadata": {},
   "outputs": [],
   "source": [
    "#создаю сводные таблицы для отсривоки барплотов\n",
    "JP_sales_platform=df_actual_period.pivot_table(index=['platform'], values='jp_sales',aggfunc='sum')\n",
    "JP_sales_platform=JP_sales_platform.reset_index()\n",
    "\n",
    "JP_sales_genre=df_actual_period.pivot_table(index=['genre'], values='jp_sales',aggfunc='sum')\n",
    "JP_sales_genre=JP_sales_genre.reset_index()\n",
    "\n",
    "JP_sales_rating=df_actual_period.pivot_table(index=['rating'], values='jp_sales',aggfunc='sum')\n",
    "JP_sales_rating=JP_sales_rating.reset_index()\n",
    "\n",
    "JP_sales_platform_total=df_actual_period.pivot_table(index=['platform'], values='jp_sales',aggfunc='sum')\n",
    "JP_sales_platform_total=JP_sales_platform_total.reset_index()\n",
    "\n",
    "JP_sales_genre_total=df_actual_period.pivot_table(index=['genre'], values='jp_sales',aggfunc='sum')\n",
    "JP_sales_genre_total=JP_sales_genre_total.reset_index()\n",
    "\n",
    "JP_sales_rating_total=df_actual_period.pivot_table(index=['rating'], values='jp_sales',aggfunc='sum')\n",
    "JP_sales_rating_total=JP_sales_rating_total.reset_index()"
   ]
  },
  {
   "cell_type": "code",
   "execution_count": 135,
   "metadata": {},
   "outputs": [
    {
     "data": {
      "text/plain": [
       "Text(0, 0.5, 'Продажи')"
      ]
     },
     "execution_count": 135,
     "metadata": {},
     "output_type": "execute_result"
    },
    {
     "data": {
      "image/png": "[encoded data removed]",
      "text/plain": [
       "<Figure size 720x360 with 1 Axes>"
      ]
     },
     "metadata": {
      "needs_background": "light"
     },
     "output_type": "display_data"
    },
    {
     "data": {
      "image/png": "[encoded data removed]",
      "text/plain": [
       "<Figure size 720x360 with 1 Axes>"
      ]
     },
     "metadata": {
      "needs_background": "light"
     },
     "output_type": "display_data"
    },
    {
     "data": {
      "image/png": "[encoded data removed]",
      "text/plain": [
       "<Figure size 720x360 with 1 Axes>"
      ]
     },
     "metadata": {
      "needs_background": "light"
     },
     "output_type": "display_data"
    }
   ],
   "source": [
    "JP_sales_rating_total.sort_values(by='jp_sales',ascending=False).head(5)\n",
    "\n",
    "plt.figure(figsize=(10,5))\n",
    "plt.title('Распределение рейтинга ',fontsize=20)\n",
    "sns.barplot(data=JP_sales_rating_total.sort_values(by='jp_sales',ascending=False).head(5), x='rating', y='jp_sales')\n",
    "plt.xlabel('Рейтинг',fontsize=12)\n",
    "plt.ylabel('Продажи',fontsize=12)\n",
    "\n",
    "JP_sales_platform_total.sort_values(by='jp_sales',ascending=False).head(5)\n",
    "\n",
    "plt.figure(figsize=(10,5))\n",
    "plt.title('Распределение платформ ',fontsize=20)\n",
    "sns.barplot(data=JP_sales_platform_total.sort_values(by='jp_sales',ascending=False).head(5), x='platform', y='jp_sales')\n",
    "plt.xlabel('Платформы',fontsize=12)\n",
    "plt.ylabel('Продажи',fontsize=12)\n",
    "\n",
    "JP_sales_genre_total.sort_values(by='jp_sales',ascending=False).head(5)\n",
    "\n",
    "plt.figure(figsize=(10,5))\n",
    "plt.title('Распределение жанров ',fontsize=20)\n",
    "sns.barplot(data=JP_sales_genre_total.sort_values(by='jp_sales',ascending=False).head(5), x='genre', y='jp_sales')\n",
    "plt.xlabel('Жанры',fontsize=12)\n",
    "plt.ylabel('Продажи',fontsize=12)"
   ]
  },
  {
   "cell_type": "markdown",
   "metadata": {},
   "source": [
    "<div class=\"alert alert-info\">\n",
    "<font color='Blue'> <b>Вывод для Японии:</b>\n",
    "    <p>\n",
    "   - Самые популярные платформы (топ-5): 3ds, ps4, psv, ps3, wiiu<p>\n",
    "   - Самые популярные жанры (топ-5): action, role-playing, adventure,shooter, misc<p>\n",
    "   - Влияет ли рейтинг ESRB на продажи в отдельном регионе?: Самые высокие продажи у игр без рейтинга, с рейтингом \"t - подростки 13-19 лет\", на втором месте \"m - от 17 лет\",на третьем месте \"е - для всех\",  и на четвёртом месте \"e10+ для всех старше 10 лет\""
   ]
  },
  {
   "cell_type": "markdown",
   "metadata": {},
   "source": [
    "<div class=\"alert alert-info\">\n",
    " <font color='Blue'>\n",
    "     <b>Вывод по составлению портрета пользователя каждого региона</b>\n",
    "     <p>\n",
    "         Из графиков видно, что интересы пользователей за последний год сильно отличаются от интересов за предыдущие года, поэтому для прогноза на 2017 год лучше использовать данные за последний год, в котором преобладает спрос на игры жанра shooter, для платформы ps4 для пользователей из Европы и Северной Америки, а для пользователей из Японии игры с жанром action на платформе 3ds."
   ]
  },
  {
   "cell_type": "markdown",
   "metadata": {},
   "source": [
    "## 5. Проверка гипотез"
   ]
  },
  {
   "cell_type": "markdown",
   "metadata": {},
   "source": [
    "<div class=\"alert alert-info\">\n",
    "<font color='Blue'>\n",
    "\n",
    "   <b>Средние пользовательские рейтинги платформ Xbox One и PC одинаковые<p>\n",
    "       Сформулируем нулевые гипотезы:<p></b>\n",
    "\n",
    "Нулевая гипотеза H₀: Средние пользовательские рейтинги платформ Xbox One и PC одинаковые <p>\n",
    "Альтернативная гипотеза H₁: Средние пользовательские рейтинги платформ Xbox One и PC различаются"
   ]
  },
  {
   "cell_type": "code",
   "execution_count": 139,
   "metadata": {},
   "outputs": [
    {
     "data": {
      "text/plain": [
       "6.542148760330578"
      ]
     },
     "execution_count": 139,
     "metadata": {},
     "output_type": "execute_result"
    }
   ],
   "source": [
    "import warnings\n",
    "\n",
    "warnings.filterwarnings('ignore')\n",
    "# Сохраним в переменных актуальные данные за последние 10 лет\n",
    "xone_hyp = df_actual_period[(df['platform']=='xone') & (df_actual_period['year_of_release']>2006)]['user_score']\n",
    "pc_hyp = df_actual_period[(df_actual_period['platform']=='pc') & (df_actual_period['year_of_release']>2006)]['user_score']\n",
    "\n",
    "#Посчитаем средний рейтинг пользователя для xbox платформ\n",
    "xone_hyp.mean()"
   ]
  },
  {
   "cell_type": "code",
   "execution_count": 120,
   "metadata": {},
   "outputs": [
    {
     "data": {
      "text/plain": [
       "6.296428571428573"
      ]
     },
     "execution_count": 120,
     "metadata": {},
     "output_type": "execute_result"
    }
   ],
   "source": [
    "#Посчитаем средний рейтинг пользователя для PC платформ\n",
    "pc_hyp.mean()"
   ]
  },
  {
   "cell_type": "code",
   "execution_count": 121,
   "metadata": {},
   "outputs": [
    {
     "name": "stdout",
     "output_type": "stream",
     "text": [
      "p-значение: 0.2946308864003345\n",
      "Не получилось отвергнуть нулевую гипотезу\n"
     ]
    }
   ],
   "source": [
    "#Выполним проверку гипотезы\n",
    "\n",
    "alpha = .05\n",
    "\n",
    "results = st.ttest_ind(xone_hyp.dropna(), pc_hyp.dropna(), equal_var=False)\n",
    "\n",
    "print('p-значение:', results.pvalue)\n",
    "\n",
    "\n",
    "if (results.pvalue < alpha):\n",
    "    print(\"Отвергаем нулевую гипотезу\")\n",
    "else:\n",
    "    print(\"Не получилось отвергнуть нулевую гипотезу\")"
   ]
  },
  {
   "cell_type": "markdown",
   "metadata": {},
   "source": [
    "<div class=\"alert alert-info\">\n",
    "<font color='Blue'>\n",
    "\n",
    "   <b>Вывод:</b><p>\n",
    "  Не можем отвергнуть нулевую гипотезу - слишком высоке значение p-value. Средние пользовательские рейтинги Xbox One и PC - приблизительно одинаковые"
   ]
  },
  {
   "cell_type": "markdown",
   "metadata": {},
   "source": [
    "<div class=\"alert alert-info\">\n",
    "<font color='Blue'>\n",
    "\n",
    "   <b>Средние пользовательские рейтинги жанров Action (англ. «действие», экшен-игры) и Sports (англ. «спортивные соревнования») разные<p>\n",
    "       Сформулируем нулевые гипотезы:<p></b>\n",
    "\n",
    "Нулевая гипотеза H₀: Средние пользовательские рейтинги жанров Action и Sports одинаковые<p>\n",
    "Альтернативная гипотеза H₁: Средние пользовательские рейтинги жанров Action и Sports различаются\n",
    "       "
   ]
  },
  {
   "cell_type": "code",
   "execution_count": 122,
   "metadata": {},
   "outputs": [
    {
     "data": {
      "text/plain": [
       "6.808290155440415"
      ]
     },
     "execution_count": 122,
     "metadata": {},
     "output_type": "execute_result"
    }
   ],
   "source": [
    "# Сохраним в переменных актуальные данные за последние 10 лет\n",
    "genre_action_hyp = df_actual_period[(df_actual_period['genre']=='action') & (df_actual_period['year_of_release']>2006)]['user_score']\n",
    "genre_sports_hyp = df_actual_period[(df_actual_period['genre']=='sports') & (df_actual_period['year_of_release']>2006)]['user_score']\n",
    "\n",
    "#выведем среднюю оценку по жанру экшн\n",
    "genre_action_hyp.mean()"
   ]
  },
  {
   "cell_type": "code",
   "execution_count": 123,
   "metadata": {},
   "outputs": [
    {
     "data": {
      "text/plain": [
       "5.198780487804878"
      ]
     },
     "execution_count": 123,
     "metadata": {},
     "output_type": "execute_result"
    }
   ],
   "source": [
    "#выведем среднюю оценку по жанру спорт\n",
    "genre_sports_hyp.mean()"
   ]
  },
  {
   "cell_type": "code",
   "execution_count": 124,
   "metadata": {},
   "outputs": [
    {
     "name": "stdout",
     "output_type": "stream",
     "text": [
      "p-значение: 5.97163549920592e-10\n",
      "Отвергаем нулевую гипотезу\n"
     ]
    }
   ],
   "source": [
    "#Выполним проверку гипотезы. Будем использовать метод ttest_ind\n",
    "\n",
    "alpha = .05\n",
    "\n",
    "results = st.ttest_ind(genre_action_hyp.dropna(), genre_sports_hyp.dropna(), equal_var=False)\n",
    "\n",
    "print('p-значение:', results.pvalue)\n",
    "\n",
    "\n",
    "if (results.pvalue < alpha):\n",
    "    print(\"Отвергаем нулевую гипотезу\")\n",
    "else:\n",
    "    print(\"Не получилось отвергнуть нулевую гипотезу\")"
   ]
  },
  {
   "cell_type": "markdown",
   "metadata": {},
   "source": [
    "<div class=\"alert alert-info\">\n",
    " <font color='Blue'>\n",
    "     <b>Вывод:</b>\n",
    "        <p> Отвергаем нулевую гипотезу, так как вероятность получить одинаковые средние рейтинги жанров Action и Sports очень низкая."
   ]
  },
  {
   "cell_type": "markdown",
   "metadata": {},
   "source": [
    "## 6. Общий вывод"
   ]
  },
  {
   "cell_type": "markdown",
   "metadata": {},
   "source": [
    "<div class=\"alert alert-info\">\n",
    " <font color='Blue'>\n",
    "<b>Краткий обзор выполненных работ:  </b><p> \n",
    "    Привел данные к нужным типам. Нашёл и исправил ошибки. Обработал пропуски. Заменил названия столбцов, привёл к нижнему регистру. Определили, что аббревиатура TBD значит to be done, поэтому заменил tbd на nan. Посчитал суммарные продажи во всех регионах и записал их в отдельный столбец.<p>\n",
    "\n",
    "<b>Вывод по исследовательскому анализу данных:</b>\n",
    "        <p>\n",
    "- Количество игр начинает расти с 1991 года до 2008-2009 годов, после чего заметно снижение количества игр и стабилизация примерно на одном уровне в 2012-2016 годах. Данные с 1980 по 1990 не сильно менялись и были значительно ниже количества игр с 1991 и для планирования компании на 2017 год эти данные не важны.  <p>\n",
    "- Самые популярные шесть игровых платформ за актуальный период: ps4, xone, 3ds, wiiu, ps3, pc.  <p>\n",
    "- Игровые платформы в среднем существуют около 10 лет. Cамые продаваемые платформы это PS2, x360 и PS3. Пик продаж игровых платформ наступает в среднем на 4-6 год после выхода.  <p>\n",
    "- У top_6 платформ присутствует корреляция, между оценками пользователей и критиков к продажам.  <p>\n",
    "- Оценка критиков сильнее влияет на продаже чем оценка пользователей. Покупатели прислушиваются больше к критикам чем к оценкам других пользователей.  <p>\n",
    "  -  Самые высокие продажи у жанров platform, shooter, sports а самые низкие у жанров puzzle, adventure и strategy.           \n",
    "<b>Вывод по составлению портрета пользователя каждого региона:</b>\n",
    "     <p>\n",
    "<b>Вывод для Севеорной Америки:</b>\n",
    "    <p>\n",
    "    - Самые популярные платформы (топ-5): X360, ps2, wii, ps3 и ds<p>\n",
    "    - Самые популярные жанры (топ-5): action, sports, shooter, platform, misc<p>\n",
    "    - Влияет ли рейтинг ESRB на продажи в отдельном регионе?: Самые высокие продажи у игр с рейтингом \"е - для всех\", второе и третье места поделили игры с рейтингом \"t - подростки 13-19 лет\" и  \"m - от 17 лет\". <p>\n",
    "\n",
    "<b> Есть изменения после 2015 года: </b><p>\n",
    "   - Самые популярные платформы (топ-5): ps4, xone, 3ds, wiiu и pc<p>\n",
    "   - Самые популярные жанры (топ-5): shooter, action, sports, role-playing, fighting<p>\n",
    "   - Влияет ли рейтинг ESRB на продажи в отдельном регионе?: Самые высокие продажи у игр с рейтингом \"m - от 17 лет\", \"t - подростки 13-19 лет\",игры без рейтинга ,\"e10+ для ввсех старше 10 лет\"\n",
    "    \n",
    "<b>Вывод для Европы:</b>\n",
    "    <p>\n",
    "    - Самые популярные платформы (топ-5): , ps2, ps3, x360, wii и ps<p>\n",
    "    - Самые популярные жанры (топ-5): action, sports, shooter, racing, misc<p>\n",
    "    - Влияет ли рейтинг ESRB на продажи в отдельном регионе?: Самые высокие продажи у игр с рейтингом \"е - для всех\", второе с рейтингом  \"m - от 17 лет\", третье место \"t - подростки 13-19 лет\" и на четвёртом с рейтингом \"e10+ для всех старше 10 лет\"<p>\n",
    "\n",
    "<b> Есть изменения после 2015 года: </b><p>\n",
    "   - Самые популярные платформы (топ-5): ps4, xone, pc, 3ds и wiiu<p>\n",
    "   - Самые популярные жанры (топ-5): shooter, sports, action, role-playing, racing<p>\n",
    "   - Влияет ли рейтинг ESRB на продажи в отдельном регионе?: Самые высокие продажи у игр с рейтингом \"m - от 17 лет\", \"е - для всех\", \"t - подростки 13-19 лет\",  и \"e10+ для всех старше 10 лет\"\n",
    "     \n",
    "<b>Вывод для Японии:</b>\n",
    "    <p>\n",
    "    - Самые популярные платформы (топ-5): ds, ps, ps2, snes, 3ds<p>\n",
    "    - Самые популярные жанры (топ-5): role-playing, action, sports, platform, misc<p>\n",
    "    - Влияет ли рейтинг ESRB на продажи в отдельном регионе?: Самые высокие продажи у игр с рейтингом \"е - для всех\", второе с рейтингом  \"t - подростки 13-19 лет\", третье место  \"m - от 17 лет\" и на четвёртом с рейтингом \"e10+ для всех старше 10 лет\"<p>\n",
    "\n",
    "<b> Есть изменения после 2015 года: </b><p>\n",
    "   - Самые популярные платформы (топ-5): ps4, xone, pc, 3ds и wiiu<p>\n",
    "   - Самые популярные жанры (топ-5): shooter, sports, action, role-playing, racing<p>\n",
    "   - Влияет ли рейтинг ESRB на продажи в отдельном регионе?: Самые высокие продажи у игр без рейтинга, с рейтингом \"t - подростки 13-19 лет\", на втором месте \"m - от 17 лет\",на третьем месте \"е - для всех\",  и на четвёртом месте \"e10+ для всех старше 10 лет\"\n",
    "         \n",
    "<b>Рекомендации: </b><p>  \n",
    "    По результату анализа видно, что интересы пользователей за последний год сильно отличаются от интересов за предыдущие года, поэтому для прогноза на 2017 год лучше использовать данные за последний год, в котором преобладает спрос на игры жанра shooter, для платформы ps4 для пользователей из Европы и Северной Америки, а для пользователей из Японии игры с жанром action на платформе 3ds. <p>\n",
    "   "
   ]
  }
 ],
 "metadata": {
  "ExecuteTimeLog": [
   {
    "duration": 3,
    "start_time": "2022-05-16T06:52:17.475Z"
   },
   {
    "duration": 1332,
    "start_time": "2022-05-16T06:54:08.160Z"
   },
   {
    "duration": 201,
    "start_time": "2022-05-16T06:54:17.837Z"
   },
   {
    "duration": 192,
    "start_time": "2022-05-16T06:57:19.160Z"
   },
   {
    "duration": 76,
    "start_time": "2022-05-16T06:59:30.072Z"
   },
   {
    "duration": 11,
    "start_time": "2022-05-16T07:00:25.108Z"
   },
   {
    "duration": 9,
    "start_time": "2022-05-16T07:00:51.823Z"
   },
   {
    "duration": 3,
    "start_time": "2022-05-16T07:07:02.949Z"
   },
   {
    "duration": 2,
    "start_time": "2022-05-16T07:07:48.881Z"
   },
   {
    "duration": 73,
    "start_time": "2022-05-16T07:07:49.921Z"
   },
   {
    "duration": 17,
    "start_time": "2022-05-16T07:07:51.106Z"
   },
   {
    "duration": 8,
    "start_time": "2022-05-16T07:07:51.987Z"
   },
   {
    "duration": 2,
    "start_time": "2022-05-16T07:08:25.894Z"
   },
   {
    "duration": 62,
    "start_time": "2022-05-16T07:08:26.401Z"
   },
   {
    "duration": 13,
    "start_time": "2022-05-16T07:08:26.814Z"
   },
   {
    "duration": 9,
    "start_time": "2022-05-16T07:08:27.190Z"
   },
   {
    "duration": 1409,
    "start_time": "2022-05-16T07:09:02.684Z"
   },
   {
    "duration": 91,
    "start_time": "2022-05-16T07:09:04.095Z"
   },
   {
    "duration": 18,
    "start_time": "2022-05-16T07:09:04.189Z"
   },
   {
    "duration": 8,
    "start_time": "2022-05-16T07:09:04.209Z"
   },
   {
    "duration": 2,
    "start_time": "2022-05-16T07:14:39.023Z"
   },
   {
    "duration": 61,
    "start_time": "2022-05-16T07:14:39.373Z"
   },
   {
    "duration": 14,
    "start_time": "2022-05-16T07:14:40.001Z"
   },
   {
    "duration": 9,
    "start_time": "2022-05-16T07:14:40.395Z"
   },
   {
    "duration": 96,
    "start_time": "2022-05-16T07:15:18.831Z"
   },
   {
    "duration": 1179,
    "start_time": "2022-05-16T07:15:26.420Z"
   },
   {
    "duration": 64,
    "start_time": "2022-05-16T07:15:27.601Z"
   },
   {
    "duration": 12,
    "start_time": "2022-05-16T07:15:27.666Z"
   },
   {
    "duration": 17,
    "start_time": "2022-05-16T07:15:27.679Z"
   },
   {
    "duration": 107,
    "start_time": "2022-05-16T07:15:27.699Z"
   },
   {
    "duration": 23,
    "start_time": "2022-05-16T07:18:44.303Z"
   },
   {
    "duration": 20,
    "start_time": "2022-05-16T07:21:08.613Z"
   },
   {
    "duration": 20,
    "start_time": "2022-05-16T07:21:31.178Z"
   },
   {
    "duration": 19,
    "start_time": "2022-05-16T07:21:40.861Z"
   },
   {
    "duration": 21,
    "start_time": "2022-05-16T07:22:05.461Z"
   },
   {
    "duration": 321,
    "start_time": "2022-05-16T07:22:18.056Z"
   },
   {
    "duration": 16,
    "start_time": "2022-05-16T07:22:31.338Z"
   },
   {
    "duration": 21,
    "start_time": "2022-05-16T07:23:01.129Z"
   },
   {
    "duration": 20,
    "start_time": "2022-05-16T07:23:13.363Z"
   },
   {
    "duration": 20,
    "start_time": "2022-05-16T07:23:34.047Z"
   },
   {
    "duration": 202,
    "start_time": "2022-05-16T07:23:45.670Z"
   },
   {
    "duration": 23,
    "start_time": "2022-05-16T07:23:59.901Z"
   },
   {
    "duration": 244,
    "start_time": "2022-05-16T07:24:10.056Z"
   },
   {
    "duration": 2,
    "start_time": "2022-05-16T07:24:23.582Z"
   },
   {
    "duration": 202,
    "start_time": "2022-05-16T07:24:38.908Z"
   },
   {
    "duration": 430,
    "start_time": "2022-05-16T07:25:00.670Z"
   },
   {
    "duration": 307,
    "start_time": "2022-05-16T07:25:34.937Z"
   },
   {
    "duration": 15,
    "start_time": "2022-05-16T07:26:11.380Z"
   },
   {
    "duration": 1032,
    "start_time": "2022-05-16T07:26:20.514Z"
   },
   {
    "duration": 199,
    "start_time": "2022-05-16T07:26:34.438Z"
   },
   {
    "duration": 8,
    "start_time": "2022-05-16T07:27:02.259Z"
   },
   {
    "duration": 10,
    "start_time": "2022-05-16T07:27:13.911Z"
   },
   {
    "duration": 272,
    "start_time": "2022-05-16T07:27:32.654Z"
   },
   {
    "duration": 9,
    "start_time": "2022-05-16T07:28:04.024Z"
   },
   {
    "duration": 142,
    "start_time": "2022-05-16T07:28:11.314Z"
   },
   {
    "duration": 130,
    "start_time": "2022-05-16T07:28:20.244Z"
   },
   {
    "duration": 6,
    "start_time": "2022-05-16T07:28:28.647Z"
   },
   {
    "duration": 9,
    "start_time": "2022-05-16T07:29:27.658Z"
   },
   {
    "duration": 1480,
    "start_time": "2022-05-16T07:29:46.592Z"
   },
   {
    "duration": 80,
    "start_time": "2022-05-16T07:30:01.664Z"
   },
   {
    "duration": 74,
    "start_time": "2022-05-16T07:30:16.388Z"
   },
   {
    "duration": 16,
    "start_time": "2022-05-16T07:30:55.641Z"
   },
   {
    "duration": 206,
    "start_time": "2022-05-16T07:31:04.568Z"
   },
   {
    "duration": 60,
    "start_time": "2022-05-16T07:33:41.350Z"
   },
   {
    "duration": 103,
    "start_time": "2022-05-16T07:34:14.273Z"
   },
   {
    "duration": 9,
    "start_time": "2022-05-16T07:34:22.417Z"
   },
   {
    "duration": 160,
    "start_time": "2022-05-16T07:34:32.756Z"
   },
   {
    "duration": 8,
    "start_time": "2022-05-16T07:34:42.133Z"
   },
   {
    "duration": 285,
    "start_time": "2022-05-16T07:34:52.364Z"
   },
   {
    "duration": 11,
    "start_time": "2022-05-16T07:35:01.339Z"
   },
   {
    "duration": 132,
    "start_time": "2022-05-16T07:35:13.841Z"
   },
   {
    "duration": 47,
    "start_time": "2022-05-16T07:38:20.250Z"
   },
   {
    "duration": 45,
    "start_time": "2022-05-16T07:39:55.196Z"
   },
   {
    "duration": 132,
    "start_time": "2022-05-16T07:39:57.061Z"
   },
   {
    "duration": 8,
    "start_time": "2022-05-16T07:45:01.744Z"
   },
   {
    "duration": 127,
    "start_time": "2022-05-16T07:48:07.374Z"
   },
   {
    "duration": 8,
    "start_time": "2022-05-16T07:48:33.893Z"
   },
   {
    "duration": 126,
    "start_time": "2022-05-16T07:48:42.491Z"
   },
   {
    "duration": 140,
    "start_time": "2022-05-16T07:48:58.268Z"
   },
   {
    "duration": 206,
    "start_time": "2022-05-16T07:49:26.105Z"
   },
   {
    "duration": 129,
    "start_time": "2022-05-16T08:03:32.817Z"
   },
   {
    "duration": 293,
    "start_time": "2022-05-16T08:20:22.853Z"
   },
   {
    "duration": 44,
    "start_time": "2022-05-16T08:22:05.777Z"
   },
   {
    "duration": 1301,
    "start_time": "2022-05-16T08:22:12.979Z"
   },
   {
    "duration": 1978,
    "start_time": "2022-05-16T08:22:14.282Z"
   },
   {
    "duration": 11,
    "start_time": "2022-05-16T08:22:16.264Z"
   },
   {
    "duration": 15,
    "start_time": "2022-05-16T08:22:16.277Z"
   },
   {
    "duration": 23,
    "start_time": "2022-05-16T08:22:16.293Z"
   },
   {
    "duration": 20,
    "start_time": "2022-05-16T08:22:16.318Z"
   },
   {
    "duration": 20,
    "start_time": "2022-05-16T08:22:16.339Z"
   },
   {
    "duration": 41,
    "start_time": "2022-05-16T08:22:16.360Z"
   },
   {
    "duration": 18,
    "start_time": "2022-05-16T08:22:16.403Z"
   },
   {
    "duration": 14,
    "start_time": "2022-05-16T08:22:16.423Z"
   },
   {
    "duration": 13,
    "start_time": "2022-05-16T08:22:16.438Z"
   },
   {
    "duration": 18,
    "start_time": "2022-05-16T08:22:16.453Z"
   },
   {
    "duration": 46,
    "start_time": "2022-05-16T08:22:16.472Z"
   },
   {
    "duration": 15,
    "start_time": "2022-05-16T08:22:16.519Z"
   },
   {
    "duration": 362,
    "start_time": "2022-05-16T08:22:16.535Z"
   },
   {
    "duration": 294,
    "start_time": "2022-05-16T08:22:16.900Z"
   },
   {
    "duration": 18,
    "start_time": "2022-05-16T08:22:17.195Z"
   },
   {
    "duration": 1055,
    "start_time": "2022-05-16T08:22:17.215Z"
   },
   {
    "duration": 8,
    "start_time": "2022-05-16T08:22:18.271Z"
   },
   {
    "duration": 20,
    "start_time": "2022-05-16T08:22:18.281Z"
   },
   {
    "duration": 258,
    "start_time": "2022-05-16T08:22:18.302Z"
   },
   {
    "duration": 7,
    "start_time": "2022-05-16T08:22:18.562Z"
   },
   {
    "duration": 143,
    "start_time": "2022-05-16T08:22:18.571Z"
   },
   {
    "duration": 173,
    "start_time": "2022-05-16T08:22:18.716Z"
   },
   {
    "duration": 11,
    "start_time": "2022-05-16T08:22:18.890Z"
   },
   {
    "duration": 9,
    "start_time": "2022-05-16T08:22:18.902Z"
   },
   {
    "duration": 1330,
    "start_time": "2022-05-16T08:22:18.914Z"
   },
   {
    "duration": 75,
    "start_time": "2022-05-16T08:22:20.246Z"
   },
   {
    "duration": 61,
    "start_time": "2022-05-16T08:22:20.322Z"
   },
   {
    "duration": 15,
    "start_time": "2022-05-16T08:22:20.399Z"
   },
   {
    "duration": 194,
    "start_time": "2022-05-16T08:22:20.416Z"
   },
   {
    "duration": 42,
    "start_time": "2022-05-16T08:22:20.611Z"
   },
   {
    "duration": 134,
    "start_time": "2022-05-16T08:22:20.654Z"
   },
   {
    "duration": 16,
    "start_time": "2022-05-16T08:22:20.790Z"
   },
   {
    "duration": 203,
    "start_time": "2022-05-16T08:22:20.807Z"
   },
   {
    "duration": 8,
    "start_time": "2022-05-16T08:22:21.011Z"
   },
   {
    "duration": 137,
    "start_time": "2022-05-16T08:22:21.020Z"
   },
   {
    "duration": 8,
    "start_time": "2022-05-16T08:22:21.159Z"
   },
   {
    "duration": 138,
    "start_time": "2022-05-16T08:22:21.168Z"
   },
   {
    "duration": 9,
    "start_time": "2022-05-16T08:22:21.307Z"
   },
   {
    "duration": 122,
    "start_time": "2022-05-16T08:22:21.317Z"
   },
   {
    "duration": 135,
    "start_time": "2022-05-16T08:22:21.441Z"
   },
   {
    "duration": 45,
    "start_time": "2022-05-16T08:22:21.577Z"
   },
   {
    "duration": 22,
    "start_time": "2022-05-16T08:22:21.624Z"
   },
   {
    "duration": 19,
    "start_time": "2022-05-16T08:22:21.648Z"
   },
   {
    "duration": 8,
    "start_time": "2022-05-16T08:25:05.300Z"
   },
   {
    "duration": 118,
    "start_time": "2022-05-16T08:25:19.737Z"
   },
   {
    "duration": 9,
    "start_time": "2022-05-16T08:25:28.886Z"
   },
   {
    "duration": 113,
    "start_time": "2022-05-16T08:25:35.827Z"
   },
   {
    "duration": 7,
    "start_time": "2022-05-16T08:25:43.926Z"
   },
   {
    "duration": 118,
    "start_time": "2022-05-16T08:25:52.001Z"
   },
   {
    "duration": 8,
    "start_time": "2022-05-16T08:26:02.158Z"
   },
   {
    "duration": 116,
    "start_time": "2022-05-16T08:26:13.644Z"
   },
   {
    "duration": 8,
    "start_time": "2022-05-16T08:26:23.983Z"
   },
   {
    "duration": 119,
    "start_time": "2022-05-16T08:26:33.066Z"
   },
   {
    "duration": 129,
    "start_time": "2022-05-16T08:26:43.164Z"
   },
   {
    "duration": 179,
    "start_time": "2022-05-16T08:27:18.349Z"
   },
   {
    "duration": 655,
    "start_time": "2022-05-16T08:28:34.633Z"
   },
   {
    "duration": 469,
    "start_time": "2022-05-16T08:39:44.489Z"
   },
   {
    "duration": 344,
    "start_time": "2022-05-16T08:40:44.138Z"
   },
   {
    "duration": 406,
    "start_time": "2022-05-16T08:41:11.566Z"
   },
   {
    "duration": 1750,
    "start_time": "2022-05-16T08:42:21.389Z"
   },
   {
    "duration": 84,
    "start_time": "2022-05-16T08:42:23.141Z"
   },
   {
    "duration": 12,
    "start_time": "2022-05-16T08:42:23.226Z"
   },
   {
    "duration": 21,
    "start_time": "2022-05-16T08:42:23.240Z"
   },
   {
    "duration": 28,
    "start_time": "2022-05-16T08:42:23.263Z"
   },
   {
    "duration": 26,
    "start_time": "2022-05-16T08:42:23.293Z"
   },
   {
    "duration": 24,
    "start_time": "2022-05-16T08:42:23.320Z"
   },
   {
    "duration": 20,
    "start_time": "2022-05-16T08:42:23.346Z"
   },
   {
    "duration": 49,
    "start_time": "2022-05-16T08:42:23.367Z"
   },
   {
    "duration": 22,
    "start_time": "2022-05-16T08:42:23.418Z"
   },
   {
    "duration": 14,
    "start_time": "2022-05-16T08:42:23.442Z"
   },
   {
    "duration": 18,
    "start_time": "2022-05-16T08:42:23.458Z"
   },
   {
    "duration": 19,
    "start_time": "2022-05-16T08:42:23.501Z"
   },
   {
    "duration": 14,
    "start_time": "2022-05-16T08:42:23.523Z"
   },
   {
    "duration": 373,
    "start_time": "2022-05-16T08:42:23.539Z"
   },
   {
    "duration": 307,
    "start_time": "2022-05-16T08:42:23.913Z"
   },
   {
    "duration": 15,
    "start_time": "2022-05-16T08:42:24.222Z"
   },
   {
    "duration": 1033,
    "start_time": "2022-05-16T08:42:24.239Z"
   },
   {
    "duration": 9,
    "start_time": "2022-05-16T08:42:25.274Z"
   },
   {
    "duration": 18,
    "start_time": "2022-05-16T08:42:25.284Z"
   },
   {
    "duration": 267,
    "start_time": "2022-05-16T08:42:25.304Z"
   },
   {
    "duration": 7,
    "start_time": "2022-05-16T08:42:25.573Z"
   },
   {
    "duration": 143,
    "start_time": "2022-05-16T08:42:25.582Z"
   },
   {
    "duration": 143,
    "start_time": "2022-05-16T08:42:25.727Z"
   },
   {
    "duration": 5,
    "start_time": "2022-05-16T08:42:25.871Z"
   },
   {
    "duration": 22,
    "start_time": "2022-05-16T08:42:25.878Z"
   },
   {
    "duration": 1355,
    "start_time": "2022-05-16T08:42:25.901Z"
   },
   {
    "duration": 78,
    "start_time": "2022-05-16T08:42:27.258Z"
   },
   {
    "duration": 75,
    "start_time": "2022-05-16T08:42:27.338Z"
   },
   {
    "duration": 14,
    "start_time": "2022-05-16T08:42:27.415Z"
   },
   {
    "duration": 195,
    "start_time": "2022-05-16T08:42:27.431Z"
   },
   {
    "duration": 43,
    "start_time": "2022-05-16T08:42:27.628Z"
   },
   {
    "duration": 151,
    "start_time": "2022-05-16T08:42:27.673Z"
   },
   {
    "duration": 8,
    "start_time": "2022-05-16T08:42:27.825Z"
   },
   {
    "duration": 249,
    "start_time": "2022-05-16T08:42:27.835Z"
   },
   {
    "duration": 15,
    "start_time": "2022-05-16T08:42:28.085Z"
   },
   {
    "duration": 134,
    "start_time": "2022-05-16T08:42:28.102Z"
   },
   {
    "duration": 8,
    "start_time": "2022-05-16T08:42:28.238Z"
   },
   {
    "duration": 141,
    "start_time": "2022-05-16T08:42:28.247Z"
   },
   {
    "duration": 17,
    "start_time": "2022-05-16T08:42:28.389Z"
   },
   {
    "duration": 124,
    "start_time": "2022-05-16T08:42:28.410Z"
   },
   {
    "duration": 131,
    "start_time": "2022-05-16T08:42:28.536Z"
   },
   {
    "duration": 45,
    "start_time": "2022-05-16T08:42:28.669Z"
   },
   {
    "duration": 7,
    "start_time": "2022-05-16T08:42:28.716Z"
   },
   {
    "duration": 133,
    "start_time": "2022-05-16T08:42:28.725Z"
   },
   {
    "duration": 8,
    "start_time": "2022-05-16T08:42:28.860Z"
   },
   {
    "duration": 144,
    "start_time": "2022-05-16T08:42:28.870Z"
   },
   {
    "duration": 8,
    "start_time": "2022-05-16T08:42:29.015Z"
   },
   {
    "duration": 279,
    "start_time": "2022-05-16T08:42:29.024Z"
   },
   {
    "duration": 11,
    "start_time": "2022-05-16T08:42:29.305Z"
   },
   {
    "duration": 369,
    "start_time": "2022-05-16T08:42:29.318Z"
   },
   {
    "duration": 17,
    "start_time": "2022-05-16T08:42:29.689Z"
   },
   {
    "duration": 37,
    "start_time": "2022-05-16T08:42:29.708Z"
   },
   {
    "duration": 476,
    "start_time": "2022-05-16T08:42:29.747Z"
   },
   {
    "duration": 358,
    "start_time": "2022-05-16T08:42:30.225Z"
   },
   {
    "duration": 1142,
    "start_time": "2022-05-16T08:44:45.134Z"
   },
   {
    "duration": 66,
    "start_time": "2022-05-16T08:44:46.278Z"
   },
   {
    "duration": 12,
    "start_time": "2022-05-16T08:44:46.345Z"
   },
   {
    "duration": 15,
    "start_time": "2022-05-16T08:44:46.358Z"
   },
   {
    "duration": 31,
    "start_time": "2022-05-16T08:44:46.376Z"
   },
   {
    "duration": 20,
    "start_time": "2022-05-16T08:44:46.409Z"
   },
   {
    "duration": 18,
    "start_time": "2022-05-16T08:44:46.431Z"
   },
   {
    "duration": 18,
    "start_time": "2022-05-16T08:44:46.451Z"
   },
   {
    "duration": 47,
    "start_time": "2022-05-16T08:44:46.471Z"
   },
   {
    "duration": 17,
    "start_time": "2022-05-16T08:44:46.520Z"
   },
   {
    "duration": 14,
    "start_time": "2022-05-16T08:44:46.538Z"
   },
   {
    "duration": 47,
    "start_time": "2022-05-16T08:44:46.554Z"
   },
   {
    "duration": 20,
    "start_time": "2022-05-16T08:44:46.603Z"
   },
   {
    "duration": 15,
    "start_time": "2022-05-16T08:44:46.627Z"
   },
   {
    "duration": 369,
    "start_time": "2022-05-16T08:44:46.644Z"
   },
   {
    "duration": 301,
    "start_time": "2022-05-16T08:44:47.015Z"
   },
   {
    "duration": 16,
    "start_time": "2022-05-16T08:44:47.318Z"
   },
   {
    "duration": 1020,
    "start_time": "2022-05-16T08:44:47.335Z"
   },
   {
    "duration": 8,
    "start_time": "2022-05-16T08:44:48.358Z"
   },
   {
    "duration": 8,
    "start_time": "2022-05-16T08:44:48.368Z"
   },
   {
    "duration": 257,
    "start_time": "2022-05-16T08:44:48.378Z"
   },
   {
    "duration": 9,
    "start_time": "2022-05-16T08:44:48.636Z"
   },
   {
    "duration": 143,
    "start_time": "2022-05-16T08:44:48.646Z"
   },
   {
    "duration": 138,
    "start_time": "2022-05-16T08:44:48.791Z"
   },
   {
    "duration": 4,
    "start_time": "2022-05-16T08:44:48.931Z"
   },
   {
    "duration": 9,
    "start_time": "2022-05-16T08:44:48.937Z"
   },
   {
    "duration": 1326,
    "start_time": "2022-05-16T08:44:48.948Z"
   },
   {
    "duration": 77,
    "start_time": "2022-05-16T08:44:50.276Z"
   },
   {
    "duration": 79,
    "start_time": "2022-05-16T08:44:50.355Z"
   },
   {
    "duration": 15,
    "start_time": "2022-05-16T08:44:50.435Z"
   },
   {
    "duration": 198,
    "start_time": "2022-05-16T08:44:50.451Z"
   },
   {
    "duration": 50,
    "start_time": "2022-05-16T08:44:50.651Z"
   },
   {
    "duration": 130,
    "start_time": "2022-05-16T08:44:50.702Z"
   },
   {
    "duration": 8,
    "start_time": "2022-05-16T08:44:50.834Z"
   },
   {
    "duration": 208,
    "start_time": "2022-05-16T08:44:50.844Z"
   },
   {
    "duration": 8,
    "start_time": "2022-05-16T08:44:51.054Z"
   },
   {
    "duration": 136,
    "start_time": "2022-05-16T08:44:51.064Z"
   },
   {
    "duration": 7,
    "start_time": "2022-05-16T08:44:51.202Z"
   },
   {
    "duration": 127,
    "start_time": "2022-05-16T08:44:51.211Z"
   },
   {
    "duration": 8,
    "start_time": "2022-05-16T08:44:51.340Z"
   },
   {
    "duration": 134,
    "start_time": "2022-05-16T08:44:51.352Z"
   },
   {
    "duration": 137,
    "start_time": "2022-05-16T08:44:51.487Z"
   },
   {
    "duration": 39,
    "start_time": "2022-05-16T08:44:51.626Z"
   },
   {
    "duration": 8,
    "start_time": "2022-05-16T08:44:51.666Z"
   },
   {
    "duration": 368,
    "start_time": "2022-05-16T08:44:51.676Z"
   },
   {
    "duration": 364,
    "start_time": "2022-05-16T08:44:52.045Z"
   },
   {
    "duration": 38,
    "start_time": "2022-05-16T08:44:52.411Z"
   },
   {
    "duration": 389,
    "start_time": "2022-05-16T08:44:52.451Z"
   },
   {
    "duration": 449,
    "start_time": "2022-05-16T08:44:52.842Z"
   },
   {
    "duration": 1131,
    "start_time": "2022-05-16T08:45:53.958Z"
   },
   {
    "duration": 311,
    "start_time": "2022-05-16T08:45:55.091Z"
   },
   {
    "duration": 10,
    "start_time": "2022-05-16T08:45:55.404Z"
   },
   {
    "duration": 15,
    "start_time": "2022-05-16T08:45:55.416Z"
   },
   {
    "duration": 23,
    "start_time": "2022-05-16T08:45:55.433Z"
   },
   {
    "duration": 19,
    "start_time": "2022-05-16T08:45:55.458Z"
   },
   {
    "duration": 36,
    "start_time": "2022-05-16T08:45:55.479Z"
   },
   {
    "duration": 19,
    "start_time": "2022-05-16T08:45:55.516Z"
   },
   {
    "duration": 19,
    "start_time": "2022-05-16T08:45:55.537Z"
   },
   {
    "duration": 15,
    "start_time": "2022-05-16T08:45:55.558Z"
   },
   {
    "duration": 14,
    "start_time": "2022-05-16T08:45:55.600Z"
   },
   {
    "duration": 19,
    "start_time": "2022-05-16T08:45:55.616Z"
   },
   {
    "duration": 20,
    "start_time": "2022-05-16T08:45:55.636Z"
   },
   {
    "duration": 18,
    "start_time": "2022-05-16T08:45:55.659Z"
   },
   {
    "duration": 386,
    "start_time": "2022-05-16T08:45:55.678Z"
   },
   {
    "duration": 302,
    "start_time": "2022-05-16T08:45:56.066Z"
   },
   {
    "duration": 16,
    "start_time": "2022-05-16T08:45:56.370Z"
   },
   {
    "duration": 1034,
    "start_time": "2022-05-16T08:45:56.388Z"
   },
   {
    "duration": 8,
    "start_time": "2022-05-16T08:45:57.424Z"
   },
   {
    "duration": 20,
    "start_time": "2022-05-16T08:45:57.434Z"
   },
   {
    "duration": 263,
    "start_time": "2022-05-16T08:45:57.455Z"
   },
   {
    "duration": 8,
    "start_time": "2022-05-16T08:45:57.719Z"
   },
   {
    "duration": 144,
    "start_time": "2022-05-16T08:45:57.728Z"
   },
   {
    "duration": 156,
    "start_time": "2022-05-16T08:45:57.874Z"
   },
   {
    "duration": 5,
    "start_time": "2022-05-16T08:45:58.032Z"
   },
   {
    "duration": 13,
    "start_time": "2022-05-16T08:45:58.038Z"
   },
   {
    "duration": 1426,
    "start_time": "2022-05-16T08:45:58.053Z"
   },
   {
    "duration": 66,
    "start_time": "2022-05-16T08:45:59.480Z"
   },
   {
    "duration": 79,
    "start_time": "2022-05-16T08:45:59.547Z"
   },
   {
    "duration": 15,
    "start_time": "2022-05-16T08:45:59.627Z"
   },
   {
    "duration": 191,
    "start_time": "2022-05-16T08:45:59.643Z"
   },
   {
    "duration": 45,
    "start_time": "2022-05-16T08:45:59.836Z"
   },
   {
    "duration": 141,
    "start_time": "2022-05-16T08:45:59.882Z"
   },
   {
    "duration": 11,
    "start_time": "2022-05-16T08:46:00.025Z"
   },
   {
    "duration": 209,
    "start_time": "2022-05-16T08:46:00.037Z"
   },
   {
    "duration": 8,
    "start_time": "2022-05-16T08:46:00.248Z"
   },
   {
    "duration": 121,
    "start_time": "2022-05-16T08:46:00.257Z"
   },
   {
    "duration": 350,
    "start_time": "2022-05-16T08:46:00.379Z"
   },
   {
    "duration": 37,
    "start_time": "2022-05-16T08:46:00.730Z"
   },
   {
    "duration": 348,
    "start_time": "2022-05-16T08:46:00.769Z"
   },
   {
    "duration": 361,
    "start_time": "2022-05-16T08:46:01.120Z"
   },
   {
    "duration": 41,
    "start_time": "2022-05-16T08:46:01.483Z"
   },
   {
    "duration": 369,
    "start_time": "2022-05-16T08:46:01.525Z"
   },
   {
    "duration": 461,
    "start_time": "2022-05-16T08:46:01.900Z"
   },
   {
    "duration": 1169,
    "start_time": "2022-05-16T08:46:51.518Z"
   },
   {
    "duration": 69,
    "start_time": "2022-05-16T08:46:52.689Z"
   },
   {
    "duration": 12,
    "start_time": "2022-05-16T08:46:52.760Z"
   },
   {
    "duration": 14,
    "start_time": "2022-05-16T08:46:52.773Z"
   },
   {
    "duration": 31,
    "start_time": "2022-05-16T08:46:52.789Z"
   },
   {
    "duration": 22,
    "start_time": "2022-05-16T08:46:52.822Z"
   },
   {
    "duration": 21,
    "start_time": "2022-05-16T08:46:52.846Z"
   },
   {
    "duration": 41,
    "start_time": "2022-05-16T08:46:52.869Z"
   },
   {
    "duration": 20,
    "start_time": "2022-05-16T08:46:52.912Z"
   },
   {
    "duration": 17,
    "start_time": "2022-05-16T08:46:52.933Z"
   },
   {
    "duration": 13,
    "start_time": "2022-05-16T08:46:52.951Z"
   },
   {
    "duration": 46,
    "start_time": "2022-05-16T08:46:52.965Z"
   },
   {
    "duration": 18,
    "start_time": "2022-05-16T08:46:53.012Z"
   },
   {
    "duration": 17,
    "start_time": "2022-05-16T08:46:53.033Z"
   },
   {
    "duration": 364,
    "start_time": "2022-05-16T08:46:53.051Z"
   },
   {
    "duration": 296,
    "start_time": "2022-05-16T08:46:53.416Z"
   },
   {
    "duration": 16,
    "start_time": "2022-05-16T08:46:53.714Z"
   },
   {
    "duration": 1015,
    "start_time": "2022-05-16T08:46:53.732Z"
   },
   {
    "duration": 9,
    "start_time": "2022-05-16T08:46:54.748Z"
   },
   {
    "duration": 9,
    "start_time": "2022-05-16T08:46:54.758Z"
   },
   {
    "duration": 265,
    "start_time": "2022-05-16T08:46:54.768Z"
   },
   {
    "duration": 8,
    "start_time": "2022-05-16T08:46:55.034Z"
   },
   {
    "duration": 137,
    "start_time": "2022-05-16T08:46:55.044Z"
   },
   {
    "duration": 133,
    "start_time": "2022-05-16T08:46:55.183Z"
   },
   {
    "duration": 5,
    "start_time": "2022-05-16T08:46:55.318Z"
   },
   {
    "duration": 9,
    "start_time": "2022-05-16T08:46:55.325Z"
   },
   {
    "duration": 1439,
    "start_time": "2022-05-16T08:46:55.335Z"
   },
   {
    "duration": 78,
    "start_time": "2022-05-16T08:46:56.775Z"
   },
   {
    "duration": 81,
    "start_time": "2022-05-16T08:46:56.854Z"
   },
   {
    "duration": 16,
    "start_time": "2022-05-16T08:46:56.937Z"
   },
   {
    "duration": 226,
    "start_time": "2022-05-16T08:46:56.955Z"
   },
   {
    "duration": 49,
    "start_time": "2022-05-16T08:46:57.182Z"
   },
   {
    "duration": 437,
    "start_time": "2022-05-16T08:46:57.232Z"
   },
   {
    "duration": 8,
    "start_time": "2022-05-16T08:46:57.670Z"
   },
   {
    "duration": 25,
    "start_time": "2022-05-16T08:46:57.679Z"
   },
   {
    "duration": 357,
    "start_time": "2022-05-16T08:46:57.705Z"
   },
   {
    "duration": 47,
    "start_time": "2022-05-16T08:46:58.063Z"
   },
   {
    "duration": 355,
    "start_time": "2022-05-16T08:46:58.111Z"
   },
   {
    "duration": 390,
    "start_time": "2022-05-16T08:46:58.468Z"
   },
   {
    "duration": 51,
    "start_time": "2022-05-16T08:46:58.860Z"
   },
   {
    "duration": 406,
    "start_time": "2022-05-16T08:46:58.915Z"
   },
   {
    "duration": 369,
    "start_time": "2022-05-16T08:46:59.323Z"
   },
   {
    "duration": 307,
    "start_time": "2022-05-16T09:07:31.786Z"
   },
   {
    "duration": 11,
    "start_time": "2022-05-16T09:17:31.119Z"
   },
   {
    "duration": 4,
    "start_time": "2022-05-16T09:27:16.446Z"
   },
   {
    "duration": 5,
    "start_time": "2022-05-16T09:27:36.366Z"
   },
   {
    "duration": 12,
    "start_time": "2022-05-16T09:40:30.216Z"
   },
   {
    "duration": 4,
    "start_time": "2022-05-16T09:40:41.636Z"
   },
   {
    "duration": 5,
    "start_time": "2022-05-16T09:40:55.197Z"
   },
   {
    "duration": 2,
    "start_time": "2022-05-16T09:42:03.878Z"
   },
   {
    "duration": 6,
    "start_time": "2022-05-16T10:41:37.097Z"
   },
   {
    "duration": 5,
    "start_time": "2022-05-16T10:41:49.576Z"
   },
   {
    "duration": 6,
    "start_time": "2022-05-16T11:18:58.910Z"
   },
   {
    "duration": 6,
    "start_time": "2022-05-16T11:28:58.783Z"
   },
   {
    "duration": 1208,
    "start_time": "2022-05-16T11:53:12.437Z"
   },
   {
    "duration": 66,
    "start_time": "2022-05-16T11:53:13.647Z"
   },
   {
    "duration": 11,
    "start_time": "2022-05-16T11:53:13.715Z"
   },
   {
    "duration": 9,
    "start_time": "2022-05-16T11:53:13.728Z"
   },
   {
    "duration": 44,
    "start_time": "2022-05-16T11:53:13.739Z"
   },
   {
    "duration": 20,
    "start_time": "2022-05-16T11:53:13.785Z"
   },
   {
    "duration": 19,
    "start_time": "2022-05-16T11:53:13.807Z"
   },
   {
    "duration": 46,
    "start_time": "2022-05-16T11:53:13.828Z"
   },
   {
    "duration": 23,
    "start_time": "2022-05-16T11:53:13.876Z"
   },
   {
    "duration": 15,
    "start_time": "2022-05-16T11:53:13.902Z"
   },
   {
    "duration": 14,
    "start_time": "2022-05-16T11:53:13.918Z"
   },
   {
    "duration": 48,
    "start_time": "2022-05-16T11:53:13.933Z"
   },
   {
    "duration": 19,
    "start_time": "2022-05-16T11:53:13.983Z"
   },
   {
    "duration": 15,
    "start_time": "2022-05-16T11:53:14.004Z"
   },
   {
    "duration": 370,
    "start_time": "2022-05-16T11:53:14.020Z"
   },
   {
    "duration": 298,
    "start_time": "2022-05-16T11:53:14.392Z"
   },
   {
    "duration": 15,
    "start_time": "2022-05-16T11:53:14.692Z"
   },
   {
    "duration": 1034,
    "start_time": "2022-05-16T11:53:14.709Z"
   },
   {
    "duration": 8,
    "start_time": "2022-05-16T11:53:15.745Z"
   },
   {
    "duration": 11,
    "start_time": "2022-05-16T11:53:15.754Z"
   },
   {
    "duration": 262,
    "start_time": "2022-05-16T11:53:15.766Z"
   },
   {
    "duration": 8,
    "start_time": "2022-05-16T11:53:16.029Z"
   },
   {
    "duration": 145,
    "start_time": "2022-05-16T11:53:16.038Z"
   },
   {
    "duration": 133,
    "start_time": "2022-05-16T11:53:16.185Z"
   },
   {
    "duration": 4,
    "start_time": "2022-05-16T11:53:16.320Z"
   },
   {
    "duration": 9,
    "start_time": "2022-05-16T11:53:16.326Z"
   },
   {
    "duration": 1366,
    "start_time": "2022-05-16T11:53:16.336Z"
   },
   {
    "duration": 83,
    "start_time": "2022-05-16T11:53:17.706Z"
   },
   {
    "duration": 81,
    "start_time": "2022-05-16T11:53:17.791Z"
   },
   {
    "duration": 17,
    "start_time": "2022-05-16T11:53:17.874Z"
   },
   {
    "duration": 216,
    "start_time": "2022-05-16T11:53:17.893Z"
   },
   {
    "duration": 39,
    "start_time": "2022-05-16T11:53:18.111Z"
   },
   {
    "duration": 445,
    "start_time": "2022-05-16T11:53:18.163Z"
   },
   {
    "duration": 349,
    "start_time": "2022-05-16T11:53:18.609Z"
   },
   {
    "duration": 35,
    "start_time": "2022-05-16T11:53:18.964Z"
   },
   {
    "duration": 346,
    "start_time": "2022-05-16T11:53:19.000Z"
   },
   {
    "duration": 367,
    "start_time": "2022-05-16T11:53:19.347Z"
   },
   {
    "duration": 49,
    "start_time": "2022-05-16T11:53:19.716Z"
   },
   {
    "duration": 374,
    "start_time": "2022-05-16T11:53:19.767Z"
   },
   {
    "duration": 365,
    "start_time": "2022-05-16T11:53:20.143Z"
   },
   {
    "duration": 10,
    "start_time": "2022-05-16T11:53:20.509Z"
   },
   {
    "duration": 5,
    "start_time": "2022-05-16T11:53:20.520Z"
   },
   {
    "duration": 7,
    "start_time": "2022-05-16T11:53:20.526Z"
   },
   {
    "duration": 36,
    "start_time": "2022-05-16T11:53:20.534Z"
   },
   {
    "duration": 4,
    "start_time": "2022-05-16T11:53:20.572Z"
   },
   {
    "duration": 9,
    "start_time": "2022-05-16T11:53:20.577Z"
   },
   {
    "duration": 186,
    "start_time": "2022-05-17T10:52:56.054Z"
   },
   {
    "duration": 1184,
    "start_time": "2022-05-17T10:53:25.694Z"
   },
   {
    "duration": 78,
    "start_time": "2022-05-17T10:53:26.880Z"
   },
   {
    "duration": 13,
    "start_time": "2022-05-17T10:53:26.959Z"
   },
   {
    "duration": 11,
    "start_time": "2022-05-17T10:53:26.974Z"
   },
   {
    "duration": 26,
    "start_time": "2022-05-17T10:53:26.986Z"
   },
   {
    "duration": 47,
    "start_time": "2022-05-17T10:53:27.013Z"
   },
   {
    "duration": 22,
    "start_time": "2022-05-17T10:53:27.062Z"
   },
   {
    "duration": 24,
    "start_time": "2022-05-17T10:53:27.086Z"
   },
   {
    "duration": 46,
    "start_time": "2022-05-17T10:53:27.112Z"
   },
   {
    "duration": 18,
    "start_time": "2022-05-17T10:53:27.161Z"
   },
   {
    "duration": 16,
    "start_time": "2022-05-17T10:53:27.180Z"
   },
   {
    "duration": 21,
    "start_time": "2022-05-17T10:53:27.198Z"
   },
   {
    "duration": 51,
    "start_time": "2022-05-17T10:53:27.221Z"
   },
   {
    "duration": 18,
    "start_time": "2022-05-17T10:53:27.274Z"
   },
   {
    "duration": 443,
    "start_time": "2022-05-17T10:53:27.294Z"
   },
   {
    "duration": 360,
    "start_time": "2022-05-17T10:53:27.739Z"
   },
   {
    "duration": 19,
    "start_time": "2022-05-17T10:53:28.100Z"
   },
   {
    "duration": 1294,
    "start_time": "2022-05-17T10:53:28.121Z"
   },
   {
    "duration": 11,
    "start_time": "2022-05-17T10:53:29.418Z"
   },
   {
    "duration": 26,
    "start_time": "2022-05-17T10:53:29.431Z"
   },
   {
    "duration": 312,
    "start_time": "2022-05-17T10:53:29.459Z"
   },
   {
    "duration": 9,
    "start_time": "2022-05-17T10:53:29.773Z"
   },
   {
    "duration": 173,
    "start_time": "2022-05-17T10:53:29.784Z"
   },
   {
    "duration": 167,
    "start_time": "2022-05-17T10:53:29.959Z"
   },
   {
    "duration": 5,
    "start_time": "2022-05-17T10:53:30.128Z"
   },
   {
    "duration": 24,
    "start_time": "2022-05-17T10:53:30.135Z"
   },
   {
    "duration": 1720,
    "start_time": "2022-05-17T10:53:30.161Z"
   },
   {
    "duration": 93,
    "start_time": "2022-05-17T10:53:31.885Z"
   },
   {
    "duration": 92,
    "start_time": "2022-05-17T10:53:31.980Z"
   },
   {
    "duration": 18,
    "start_time": "2022-05-17T10:53:32.073Z"
   },
   {
    "duration": 254,
    "start_time": "2022-05-17T10:53:32.093Z"
   },
   {
    "duration": 51,
    "start_time": "2022-05-17T10:53:32.348Z"
   },
   {
    "duration": 537,
    "start_time": "2022-05-17T10:53:32.400Z"
   },
   {
    "duration": 470,
    "start_time": "2022-05-17T10:53:32.939Z"
   },
   {
    "duration": 60,
    "start_time": "2022-05-17T10:53:33.411Z"
   },
   {
    "duration": 447,
    "start_time": "2022-05-17T10:53:33.473Z"
   },
   {
    "duration": 474,
    "start_time": "2022-05-17T10:53:33.921Z"
   },
   {
    "duration": 59,
    "start_time": "2022-05-17T10:53:34.397Z"
   },
   {
    "duration": 487,
    "start_time": "2022-05-17T10:53:34.459Z"
   },
   {
    "duration": 643,
    "start_time": "2022-05-17T10:53:34.948Z"
   },
   {
    "duration": 11,
    "start_time": "2022-05-17T10:53:35.593Z"
   },
   {
    "duration": 7,
    "start_time": "2022-05-17T10:53:35.606Z"
   },
   {
    "duration": 9,
    "start_time": "2022-05-17T10:53:35.615Z"
   },
   {
    "duration": 36,
    "start_time": "2022-05-17T10:53:35.626Z"
   },
   {
    "duration": 5,
    "start_time": "2022-05-17T10:53:35.663Z"
   },
   {
    "duration": 10,
    "start_time": "2022-05-17T10:53:35.670Z"
   },
   {
    "duration": 165,
    "start_time": "2022-05-17T10:54:21.272Z"
   },
   {
    "duration": 167,
    "start_time": "2022-05-17T11:01:52.859Z"
   },
   {
    "duration": 76,
    "start_time": "2022-05-21T13:56:27.179Z"
   },
   {
    "duration": 1802,
    "start_time": "2022-05-21T13:57:13.747Z"
   },
   {
    "duration": 237,
    "start_time": "2022-05-21T13:57:15.551Z"
   },
   {
    "duration": 18,
    "start_time": "2022-05-21T13:57:16.885Z"
   },
   {
    "duration": 65,
    "start_time": "2022-05-21T13:57:17.554Z"
   },
   {
    "duration": 9,
    "start_time": "2022-05-21T13:57:18.573Z"
   },
   {
    "duration": 96,
    "start_time": "2022-05-21T13:57:20.325Z"
   },
   {
    "duration": 6,
    "start_time": "2022-05-21T13:57:29.954Z"
   },
   {
    "duration": 8,
    "start_time": "2022-05-21T13:58:10.453Z"
   },
   {
    "duration": 7,
    "start_time": "2022-05-21T13:58:22.963Z"
   },
   {
    "duration": 8,
    "start_time": "2022-05-21T13:58:38.422Z"
   },
   {
    "duration": 7,
    "start_time": "2022-05-21T13:58:42.183Z"
   },
   {
    "duration": 6,
    "start_time": "2022-05-21T13:58:42.484Z"
   },
   {
    "duration": 14,
    "start_time": "2022-05-21T13:58:59.578Z"
   },
   {
    "duration": 8,
    "start_time": "2022-05-21T13:59:16.503Z"
   },
   {
    "duration": 10,
    "start_time": "2022-05-21T13:59:17.461Z"
   },
   {
    "duration": 14,
    "start_time": "2022-05-21T13:59:17.861Z"
   },
   {
    "duration": 12,
    "start_time": "2022-05-21T14:00:25.820Z"
   },
   {
    "duration": 1141,
    "start_time": "2022-05-21T14:00:33.923Z"
   },
   {
    "duration": 90,
    "start_time": "2022-05-21T14:00:35.066Z"
   },
   {
    "duration": 11,
    "start_time": "2022-05-21T14:00:35.158Z"
   },
   {
    "duration": 71,
    "start_time": "2022-05-21T14:00:35.171Z"
   },
   {
    "duration": 9,
    "start_time": "2022-05-21T14:00:35.245Z"
   },
   {
    "duration": 22,
    "start_time": "2022-05-21T14:00:35.255Z"
   },
   {
    "duration": 12,
    "start_time": "2022-05-21T14:00:35.280Z"
   },
   {
    "duration": 44,
    "start_time": "2022-05-21T14:00:35.294Z"
   },
   {
    "duration": 17,
    "start_time": "2022-05-21T14:00:35.340Z"
   },
   {
    "duration": 33,
    "start_time": "2022-05-21T14:00:35.359Z"
   },
   {
    "duration": 32,
    "start_time": "2022-05-21T14:00:35.393Z"
   },
   {
    "duration": 33,
    "start_time": "2022-05-21T14:00:35.430Z"
   },
   {
    "duration": 27,
    "start_time": "2022-05-21T14:00:35.464Z"
   },
   {
    "duration": 18,
    "start_time": "2022-05-21T14:00:35.495Z"
   },
   {
    "duration": 45,
    "start_time": "2022-05-21T14:00:35.515Z"
   },
   {
    "duration": 15,
    "start_time": "2022-05-21T14:00:35.562Z"
   },
   {
    "duration": 30,
    "start_time": "2022-05-21T14:00:35.579Z"
   },
   {
    "duration": 32,
    "start_time": "2022-05-21T14:00:35.613Z"
   },
   {
    "duration": 22,
    "start_time": "2022-05-21T14:00:35.647Z"
   },
   {
    "duration": 522,
    "start_time": "2022-05-21T14:00:35.671Z"
   },
   {
    "duration": 390,
    "start_time": "2022-05-21T14:00:36.196Z"
   },
   {
    "duration": 20,
    "start_time": "2022-05-21T14:00:36.587Z"
   },
   {
    "duration": 1475,
    "start_time": "2022-05-21T14:00:36.608Z"
   },
   {
    "duration": 22,
    "start_time": "2022-05-21T14:00:38.084Z"
   },
   {
    "duration": 20,
    "start_time": "2022-05-21T14:00:38.110Z"
   },
   {
    "duration": 237,
    "start_time": "2022-05-21T14:00:38.132Z"
   },
   {
    "duration": 8,
    "start_time": "2022-05-21T14:00:38.371Z"
   },
   {
    "duration": 177,
    "start_time": "2022-05-21T14:00:38.381Z"
   },
   {
    "duration": 176,
    "start_time": "2022-05-21T14:00:38.560Z"
   },
   {
    "duration": 6,
    "start_time": "2022-05-21T14:00:38.738Z"
   },
   {
    "duration": 119,
    "start_time": "2022-05-21T14:00:38.745Z"
   },
   {
    "duration": 1781,
    "start_time": "2022-05-21T14:00:38.866Z"
   },
   {
    "duration": 101,
    "start_time": "2022-05-21T14:00:40.649Z"
   },
   {
    "duration": 92,
    "start_time": "2022-05-21T14:00:40.752Z"
   },
   {
    "duration": 16,
    "start_time": "2022-05-21T14:00:40.846Z"
   },
   {
    "duration": 260,
    "start_time": "2022-05-21T14:00:40.864Z"
   },
   {
    "duration": 43,
    "start_time": "2022-05-21T14:00:41.128Z"
   },
   {
    "duration": 451,
    "start_time": "2022-05-21T14:00:41.172Z"
   },
   {
    "duration": 466,
    "start_time": "2022-05-21T14:00:41.625Z"
   },
   {
    "duration": 60,
    "start_time": "2022-05-21T14:00:42.095Z"
   },
   {
    "duration": 577,
    "start_time": "2022-05-21T14:00:42.160Z"
   },
   {
    "duration": 496,
    "start_time": "2022-05-21T14:00:42.740Z"
   },
   {
    "duration": 44,
    "start_time": "2022-05-21T14:00:43.238Z"
   },
   {
    "duration": 549,
    "start_time": "2022-05-21T14:00:43.299Z"
   },
   {
    "duration": 588,
    "start_time": "2022-05-21T14:00:43.850Z"
   },
   {
    "duration": 11,
    "start_time": "2022-05-21T14:00:44.439Z"
   },
   {
    "duration": 17,
    "start_time": "2022-05-21T14:00:44.452Z"
   },
   {
    "duration": 18,
    "start_time": "2022-05-21T14:00:44.470Z"
   },
   {
    "duration": 54,
    "start_time": "2022-05-21T14:00:44.490Z"
   },
   {
    "duration": 22,
    "start_time": "2022-05-21T14:00:44.546Z"
   },
   {
    "duration": 14,
    "start_time": "2022-05-21T14:00:44.570Z"
   },
   {
    "duration": 33,
    "start_time": "2022-05-21T14:09:24.023Z"
   },
   {
    "duration": 114,
    "start_time": "2022-05-21T17:00:03.995Z"
   },
   {
    "duration": 1190,
    "start_time": "2022-05-21T17:00:12.266Z"
   },
   {
    "duration": 80,
    "start_time": "2022-05-21T17:00:13.458Z"
   },
   {
    "duration": 13,
    "start_time": "2022-05-21T17:00:13.540Z"
   },
   {
    "duration": 65,
    "start_time": "2022-05-21T17:00:13.554Z"
   },
   {
    "duration": 8,
    "start_time": "2022-05-21T17:00:13.621Z"
   },
   {
    "duration": 12,
    "start_time": "2022-05-21T17:00:13.631Z"
   },
   {
    "duration": 7,
    "start_time": "2022-05-21T17:00:13.644Z"
   },
   {
    "duration": 10,
    "start_time": "2022-05-21T17:00:13.652Z"
   },
   {
    "duration": 35,
    "start_time": "2022-05-21T17:00:13.663Z"
   },
   {
    "duration": 25,
    "start_time": "2022-05-21T17:00:13.700Z"
   },
   {
    "duration": 21,
    "start_time": "2022-05-21T17:00:13.726Z"
   },
   {
    "duration": 20,
    "start_time": "2022-05-21T17:00:13.749Z"
   },
   {
    "duration": 42,
    "start_time": "2022-05-21T17:00:13.771Z"
   },
   {
    "duration": 9,
    "start_time": "2022-05-21T17:00:13.816Z"
   },
   {
    "duration": 19,
    "start_time": "2022-05-21T17:00:13.826Z"
   },
   {
    "duration": 16,
    "start_time": "2022-05-21T17:00:13.847Z"
   },
   {
    "duration": 49,
    "start_time": "2022-05-21T17:00:13.864Z"
   },
   {
    "duration": 21,
    "start_time": "2022-05-21T17:00:13.915Z"
   },
   {
    "duration": 20,
    "start_time": "2022-05-21T17:00:13.937Z"
   },
   {
    "duration": 487,
    "start_time": "2022-05-21T17:00:13.958Z"
   },
   {
    "duration": 350,
    "start_time": "2022-05-21T17:00:14.446Z"
   },
   {
    "duration": 17,
    "start_time": "2022-05-21T17:00:14.798Z"
   },
   {
    "duration": 1336,
    "start_time": "2022-05-21T17:00:14.816Z"
   },
   {
    "duration": 127,
    "start_time": "2022-05-21T17:00:16.154Z"
   },
   {
    "duration": 0,
    "start_time": "2022-05-21T17:00:16.283Z"
   },
   {
    "duration": 0,
    "start_time": "2022-05-21T17:00:16.284Z"
   },
   {
    "duration": 0,
    "start_time": "2022-05-21T17:00:16.295Z"
   },
   {
    "duration": 0,
    "start_time": "2022-05-21T17:00:16.296Z"
   },
   {
    "duration": 0,
    "start_time": "2022-05-21T17:00:16.297Z"
   },
   {
    "duration": 0,
    "start_time": "2022-05-21T17:00:16.298Z"
   },
   {
    "duration": 0,
    "start_time": "2022-05-21T17:00:16.299Z"
   },
   {
    "duration": 0,
    "start_time": "2022-05-21T17:00:16.300Z"
   },
   {
    "duration": 0,
    "start_time": "2022-05-21T17:00:16.301Z"
   },
   {
    "duration": 0,
    "start_time": "2022-05-21T17:00:16.302Z"
   },
   {
    "duration": 0,
    "start_time": "2022-05-21T17:00:16.303Z"
   },
   {
    "duration": 0,
    "start_time": "2022-05-21T17:00:16.304Z"
   },
   {
    "duration": 0,
    "start_time": "2022-05-21T17:00:16.305Z"
   },
   {
    "duration": 0,
    "start_time": "2022-05-21T17:00:16.307Z"
   },
   {
    "duration": 0,
    "start_time": "2022-05-21T17:00:16.308Z"
   },
   {
    "duration": 0,
    "start_time": "2022-05-21T17:00:16.309Z"
   },
   {
    "duration": 0,
    "start_time": "2022-05-21T17:00:16.310Z"
   },
   {
    "duration": 0,
    "start_time": "2022-05-21T17:00:16.311Z"
   },
   {
    "duration": 0,
    "start_time": "2022-05-21T17:00:16.312Z"
   },
   {
    "duration": 0,
    "start_time": "2022-05-21T17:00:16.313Z"
   },
   {
    "duration": 0,
    "start_time": "2022-05-21T17:00:16.314Z"
   },
   {
    "duration": 0,
    "start_time": "2022-05-21T17:00:16.315Z"
   },
   {
    "duration": 0,
    "start_time": "2022-05-21T17:00:16.316Z"
   },
   {
    "duration": 0,
    "start_time": "2022-05-21T17:00:16.317Z"
   },
   {
    "duration": 0,
    "start_time": "2022-05-21T17:00:16.318Z"
   },
   {
    "duration": 0,
    "start_time": "2022-05-21T17:00:16.318Z"
   },
   {
    "duration": 0,
    "start_time": "2022-05-21T17:00:16.320Z"
   },
   {
    "duration": 0,
    "start_time": "2022-05-21T17:00:16.321Z"
   },
   {
    "duration": 5,
    "start_time": "2022-05-21T17:00:31.521Z"
   },
   {
    "duration": 4,
    "start_time": "2022-05-21T17:00:40.283Z"
   },
   {
    "duration": 23,
    "start_time": "2022-05-21T17:00:43.184Z"
   },
   {
    "duration": 41,
    "start_time": "2022-05-21T17:03:52.463Z"
   },
   {
    "duration": 409,
    "start_time": "2022-05-21T17:03:53.027Z"
   },
   {
    "duration": 515,
    "start_time": "2022-05-21T17:03:54.449Z"
   },
   {
    "duration": 40,
    "start_time": "2022-05-21T17:03:56.113Z"
   },
   {
    "duration": 439,
    "start_time": "2022-05-21T17:03:56.870Z"
   },
   {
    "duration": 409,
    "start_time": "2022-05-21T17:04:02.865Z"
   },
   {
    "duration": 10,
    "start_time": "2022-05-21T17:04:15.619Z"
   },
   {
    "duration": 42,
    "start_time": "2022-05-21T17:04:18.235Z"
   },
   {
    "duration": 9,
    "start_time": "2022-05-21T17:04:18.721Z"
   },
   {
    "duration": 19,
    "start_time": "2022-05-21T17:06:46.251Z"
   },
   {
    "duration": 24,
    "start_time": "2022-05-21T17:06:49.587Z"
   },
   {
    "duration": 18,
    "start_time": "2022-05-21T17:07:20.208Z"
   },
   {
    "duration": 21,
    "start_time": "2022-05-21T17:07:26.087Z"
   },
   {
    "duration": 20,
    "start_time": "2022-05-21T17:07:36.483Z"
   },
   {
    "duration": 24,
    "start_time": "2022-05-21T17:08:25.069Z"
   },
   {
    "duration": 10,
    "start_time": "2022-05-21T18:29:28.917Z"
   },
   {
    "duration": 11,
    "start_time": "2022-05-21T18:29:35.925Z"
   },
   {
    "duration": 27,
    "start_time": "2022-05-21T18:29:41.166Z"
   },
   {
    "duration": 1193,
    "start_time": "2022-05-21T18:30:01.444Z"
   },
   {
    "duration": 80,
    "start_time": "2022-05-21T18:30:02.639Z"
   },
   {
    "duration": 12,
    "start_time": "2022-05-21T18:30:02.720Z"
   },
   {
    "duration": 73,
    "start_time": "2022-05-21T18:30:02.733Z"
   },
   {
    "duration": 9,
    "start_time": "2022-05-21T18:30:02.809Z"
   },
   {
    "duration": 15,
    "start_time": "2022-05-21T18:30:02.819Z"
   },
   {
    "duration": 7,
    "start_time": "2022-05-21T18:30:02.836Z"
   },
   {
    "duration": 12,
    "start_time": "2022-05-21T18:30:02.845Z"
   },
   {
    "duration": 41,
    "start_time": "2022-05-21T18:30:02.859Z"
   },
   {
    "duration": 39,
    "start_time": "2022-05-21T18:30:02.902Z"
   },
   {
    "duration": 23,
    "start_time": "2022-05-21T18:30:02.942Z"
   },
   {
    "duration": 52,
    "start_time": "2022-05-21T18:30:02.967Z"
   },
   {
    "duration": 34,
    "start_time": "2022-05-21T18:30:03.022Z"
   },
   {
    "duration": 14,
    "start_time": "2022-05-21T18:30:03.060Z"
   },
   {
    "duration": 42,
    "start_time": "2022-05-21T18:30:03.076Z"
   },
   {
    "duration": 16,
    "start_time": "2022-05-21T18:30:03.120Z"
   },
   {
    "duration": 21,
    "start_time": "2022-05-21T18:30:03.137Z"
   },
   {
    "duration": 47,
    "start_time": "2022-05-21T18:30:03.159Z"
   },
   {
    "duration": 18,
    "start_time": "2022-05-21T18:30:03.208Z"
   },
   {
    "duration": 495,
    "start_time": "2022-05-21T18:30:03.228Z"
   },
   {
    "duration": 350,
    "start_time": "2022-05-21T18:30:03.725Z"
   },
   {
    "duration": 24,
    "start_time": "2022-05-21T18:30:04.077Z"
   },
   {
    "duration": 1226,
    "start_time": "2022-05-21T18:30:04.102Z"
   },
   {
    "duration": 141,
    "start_time": "2022-05-21T18:30:05.330Z"
   },
   {
    "duration": 0,
    "start_time": "2022-05-21T18:30:05.473Z"
   },
   {
    "duration": 0,
    "start_time": "2022-05-21T18:30:05.475Z"
   },
   {
    "duration": 0,
    "start_time": "2022-05-21T18:30:05.476Z"
   },
   {
    "duration": 0,
    "start_time": "2022-05-21T18:30:05.477Z"
   },
   {
    "duration": 0,
    "start_time": "2022-05-21T18:30:05.479Z"
   },
   {
    "duration": 0,
    "start_time": "2022-05-21T18:30:05.494Z"
   },
   {
    "duration": 0,
    "start_time": "2022-05-21T18:30:05.496Z"
   },
   {
    "duration": 0,
    "start_time": "2022-05-21T18:30:05.497Z"
   },
   {
    "duration": 0,
    "start_time": "2022-05-21T18:30:05.499Z"
   },
   {
    "duration": 0,
    "start_time": "2022-05-21T18:30:05.501Z"
   },
   {
    "duration": 0,
    "start_time": "2022-05-21T18:30:05.502Z"
   },
   {
    "duration": 0,
    "start_time": "2022-05-21T18:30:05.503Z"
   },
   {
    "duration": 0,
    "start_time": "2022-05-21T18:30:05.504Z"
   },
   {
    "duration": 0,
    "start_time": "2022-05-21T18:30:05.505Z"
   },
   {
    "duration": 0,
    "start_time": "2022-05-21T18:30:05.506Z"
   },
   {
    "duration": 0,
    "start_time": "2022-05-21T18:30:05.508Z"
   },
   {
    "duration": 0,
    "start_time": "2022-05-21T18:30:05.508Z"
   },
   {
    "duration": 0,
    "start_time": "2022-05-21T18:30:05.510Z"
   },
   {
    "duration": 0,
    "start_time": "2022-05-21T18:30:05.511Z"
   },
   {
    "duration": 1,
    "start_time": "2022-05-21T18:30:05.512Z"
   },
   {
    "duration": 0,
    "start_time": "2022-05-21T18:30:05.514Z"
   },
   {
    "duration": 0,
    "start_time": "2022-05-21T18:30:05.515Z"
   },
   {
    "duration": 0,
    "start_time": "2022-05-21T18:30:05.517Z"
   },
   {
    "duration": 0,
    "start_time": "2022-05-21T18:30:05.519Z"
   },
   {
    "duration": 0,
    "start_time": "2022-05-21T18:30:05.520Z"
   },
   {
    "duration": 0,
    "start_time": "2022-05-21T18:30:05.522Z"
   },
   {
    "duration": 0,
    "start_time": "2022-05-21T18:30:05.524Z"
   },
   {
    "duration": 0,
    "start_time": "2022-05-21T18:30:05.525Z"
   },
   {
    "duration": 0,
    "start_time": "2022-05-21T18:30:05.529Z"
   },
   {
    "duration": 26,
    "start_time": "2022-05-21T18:30:52.279Z"
   },
   {
    "duration": 13,
    "start_time": "2022-05-21T18:32:03.572Z"
   },
   {
    "duration": 26,
    "start_time": "2022-05-21T18:32:32.988Z"
   },
   {
    "duration": 10,
    "start_time": "2022-05-21T18:33:22.386Z"
   },
   {
    "duration": 35,
    "start_time": "2022-05-21T18:33:31.195Z"
   },
   {
    "duration": 31,
    "start_time": "2022-05-21T18:33:35.985Z"
   },
   {
    "duration": 49,
    "start_time": "2022-05-21T18:33:46.401Z"
   },
   {
    "duration": 31,
    "start_time": "2022-05-21T18:33:51.419Z"
   },
   {
    "duration": 15,
    "start_time": "2022-05-21T18:34:04.626Z"
   },
   {
    "duration": 757,
    "start_time": "2022-05-21T18:34:19.344Z"
   },
   {
    "duration": 254,
    "start_time": "2022-05-21T18:34:36.818Z"
   },
   {
    "duration": 15,
    "start_time": "2022-05-21T18:35:00.370Z"
   },
   {
    "duration": 753,
    "start_time": "2022-05-21T18:35:04.746Z"
   },
   {
    "duration": 761,
    "start_time": "2022-05-21T18:35:26.401Z"
   },
   {
    "duration": 784,
    "start_time": "2022-05-21T18:35:33.028Z"
   },
   {
    "duration": 9,
    "start_time": "2022-05-21T18:38:04.812Z"
   },
   {
    "duration": 157,
    "start_time": "2022-05-21T18:38:11.900Z"
   },
   {
    "duration": 755,
    "start_time": "2022-05-21T18:38:18.202Z"
   },
   {
    "duration": 17,
    "start_time": "2022-05-21T18:38:55.935Z"
   },
   {
    "duration": 15,
    "start_time": "2022-05-21T18:39:02.103Z"
   },
   {
    "duration": 18,
    "start_time": "2022-05-21T18:39:17.008Z"
   },
   {
    "duration": 173,
    "start_time": "2022-05-21T18:39:38.416Z"
   },
   {
    "duration": 19,
    "start_time": "2022-05-21T18:39:47.807Z"
   },
   {
    "duration": 25,
    "start_time": "2022-05-21T18:40:41.447Z"
   },
   {
    "duration": 15,
    "start_time": "2022-05-21T18:41:02.110Z"
   },
   {
    "duration": 30,
    "start_time": "2022-05-21T18:41:09.137Z"
   },
   {
    "duration": 24,
    "start_time": "2022-05-21T18:42:55.702Z"
   },
   {
    "duration": 126,
    "start_time": "2022-05-21T18:43:26.392Z"
   },
   {
    "duration": 8,
    "start_time": "2022-05-21T18:46:36.063Z"
   },
   {
    "duration": 16,
    "start_time": "2022-05-21T18:46:41.719Z"
   },
   {
    "duration": 18,
    "start_time": "2022-05-21T18:47:05.647Z"
   },
   {
    "duration": 21,
    "start_time": "2022-05-21T18:50:27.144Z"
   },
   {
    "duration": 13,
    "start_time": "2022-05-21T18:50:32.336Z"
   },
   {
    "duration": 10,
    "start_time": "2022-05-21T18:54:46.604Z"
   },
   {
    "duration": 12,
    "start_time": "2022-05-21T18:54:46.615Z"
   },
   {
    "duration": 214,
    "start_time": "2022-05-21T18:54:46.628Z"
   },
   {
    "duration": 9,
    "start_time": "2022-05-21T18:55:14.784Z"
   },
   {
    "duration": 10,
    "start_time": "2022-05-21T18:55:46.732Z"
   },
   {
    "duration": 9,
    "start_time": "2022-05-21T18:55:47.135Z"
   },
   {
    "duration": 204,
    "start_time": "2022-05-21T18:55:48.152Z"
   },
   {
    "duration": 8,
    "start_time": "2022-05-21T18:57:26.398Z"
   },
   {
    "duration": 11,
    "start_time": "2022-05-21T18:57:26.889Z"
   },
   {
    "duration": 283,
    "start_time": "2022-05-21T18:57:27.302Z"
   },
   {
    "duration": 15,
    "start_time": "2022-05-21T18:57:34.309Z"
   },
   {
    "duration": 9,
    "start_time": "2022-05-21T18:57:34.591Z"
   },
   {
    "duration": 204,
    "start_time": "2022-05-21T18:57:34.978Z"
   },
   {
    "duration": 9,
    "start_time": "2022-05-21T18:57:39.791Z"
   },
   {
    "duration": 10,
    "start_time": "2022-05-21T18:57:40.039Z"
   },
   {
    "duration": 204,
    "start_time": "2022-05-21T18:57:40.313Z"
   },
   {
    "duration": 10,
    "start_time": "2022-05-21T18:57:46.638Z"
   },
   {
    "duration": 12,
    "start_time": "2022-05-21T18:57:46.920Z"
   },
   {
    "duration": 264,
    "start_time": "2022-05-21T18:57:47.190Z"
   },
   {
    "duration": 31,
    "start_time": "2022-05-21T19:00:29.634Z"
   },
   {
    "duration": 250,
    "start_time": "2022-05-21T19:00:30.118Z"
   },
   {
    "duration": 15,
    "start_time": "2022-05-21T19:02:28.190Z"
   },
   {
    "duration": 7,
    "start_time": "2022-05-21T19:03:54.290Z"
   },
   {
    "duration": 19,
    "start_time": "2022-05-21T19:03:59.100Z"
   },
   {
    "duration": 15,
    "start_time": "2022-05-21T19:04:15.501Z"
   },
   {
    "duration": 5,
    "start_time": "2022-05-21T19:04:28.554Z"
   },
   {
    "duration": 5,
    "start_time": "2022-05-21T19:04:38.226Z"
   },
   {
    "duration": 30,
    "start_time": "2022-05-21T19:05:14.806Z"
   },
   {
    "duration": 10,
    "start_time": "2022-05-21T19:05:16.330Z"
   },
   {
    "duration": 46,
    "start_time": "2022-05-21T19:05:24.030Z"
   },
   {
    "duration": 5,
    "start_time": "2022-05-21T19:05:37.098Z"
   },
   {
    "duration": 9,
    "start_time": "2022-05-21T19:05:44.746Z"
   },
   {
    "duration": 6,
    "start_time": "2022-05-21T19:05:45.346Z"
   },
   {
    "duration": 10,
    "start_time": "2022-05-21T19:06:14.902Z"
   },
   {
    "duration": 11,
    "start_time": "2022-05-21T19:06:18.892Z"
   },
   {
    "duration": 5,
    "start_time": "2022-05-21T19:06:19.202Z"
   },
   {
    "duration": 6,
    "start_time": "2022-05-21T19:06:25.011Z"
   },
   {
    "duration": 5,
    "start_time": "2022-05-21T19:06:40.194Z"
   },
   {
    "duration": 10,
    "start_time": "2022-05-21T19:06:42.932Z"
   },
   {
    "duration": 6,
    "start_time": "2022-05-21T19:06:43.255Z"
   },
   {
    "duration": 9,
    "start_time": "2022-05-21T19:06:50.318Z"
   },
   {
    "duration": 8,
    "start_time": "2022-05-21T19:06:54.313Z"
   },
   {
    "duration": 6,
    "start_time": "2022-05-21T19:06:54.753Z"
   },
   {
    "duration": 16,
    "start_time": "2022-05-21T19:07:25.402Z"
   },
   {
    "duration": 5,
    "start_time": "2022-05-21T19:07:45.601Z"
   },
   {
    "duration": 4,
    "start_time": "2022-05-21T19:07:47.948Z"
   },
   {
    "duration": 27,
    "start_time": "2022-05-21T19:08:01.417Z"
   },
   {
    "duration": 39,
    "start_time": "2022-05-21T19:09:58.337Z"
   },
   {
    "duration": 437,
    "start_time": "2022-05-21T19:24:54.121Z"
   },
   {
    "duration": 9,
    "start_time": "2022-05-21T19:31:53.414Z"
   },
   {
    "duration": 9,
    "start_time": "2022-05-21T19:31:56.449Z"
   },
   {
    "duration": 12,
    "start_time": "2022-05-21T19:32:07.252Z"
   },
   {
    "duration": 10,
    "start_time": "2022-05-21T19:32:12.793Z"
   },
   {
    "duration": 9,
    "start_time": "2022-05-21T19:32:15.414Z"
   },
   {
    "duration": 32,
    "start_time": "2022-05-21T19:32:25.634Z"
   },
   {
    "duration": 9,
    "start_time": "2022-05-21T19:32:28.592Z"
   },
   {
    "duration": 29,
    "start_time": "2022-05-21T19:32:37.453Z"
   },
   {
    "duration": 36,
    "start_time": "2022-05-21T19:33:54.044Z"
   },
   {
    "duration": 25,
    "start_time": "2022-05-21T19:34:00.858Z"
   },
   {
    "duration": 27,
    "start_time": "2022-05-21T19:34:05.196Z"
   },
   {
    "duration": 7,
    "start_time": "2022-05-21T19:34:11.154Z"
   },
   {
    "duration": 8,
    "start_time": "2022-05-21T19:34:12.402Z"
   },
   {
    "duration": 28,
    "start_time": "2022-05-21T19:34:16.016Z"
   },
   {
    "duration": 5,
    "start_time": "2022-05-21T19:34:19.400Z"
   },
   {
    "duration": 6,
    "start_time": "2022-05-21T19:34:44.377Z"
   },
   {
    "duration": 7,
    "start_time": "2022-05-21T19:34:45.892Z"
   },
   {
    "duration": 15,
    "start_time": "2022-05-21T19:34:46.471Z"
   },
   {
    "duration": 17,
    "start_time": "2022-05-21T19:34:52.386Z"
   },
   {
    "duration": 43,
    "start_time": "2022-05-21T19:34:59.194Z"
   },
   {
    "duration": 15,
    "start_time": "2022-05-21T19:35:01.414Z"
   },
   {
    "duration": 7,
    "start_time": "2022-05-21T19:35:06.497Z"
   },
   {
    "duration": 17,
    "start_time": "2022-05-21T19:35:07.330Z"
   },
   {
    "duration": 9,
    "start_time": "2022-05-21T19:35:30.394Z"
   },
   {
    "duration": 5,
    "start_time": "2022-05-21T19:35:30.817Z"
   },
   {
    "duration": 7,
    "start_time": "2022-05-21T19:35:35.551Z"
   },
   {
    "duration": 9,
    "start_time": "2022-05-21T19:35:50.425Z"
   },
   {
    "duration": 10,
    "start_time": "2022-05-21T19:35:50.914Z"
   },
   {
    "duration": 4,
    "start_time": "2022-05-21T19:36:03.621Z"
   },
   {
    "duration": 12,
    "start_time": "2022-05-21T19:38:17.714Z"
   },
   {
    "duration": 7,
    "start_time": "2022-05-21T19:38:19.342Z"
   },
   {
    "duration": 9,
    "start_time": "2022-05-21T19:38:19.610Z"
   },
   {
    "duration": 5,
    "start_time": "2022-05-21T19:38:19.818Z"
   },
   {
    "duration": 3,
    "start_time": "2022-05-21T19:38:24.798Z"
   },
   {
    "duration": 7,
    "start_time": "2022-05-21T19:38:25.053Z"
   },
   {
    "duration": 39,
    "start_time": "2022-05-21T19:38:25.318Z"
   },
   {
    "duration": 3,
    "start_time": "2022-05-21T19:38:25.598Z"
   },
   {
    "duration": 4,
    "start_time": "2022-05-21T19:38:39.030Z"
   },
   {
    "duration": 9,
    "start_time": "2022-05-21T19:41:33.803Z"
   },
   {
    "duration": 188,
    "start_time": "2022-05-21T19:42:13.284Z"
   },
   {
    "duration": 326,
    "start_time": "2022-05-21T19:43:20.427Z"
   },
   {
    "duration": 478,
    "start_time": "2022-05-21T19:44:19.694Z"
   },
   {
    "duration": 224,
    "start_time": "2022-05-21T19:45:58.592Z"
   },
   {
    "duration": 208,
    "start_time": "2022-05-21T19:46:54.437Z"
   },
   {
    "duration": 224,
    "start_time": "2022-05-21T19:47:56.031Z"
   },
   {
    "duration": 186,
    "start_time": "2022-05-21T19:48:13.115Z"
   },
   {
    "duration": 183,
    "start_time": "2022-05-21T19:48:30.518Z"
   },
   {
    "duration": 204,
    "start_time": "2022-05-21T19:48:33.700Z"
   },
   {
    "duration": 1158,
    "start_time": "2022-05-21T19:51:39.302Z"
   },
   {
    "duration": 82,
    "start_time": "2022-05-21T19:51:40.461Z"
   },
   {
    "duration": 13,
    "start_time": "2022-05-21T19:51:40.545Z"
   },
   {
    "duration": 73,
    "start_time": "2022-05-21T19:51:40.561Z"
   },
   {
    "duration": 9,
    "start_time": "2022-05-21T19:51:40.636Z"
   },
   {
    "duration": 8,
    "start_time": "2022-05-21T19:51:40.647Z"
   },
   {
    "duration": 7,
    "start_time": "2022-05-21T19:51:40.657Z"
   },
   {
    "duration": 12,
    "start_time": "2022-05-21T19:51:40.667Z"
   },
   {
    "duration": 15,
    "start_time": "2022-05-21T19:51:40.695Z"
   },
   {
    "duration": 26,
    "start_time": "2022-05-21T19:51:40.712Z"
   },
   {
    "duration": 21,
    "start_time": "2022-05-21T19:51:40.740Z"
   },
   {
    "duration": 51,
    "start_time": "2022-05-21T19:51:40.763Z"
   },
   {
    "duration": 30,
    "start_time": "2022-05-21T19:51:40.816Z"
   },
   {
    "duration": 15,
    "start_time": "2022-05-21T19:51:40.847Z"
   },
   {
    "duration": 41,
    "start_time": "2022-05-21T19:51:40.864Z"
   },
   {
    "duration": 16,
    "start_time": "2022-05-21T19:51:40.907Z"
   },
   {
    "duration": 22,
    "start_time": "2022-05-21T19:51:40.925Z"
   },
   {
    "duration": 50,
    "start_time": "2022-05-21T19:51:40.948Z"
   },
   {
    "duration": 18,
    "start_time": "2022-05-21T19:51:41.000Z"
   },
   {
    "duration": 569,
    "start_time": "2022-05-21T19:51:41.019Z"
   },
   {
    "duration": 417,
    "start_time": "2022-05-21T19:51:41.590Z"
   },
   {
    "duration": 22,
    "start_time": "2022-05-21T19:51:42.009Z"
   },
   {
    "duration": 1389,
    "start_time": "2022-05-21T19:51:42.033Z"
   },
   {
    "duration": 32,
    "start_time": "2022-05-21T19:51:43.425Z"
   },
   {
    "duration": 922,
    "start_time": "2022-05-21T19:51:43.459Z"
   },
   {
    "duration": 23,
    "start_time": "2022-05-21T19:51:44.383Z"
   },
   {
    "duration": 17,
    "start_time": "2022-05-21T19:51:44.408Z"
   },
   {
    "duration": 12,
    "start_time": "2022-05-21T19:51:44.431Z"
   },
   {
    "duration": 9,
    "start_time": "2022-05-21T19:51:44.445Z"
   },
   {
    "duration": 250,
    "start_time": "2022-05-21T19:51:44.456Z"
   },
   {
    "duration": 10,
    "start_time": "2022-05-21T19:51:44.708Z"
   },
   {
    "duration": 279,
    "start_time": "2022-05-21T19:51:44.719Z"
   },
   {
    "duration": 187,
    "start_time": "2022-05-21T19:51:45.001Z"
   },
   {
    "duration": 8,
    "start_time": "2022-05-21T19:51:45.190Z"
   },
   {
    "duration": 34,
    "start_time": "2022-05-21T19:51:45.200Z"
   },
   {
    "duration": 2319,
    "start_time": "2022-05-21T19:51:45.236Z"
   },
   {
    "duration": 123,
    "start_time": "2022-05-21T19:51:47.557Z"
   },
   {
    "duration": 136,
    "start_time": "2022-05-21T19:51:47.683Z"
   },
   {
    "duration": 27,
    "start_time": "2022-05-21T19:51:47.821Z"
   },
   {
    "duration": 401,
    "start_time": "2022-05-21T19:51:47.853Z"
   },
   {
    "duration": 35,
    "start_time": "2022-05-21T19:51:48.257Z"
   },
   {
    "duration": 73,
    "start_time": "2022-05-21T19:51:48.295Z"
   },
   {
    "duration": 22,
    "start_time": "2022-05-21T19:51:48.370Z"
   },
   {
    "duration": 110,
    "start_time": "2022-05-21T19:51:48.395Z"
   },
   {
    "duration": 4,
    "start_time": "2022-05-21T19:51:48.511Z"
   },
   {
    "duration": 277,
    "start_time": "2022-05-21T19:51:48.518Z"
   },
   {
    "duration": 232,
    "start_time": "2022-05-21T19:51:48.798Z"
   },
   {
    "duration": 488,
    "start_time": "2022-05-21T19:51:49.032Z"
   },
   {
    "duration": 579,
    "start_time": "2022-05-21T19:51:49.523Z"
   },
   {
    "duration": 46,
    "start_time": "2022-05-21T19:51:50.104Z"
   },
   {
    "duration": 568,
    "start_time": "2022-05-21T19:51:50.152Z"
   },
   {
    "duration": 537,
    "start_time": "2022-05-21T19:51:50.722Z"
   },
   {
    "duration": 69,
    "start_time": "2022-05-21T19:51:51.262Z"
   },
   {
    "duration": 491,
    "start_time": "2022-05-21T19:51:51.333Z"
   },
   {
    "duration": 619,
    "start_time": "2022-05-21T19:51:51.826Z"
   },
   {
    "duration": 15,
    "start_time": "2022-05-21T19:51:52.448Z"
   },
   {
    "duration": 8,
    "start_time": "2022-05-21T19:51:52.465Z"
   },
   {
    "duration": 25,
    "start_time": "2022-05-21T19:51:52.474Z"
   },
   {
    "duration": 18,
    "start_time": "2022-05-21T19:51:52.501Z"
   },
   {
    "duration": 5,
    "start_time": "2022-05-21T19:51:52.521Z"
   },
   {
    "duration": 15,
    "start_time": "2022-05-21T19:51:52.528Z"
   },
   {
    "duration": 72,
    "start_time": "2022-05-22T08:49:27.625Z"
   },
   {
    "duration": 37,
    "start_time": "2022-05-22T09:58:46.857Z"
   },
   {
    "duration": 444,
    "start_time": "2022-05-22T10:07:22.878Z"
   },
   {
    "duration": 31,
    "start_time": "2022-05-22T10:14:00.440Z"
   },
   {
    "duration": 4,
    "start_time": "2022-05-22T10:14:00.683Z"
   },
   {
    "duration": 16,
    "start_time": "2022-05-22T10:14:00.961Z"
   },
   {
    "duration": 32,
    "start_time": "2022-05-22T10:18:52.091Z"
   },
   {
    "duration": 59,
    "start_time": "2022-05-23T07:50:40.248Z"
   },
   {
    "duration": 1576,
    "start_time": "2022-05-23T07:50:48.492Z"
   },
   {
    "duration": 217,
    "start_time": "2022-05-23T07:50:50.070Z"
   },
   {
    "duration": 11,
    "start_time": "2022-05-23T07:50:50.289Z"
   },
   {
    "duration": 51,
    "start_time": "2022-05-23T07:50:50.302Z"
   },
   {
    "duration": 8,
    "start_time": "2022-05-23T07:50:50.354Z"
   },
   {
    "duration": 32,
    "start_time": "2022-05-23T07:50:50.364Z"
   },
   {
    "duration": 6,
    "start_time": "2022-05-23T07:50:50.397Z"
   },
   {
    "duration": 9,
    "start_time": "2022-05-23T07:50:50.404Z"
   },
   {
    "duration": 15,
    "start_time": "2022-05-23T07:50:50.414Z"
   },
   {
    "duration": 66,
    "start_time": "2022-05-23T07:50:50.431Z"
   },
   {
    "duration": 20,
    "start_time": "2022-05-23T07:50:50.499Z"
   },
   {
    "duration": 21,
    "start_time": "2022-05-23T07:50:50.520Z"
   },
   {
    "duration": 54,
    "start_time": "2022-05-23T07:50:50.543Z"
   },
   {
    "duration": 9,
    "start_time": "2022-05-23T07:50:50.599Z"
   },
   {
    "duration": 19,
    "start_time": "2022-05-23T07:50:50.609Z"
   },
   {
    "duration": 17,
    "start_time": "2022-05-23T07:50:50.630Z"
   },
   {
    "duration": 48,
    "start_time": "2022-05-23T07:50:50.648Z"
   },
   {
    "duration": 21,
    "start_time": "2022-05-23T07:50:50.697Z"
   },
   {
    "duration": 20,
    "start_time": "2022-05-23T07:50:50.719Z"
   },
   {
    "duration": 16,
    "start_time": "2022-05-23T07:50:50.742Z"
   },
   {
    "duration": 487,
    "start_time": "2022-05-23T07:50:50.759Z"
   },
   {
    "duration": 341,
    "start_time": "2022-05-23T07:50:51.248Z"
   },
   {
    "duration": 16,
    "start_time": "2022-05-23T07:50:51.590Z"
   },
   {
    "duration": 1189,
    "start_time": "2022-05-23T07:50:51.608Z"
   },
   {
    "duration": 30,
    "start_time": "2022-05-23T07:50:52.799Z"
   },
   {
    "duration": 825,
    "start_time": "2022-05-23T07:50:52.830Z"
   },
   {
    "duration": 37,
    "start_time": "2022-05-23T07:50:53.658Z"
   },
   {
    "duration": 14,
    "start_time": "2022-05-23T07:50:53.701Z"
   },
   {
    "duration": 12,
    "start_time": "2022-05-23T07:50:53.717Z"
   },
   {
    "duration": 12,
    "start_time": "2022-05-23T07:50:53.734Z"
   },
   {
    "duration": 268,
    "start_time": "2022-05-23T07:50:53.748Z"
   },
   {
    "duration": 10,
    "start_time": "2022-05-23T07:50:54.018Z"
   },
   {
    "duration": 288,
    "start_time": "2022-05-23T07:50:54.030Z"
   },
   {
    "duration": 176,
    "start_time": "2022-05-23T07:50:54.320Z"
   },
   {
    "duration": 5,
    "start_time": "2022-05-23T07:50:54.499Z"
   },
   {
    "duration": 12,
    "start_time": "2022-05-23T07:50:54.507Z"
   },
   {
    "duration": 1898,
    "start_time": "2022-05-23T07:50:54.521Z"
   },
   {
    "duration": 99,
    "start_time": "2022-05-23T07:50:56.421Z"
   },
   {
    "duration": 100,
    "start_time": "2022-05-23T07:50:56.522Z"
   },
   {
    "duration": 15,
    "start_time": "2022-05-23T07:50:56.624Z"
   },
   {
    "duration": 249,
    "start_time": "2022-05-23T07:50:56.641Z"
   },
   {
    "duration": 17,
    "start_time": "2022-05-23T07:50:56.894Z"
   },
   {
    "duration": 9,
    "start_time": "2022-05-23T07:50:56.913Z"
   },
   {
    "duration": 10,
    "start_time": "2022-05-23T07:50:56.924Z"
   },
   {
    "duration": 90,
    "start_time": "2022-05-23T07:50:56.936Z"
   },
   {
    "duration": 4,
    "start_time": "2022-05-23T07:50:57.028Z"
   },
   {
    "duration": 268,
    "start_time": "2022-05-23T07:50:57.033Z"
   },
   {
    "duration": 185,
    "start_time": "2022-05-23T07:50:57.303Z"
   },
   {
    "duration": 487,
    "start_time": "2022-05-23T07:50:57.490Z"
   },
   {
    "duration": 493,
    "start_time": "2022-05-23T07:50:57.980Z"
   },
   {
    "duration": 49,
    "start_time": "2022-05-23T07:50:58.475Z"
   },
   {
    "duration": 434,
    "start_time": "2022-05-23T07:50:58.525Z"
   },
   {
    "duration": 457,
    "start_time": "2022-05-23T07:50:58.960Z"
   },
   {
    "duration": 40,
    "start_time": "2022-05-23T07:50:59.419Z"
   },
   {
    "duration": 472,
    "start_time": "2022-05-23T07:50:59.461Z"
   },
   {
    "duration": 606,
    "start_time": "2022-05-23T07:50:59.935Z"
   },
   {
    "duration": 12,
    "start_time": "2022-05-23T07:51:00.543Z"
   },
   {
    "duration": 20,
    "start_time": "2022-05-23T07:51:00.557Z"
   },
   {
    "duration": 34,
    "start_time": "2022-05-23T07:51:00.579Z"
   },
   {
    "duration": 75,
    "start_time": "2022-05-23T07:51:00.614Z"
   },
   {
    "duration": 16,
    "start_time": "2022-05-23T07:51:00.691Z"
   },
   {
    "duration": 15,
    "start_time": "2022-05-23T07:51:00.708Z"
   },
   {
    "duration": 20,
    "start_time": "2022-05-23T07:55:50.336Z"
   },
   {
    "duration": 1371,
    "start_time": "2022-05-23T09:11:20.121Z"
   },
   {
    "duration": 123,
    "start_time": "2022-05-23T09:11:21.494Z"
   },
   {
    "duration": 16,
    "start_time": "2022-05-23T09:11:21.619Z"
   },
   {
    "duration": 76,
    "start_time": "2022-05-23T09:11:21.638Z"
   },
   {
    "duration": 10,
    "start_time": "2022-05-23T09:11:21.716Z"
   },
   {
    "duration": 7,
    "start_time": "2022-05-23T09:11:21.728Z"
   },
   {
    "duration": 12,
    "start_time": "2022-05-23T09:11:21.737Z"
   },
   {
    "duration": 10,
    "start_time": "2022-05-23T09:11:21.751Z"
   },
   {
    "duration": 38,
    "start_time": "2022-05-23T09:11:21.763Z"
   },
   {
    "duration": 45,
    "start_time": "2022-05-23T09:11:21.804Z"
   },
   {
    "duration": 23,
    "start_time": "2022-05-23T09:11:21.851Z"
   },
   {
    "duration": 39,
    "start_time": "2022-05-23T09:11:21.876Z"
   },
   {
    "duration": 21,
    "start_time": "2022-05-23T09:11:21.919Z"
   },
   {
    "duration": 11,
    "start_time": "2022-05-23T09:11:21.942Z"
   },
   {
    "duration": 42,
    "start_time": "2022-05-23T09:11:21.955Z"
   },
   {
    "duration": 39,
    "start_time": "2022-05-23T09:11:21.999Z"
   },
   {
    "duration": 31,
    "start_time": "2022-05-23T09:11:22.043Z"
   },
   {
    "duration": 33,
    "start_time": "2022-05-23T09:11:22.076Z"
   },
   {
    "duration": 29,
    "start_time": "2022-05-23T09:11:22.113Z"
   },
   {
    "duration": 23,
    "start_time": "2022-05-23T09:11:22.144Z"
   },
   {
    "duration": 699,
    "start_time": "2022-05-23T09:11:22.169Z"
   },
   {
    "duration": 409,
    "start_time": "2022-05-23T09:11:22.869Z"
   },
   {
    "duration": 36,
    "start_time": "2022-05-23T09:11:23.280Z"
   },
   {
    "duration": 1543,
    "start_time": "2022-05-23T09:11:23.318Z"
   },
   {
    "duration": 52,
    "start_time": "2022-05-23T09:11:24.863Z"
   },
   {
    "duration": 868,
    "start_time": "2022-05-23T09:11:24.917Z"
   },
   {
    "duration": 24,
    "start_time": "2022-05-23T09:11:25.787Z"
   },
   {
    "duration": 33,
    "start_time": "2022-05-23T09:11:25.816Z"
   },
   {
    "duration": 10,
    "start_time": "2022-05-23T09:11:25.850Z"
   },
   {
    "duration": 12,
    "start_time": "2022-05-23T09:11:25.862Z"
   },
   {
    "duration": 239,
    "start_time": "2022-05-23T09:11:25.876Z"
   },
   {
    "duration": 8,
    "start_time": "2022-05-23T09:11:26.117Z"
   },
   {
    "duration": 265,
    "start_time": "2022-05-23T09:11:26.127Z"
   },
   {
    "duration": 161,
    "start_time": "2022-05-23T09:11:26.394Z"
   },
   {
    "duration": 5,
    "start_time": "2022-05-23T09:11:26.557Z"
   },
   {
    "duration": 12,
    "start_time": "2022-05-23T09:11:26.564Z"
   },
   {
    "duration": 1990,
    "start_time": "2022-05-23T09:11:26.578Z"
   },
   {
    "duration": 93,
    "start_time": "2022-05-23T09:11:28.570Z"
   },
   {
    "duration": 92,
    "start_time": "2022-05-23T09:11:28.665Z"
   },
   {
    "duration": 16,
    "start_time": "2022-05-23T09:11:28.758Z"
   },
   {
    "duration": 267,
    "start_time": "2022-05-23T09:11:28.776Z"
   },
   {
    "duration": 15,
    "start_time": "2022-05-23T09:11:29.044Z"
   },
   {
    "duration": 8,
    "start_time": "2022-05-23T09:11:29.061Z"
   },
   {
    "duration": 7,
    "start_time": "2022-05-23T09:11:29.071Z"
   },
   {
    "duration": 40,
    "start_time": "2022-05-23T09:11:29.100Z"
   },
   {
    "duration": 3,
    "start_time": "2022-05-23T09:11:29.142Z"
   },
   {
    "duration": 214,
    "start_time": "2022-05-23T09:11:29.147Z"
   },
   {
    "duration": 158,
    "start_time": "2022-05-23T09:11:29.363Z"
   },
   {
    "duration": 453,
    "start_time": "2022-05-23T09:11:29.523Z"
   },
   {
    "duration": 493,
    "start_time": "2022-05-23T09:11:29.978Z"
   },
   {
    "duration": 52,
    "start_time": "2022-05-23T09:11:30.473Z"
   },
   {
    "duration": 471,
    "start_time": "2022-05-23T09:11:30.527Z"
   },
   {
    "duration": 503,
    "start_time": "2022-05-23T09:11:31.003Z"
   },
   {
    "duration": 54,
    "start_time": "2022-05-23T09:11:31.515Z"
   },
   {
    "duration": 537,
    "start_time": "2022-05-23T09:11:31.570Z"
   },
   {
    "duration": 631,
    "start_time": "2022-05-23T09:11:32.118Z"
   },
   {
    "duration": 11,
    "start_time": "2022-05-23T09:11:32.751Z"
   },
   {
    "duration": 4,
    "start_time": "2022-05-23T09:11:32.764Z"
   },
   {
    "duration": 34,
    "start_time": "2022-05-23T09:11:32.769Z"
   },
   {
    "duration": 14,
    "start_time": "2022-05-23T09:11:32.808Z"
   },
   {
    "duration": 5,
    "start_time": "2022-05-23T09:11:32.824Z"
   },
   {
    "duration": 7,
    "start_time": "2022-05-23T09:11:32.831Z"
   },
   {
    "duration": 59,
    "start_time": "2022-05-23T11:41:32.429Z"
   },
   {
    "duration": 1307,
    "start_time": "2022-05-23T11:41:37.545Z"
   },
   {
    "duration": 215,
    "start_time": "2022-05-23T11:41:38.855Z"
   },
   {
    "duration": 13,
    "start_time": "2022-05-23T11:41:39.072Z"
   },
   {
    "duration": 59,
    "start_time": "2022-05-23T11:41:39.086Z"
   },
   {
    "duration": 9,
    "start_time": "2022-05-23T11:41:39.147Z"
   },
   {
    "duration": 9,
    "start_time": "2022-05-23T11:41:39.157Z"
   },
   {
    "duration": 11,
    "start_time": "2022-05-23T11:41:39.168Z"
   },
   {
    "duration": 8,
    "start_time": "2022-05-23T11:41:39.195Z"
   },
   {
    "duration": 23,
    "start_time": "2022-05-23T11:41:39.204Z"
   },
   {
    "duration": 34,
    "start_time": "2022-05-23T11:41:39.229Z"
   },
   {
    "duration": 42,
    "start_time": "2022-05-23T11:41:39.265Z"
   },
   {
    "duration": 21,
    "start_time": "2022-05-23T11:41:39.309Z"
   },
   {
    "duration": 36,
    "start_time": "2022-05-23T11:41:39.332Z"
   },
   {
    "duration": 28,
    "start_time": "2022-05-23T11:41:39.371Z"
   },
   {
    "duration": 25,
    "start_time": "2022-05-23T11:41:39.401Z"
   },
   {
    "duration": 17,
    "start_time": "2022-05-23T11:41:39.428Z"
   },
   {
    "duration": 32,
    "start_time": "2022-05-23T11:41:39.447Z"
   },
   {
    "duration": 22,
    "start_time": "2022-05-23T11:41:39.495Z"
   },
   {
    "duration": 20,
    "start_time": "2022-05-23T11:41:39.518Z"
   },
   {
    "duration": 19,
    "start_time": "2022-05-23T11:41:39.540Z"
   },
   {
    "duration": 514,
    "start_time": "2022-05-23T11:41:39.561Z"
   },
   {
    "duration": 367,
    "start_time": "2022-05-23T11:41:40.077Z"
   },
   {
    "duration": 17,
    "start_time": "2022-05-23T11:41:40.445Z"
   },
   {
    "duration": 1137,
    "start_time": "2022-05-23T11:41:40.463Z"
   },
   {
    "duration": 28,
    "start_time": "2022-05-23T11:41:41.602Z"
   },
   {
    "duration": 772,
    "start_time": "2022-05-23T11:41:41.632Z"
   },
   {
    "duration": 19,
    "start_time": "2022-05-23T11:41:42.406Z"
   },
   {
    "duration": 16,
    "start_time": "2022-05-23T11:41:42.427Z"
   },
   {
    "duration": 7,
    "start_time": "2022-05-23T11:41:42.444Z"
   },
   {
    "duration": 14,
    "start_time": "2022-05-23T11:41:42.453Z"
   },
   {
    "duration": 218,
    "start_time": "2022-05-23T11:41:42.495Z"
   },
   {
    "duration": 10,
    "start_time": "2022-05-23T11:41:42.715Z"
   },
   {
    "duration": 272,
    "start_time": "2022-05-23T11:41:42.727Z"
   },
   {
    "duration": 153,
    "start_time": "2022-05-23T11:41:43.001Z"
   },
   {
    "duration": 6,
    "start_time": "2022-05-23T11:41:43.155Z"
   },
   {
    "duration": 10,
    "start_time": "2022-05-23T11:41:43.162Z"
   },
   {
    "duration": 1580,
    "start_time": "2022-05-23T11:41:43.173Z"
   },
   {
    "duration": 72,
    "start_time": "2022-05-23T11:41:44.754Z"
   },
   {
    "duration": 82,
    "start_time": "2022-05-23T11:41:44.828Z"
   },
   {
    "duration": 17,
    "start_time": "2022-05-23T11:41:44.912Z"
   },
   {
    "duration": 242,
    "start_time": "2022-05-23T11:41:44.933Z"
   },
   {
    "duration": 20,
    "start_time": "2022-05-23T11:41:45.176Z"
   },
   {
    "duration": 14,
    "start_time": "2022-05-23T11:41:45.197Z"
   },
   {
    "duration": 5,
    "start_time": "2022-05-23T11:41:45.212Z"
   },
   {
    "duration": 37,
    "start_time": "2022-05-23T11:41:45.219Z"
   },
   {
    "duration": 3,
    "start_time": "2022-05-23T11:41:45.258Z"
   },
   {
    "duration": 242,
    "start_time": "2022-05-23T11:41:45.262Z"
   },
   {
    "duration": 160,
    "start_time": "2022-05-23T11:41:45.506Z"
   },
   {
    "duration": 409,
    "start_time": "2022-05-23T11:41:45.667Z"
   },
   {
    "duration": 404,
    "start_time": "2022-05-23T11:41:46.078Z"
   },
   {
    "duration": 38,
    "start_time": "2022-05-23T11:41:46.495Z"
   },
   {
    "duration": 418,
    "start_time": "2022-05-23T11:41:46.535Z"
   },
   {
    "duration": 493,
    "start_time": "2022-05-23T11:41:46.954Z"
   },
   {
    "duration": 56,
    "start_time": "2022-05-23T11:41:47.449Z"
   },
   {
    "duration": 422,
    "start_time": "2022-05-23T11:41:47.507Z"
   },
   {
    "duration": 544,
    "start_time": "2022-05-23T11:41:47.932Z"
   },
   {
    "duration": 23,
    "start_time": "2022-05-23T11:41:48.478Z"
   },
   {
    "duration": 14,
    "start_time": "2022-05-23T11:41:48.503Z"
   },
   {
    "duration": 22,
    "start_time": "2022-05-23T11:41:48.518Z"
   },
   {
    "duration": 19,
    "start_time": "2022-05-23T11:41:48.541Z"
   },
   {
    "duration": 21,
    "start_time": "2022-05-23T11:41:48.562Z"
   },
   {
    "duration": 17,
    "start_time": "2022-05-23T11:41:48.584Z"
   },
   {
    "duration": 40,
    "start_time": "2022-05-23T11:47:58.151Z"
   },
   {
    "duration": 392,
    "start_time": "2022-05-23T11:47:58.707Z"
   },
   {
    "duration": 1201,
    "start_time": "2022-05-23T11:49:28.768Z"
   },
   {
    "duration": 100,
    "start_time": "2022-05-23T11:49:29.970Z"
   },
   {
    "duration": 13,
    "start_time": "2022-05-23T11:49:30.072Z"
   },
   {
    "duration": 69,
    "start_time": "2022-05-23T11:49:30.088Z"
   },
   {
    "duration": 11,
    "start_time": "2022-05-23T11:49:30.159Z"
   },
   {
    "duration": 8,
    "start_time": "2022-05-23T11:49:30.172Z"
   },
   {
    "duration": 6,
    "start_time": "2022-05-23T11:49:30.195Z"
   },
   {
    "duration": 28,
    "start_time": "2022-05-23T11:49:30.203Z"
   },
   {
    "duration": 19,
    "start_time": "2022-05-23T11:49:30.233Z"
   },
   {
    "duration": 30,
    "start_time": "2022-05-23T11:49:30.255Z"
   },
   {
    "duration": 28,
    "start_time": "2022-05-23T11:49:30.287Z"
   },
   {
    "duration": 22,
    "start_time": "2022-05-23T11:49:30.316Z"
   },
   {
    "duration": 21,
    "start_time": "2022-05-23T11:49:30.340Z"
   },
   {
    "duration": 39,
    "start_time": "2022-05-23T11:49:30.363Z"
   },
   {
    "duration": 28,
    "start_time": "2022-05-23T11:49:30.404Z"
   },
   {
    "duration": 25,
    "start_time": "2022-05-23T11:49:30.434Z"
   },
   {
    "duration": 15,
    "start_time": "2022-05-23T11:49:30.461Z"
   },
   {
    "duration": 29,
    "start_time": "2022-05-23T11:49:30.495Z"
   },
   {
    "duration": 25,
    "start_time": "2022-05-23T11:49:30.526Z"
   },
   {
    "duration": 27,
    "start_time": "2022-05-23T11:49:30.553Z"
   },
   {
    "duration": 532,
    "start_time": "2022-05-23T11:49:30.582Z"
   },
   {
    "duration": 371,
    "start_time": "2022-05-23T11:49:31.116Z"
   },
   {
    "duration": 25,
    "start_time": "2022-05-23T11:49:31.489Z"
   },
   {
    "duration": 1261,
    "start_time": "2022-05-23T11:49:31.516Z"
   },
   {
    "duration": 41,
    "start_time": "2022-05-23T11:49:32.779Z"
   },
   {
    "duration": 806,
    "start_time": "2022-05-23T11:49:32.822Z"
   },
   {
    "duration": 21,
    "start_time": "2022-05-23T11:49:33.629Z"
   },
   {
    "duration": 26,
    "start_time": "2022-05-23T11:49:33.653Z"
   },
   {
    "duration": 24,
    "start_time": "2022-05-23T11:49:33.680Z"
   },
   {
    "duration": 22,
    "start_time": "2022-05-23T11:49:33.707Z"
   },
   {
    "duration": 230,
    "start_time": "2022-05-23T11:49:33.730Z"
   },
   {
    "duration": 8,
    "start_time": "2022-05-23T11:49:33.961Z"
   },
   {
    "duration": 276,
    "start_time": "2022-05-23T11:49:33.971Z"
   },
   {
    "duration": 162,
    "start_time": "2022-05-23T11:49:34.249Z"
   },
   {
    "duration": 4,
    "start_time": "2022-05-23T11:49:34.413Z"
   },
   {
    "duration": 25,
    "start_time": "2022-05-23T11:49:34.419Z"
   },
   {
    "duration": 1735,
    "start_time": "2022-05-23T11:49:34.445Z"
   },
   {
    "duration": 81,
    "start_time": "2022-05-23T11:49:36.182Z"
   },
   {
    "duration": 91,
    "start_time": "2022-05-23T11:49:36.265Z"
   },
   {
    "duration": 15,
    "start_time": "2022-05-23T11:49:36.357Z"
   },
   {
    "duration": 244,
    "start_time": "2022-05-23T11:49:36.373Z"
   },
   {
    "duration": 15,
    "start_time": "2022-05-23T11:49:36.618Z"
   },
   {
    "duration": 24,
    "start_time": "2022-05-23T11:49:36.634Z"
   },
   {
    "duration": 23,
    "start_time": "2022-05-23T11:49:36.659Z"
   },
   {
    "duration": 53,
    "start_time": "2022-05-23T11:49:36.684Z"
   },
   {
    "duration": 3,
    "start_time": "2022-05-23T11:49:36.739Z"
   },
   {
    "duration": 214,
    "start_time": "2022-05-23T11:49:36.743Z"
   },
   {
    "duration": 170,
    "start_time": "2022-05-23T11:49:36.958Z"
   },
   {
    "duration": 550,
    "start_time": "2022-05-23T11:49:37.130Z"
   },
   {
    "duration": 440,
    "start_time": "2022-05-23T11:49:37.683Z"
   },
   {
    "duration": 38,
    "start_time": "2022-05-23T11:49:38.125Z"
   },
   {
    "duration": 473,
    "start_time": "2022-05-23T11:49:38.165Z"
   },
   {
    "duration": 445,
    "start_time": "2022-05-23T11:49:38.640Z"
   },
   {
    "duration": 44,
    "start_time": "2022-05-23T11:49:39.087Z"
   },
   {
    "duration": 431,
    "start_time": "2022-05-23T11:49:39.133Z"
   },
   {
    "duration": 563,
    "start_time": "2022-05-23T11:49:39.566Z"
   },
   {
    "duration": 11,
    "start_time": "2022-05-23T11:49:40.131Z"
   },
   {
    "duration": 7,
    "start_time": "2022-05-23T11:49:40.143Z"
   },
   {
    "duration": 7,
    "start_time": "2022-05-23T11:49:40.152Z"
   },
   {
    "duration": 36,
    "start_time": "2022-05-23T11:49:40.160Z"
   },
   {
    "duration": 6,
    "start_time": "2022-05-23T11:49:40.198Z"
   },
   {
    "duration": 39,
    "start_time": "2022-05-23T11:49:40.206Z"
   },
   {
    "duration": 1181,
    "start_time": "2022-05-23T11:50:41.718Z"
   },
   {
    "duration": 85,
    "start_time": "2022-05-23T11:50:42.901Z"
   },
   {
    "duration": 16,
    "start_time": "2022-05-23T11:50:42.987Z"
   },
   {
    "duration": 60,
    "start_time": "2022-05-23T11:50:43.013Z"
   },
   {
    "duration": 9,
    "start_time": "2022-05-23T11:50:43.074Z"
   },
   {
    "duration": 10,
    "start_time": "2022-05-23T11:50:43.095Z"
   },
   {
    "duration": 15,
    "start_time": "2022-05-23T11:50:43.107Z"
   },
   {
    "duration": 22,
    "start_time": "2022-05-23T11:50:43.124Z"
   },
   {
    "duration": 21,
    "start_time": "2022-05-23T11:50:43.148Z"
   },
   {
    "duration": 45,
    "start_time": "2022-05-23T11:50:43.173Z"
   },
   {
    "duration": 21,
    "start_time": "2022-05-23T11:50:43.221Z"
   },
   {
    "duration": 23,
    "start_time": "2022-05-23T11:50:43.243Z"
   },
   {
    "duration": 28,
    "start_time": "2022-05-23T11:50:43.294Z"
   },
   {
    "duration": 10,
    "start_time": "2022-05-23T11:50:43.323Z"
   },
   {
    "duration": 18,
    "start_time": "2022-05-23T11:50:43.335Z"
   },
   {
    "duration": 56,
    "start_time": "2022-05-23T11:50:43.356Z"
   },
   {
    "duration": 17,
    "start_time": "2022-05-23T11:50:43.414Z"
   },
   {
    "duration": 21,
    "start_time": "2022-05-23T11:50:43.433Z"
   },
   {
    "duration": 52,
    "start_time": "2022-05-23T11:50:43.456Z"
   },
   {
    "duration": 26,
    "start_time": "2022-05-23T11:50:43.510Z"
   },
   {
    "duration": 506,
    "start_time": "2022-05-23T11:50:43.538Z"
   },
   {
    "duration": 383,
    "start_time": "2022-05-23T11:50:44.046Z"
   },
   {
    "duration": 16,
    "start_time": "2022-05-23T11:50:44.430Z"
   },
   {
    "duration": 1306,
    "start_time": "2022-05-23T11:50:44.447Z"
   },
   {
    "duration": 51,
    "start_time": "2022-05-23T11:50:45.756Z"
   },
   {
    "duration": 900,
    "start_time": "2022-05-23T11:50:45.809Z"
   },
   {
    "duration": 18,
    "start_time": "2022-05-23T11:50:46.712Z"
   },
   {
    "duration": 23,
    "start_time": "2022-05-23T11:50:46.733Z"
   },
   {
    "duration": 21,
    "start_time": "2022-05-23T11:50:46.757Z"
   },
   {
    "duration": 29,
    "start_time": "2022-05-23T11:50:46.794Z"
   },
   {
    "duration": 246,
    "start_time": "2022-05-23T11:50:46.825Z"
   },
   {
    "duration": 22,
    "start_time": "2022-05-23T11:50:47.073Z"
   },
   {
    "duration": 268,
    "start_time": "2022-05-23T11:50:47.098Z"
   },
   {
    "duration": 187,
    "start_time": "2022-05-23T11:50:47.367Z"
   },
   {
    "duration": 5,
    "start_time": "2022-05-23T11:50:47.556Z"
   },
   {
    "duration": 29,
    "start_time": "2022-05-23T11:50:47.564Z"
   },
   {
    "duration": 1926,
    "start_time": "2022-05-23T11:50:47.601Z"
   },
   {
    "duration": 97,
    "start_time": "2022-05-23T11:50:49.529Z"
   },
   {
    "duration": 91,
    "start_time": "2022-05-23T11:50:49.628Z"
   },
   {
    "duration": 20,
    "start_time": "2022-05-23T11:50:49.721Z"
   },
   {
    "duration": 276,
    "start_time": "2022-05-23T11:50:49.743Z"
   },
   {
    "duration": 15,
    "start_time": "2022-05-23T11:50:50.021Z"
   },
   {
    "duration": 11,
    "start_time": "2022-05-23T11:50:50.038Z"
   },
   {
    "duration": 11,
    "start_time": "2022-05-23T11:50:50.050Z"
   },
   {
    "duration": 66,
    "start_time": "2022-05-23T11:50:50.062Z"
   },
   {
    "duration": 4,
    "start_time": "2022-05-23T11:50:50.130Z"
   },
   {
    "duration": 235,
    "start_time": "2022-05-23T11:50:50.136Z"
   },
   {
    "duration": 173,
    "start_time": "2022-05-23T11:50:50.373Z"
   },
   {
    "duration": 499,
    "start_time": "2022-05-23T11:50:50.549Z"
   },
   {
    "duration": 505,
    "start_time": "2022-05-23T11:50:51.049Z"
   },
   {
    "duration": 52,
    "start_time": "2022-05-23T11:50:51.556Z"
   },
   {
    "duration": 495,
    "start_time": "2022-05-23T11:50:51.611Z"
   },
   {
    "duration": 477,
    "start_time": "2022-05-23T11:50:52.109Z"
   },
   {
    "duration": 51,
    "start_time": "2022-05-23T11:50:52.594Z"
   },
   {
    "duration": 458,
    "start_time": "2022-05-23T11:50:52.647Z"
   },
   {
    "duration": 561,
    "start_time": "2022-05-23T11:50:53.108Z"
   },
   {
    "duration": 26,
    "start_time": "2022-05-23T11:50:53.670Z"
   },
   {
    "duration": 6,
    "start_time": "2022-05-23T11:50:53.701Z"
   },
   {
    "duration": 23,
    "start_time": "2022-05-23T11:50:53.709Z"
   },
   {
    "duration": 15,
    "start_time": "2022-05-23T11:50:53.735Z"
   },
   {
    "duration": 12,
    "start_time": "2022-05-23T11:50:53.752Z"
   },
   {
    "duration": 29,
    "start_time": "2022-05-23T11:50:53.766Z"
   },
   {
    "duration": 3,
    "start_time": "2022-05-23T11:55:56.134Z"
   },
   {
    "duration": 94,
    "start_time": "2022-05-23T11:55:56.139Z"
   },
   {
    "duration": 17,
    "start_time": "2022-05-23T11:55:56.235Z"
   },
   {
    "duration": 43,
    "start_time": "2022-05-23T11:55:56.254Z"
   },
   {
    "duration": 16,
    "start_time": "2022-05-23T11:55:56.300Z"
   },
   {
    "duration": 26,
    "start_time": "2022-05-23T11:55:56.318Z"
   },
   {
    "duration": 5,
    "start_time": "2022-05-23T11:55:56.346Z"
   },
   {
    "duration": 9,
    "start_time": "2022-05-23T11:55:56.353Z"
   },
   {
    "duration": 72,
    "start_time": "2022-05-23T11:55:56.363Z"
   },
   {
    "duration": 29,
    "start_time": "2022-05-23T11:55:56.438Z"
   },
   {
    "duration": 52,
    "start_time": "2022-05-23T11:55:56.470Z"
   },
   {
    "duration": 33,
    "start_time": "2022-05-23T11:55:56.524Z"
   },
   {
    "duration": 59,
    "start_time": "2022-05-23T11:55:56.559Z"
   },
   {
    "duration": 22,
    "start_time": "2022-05-23T11:55:56.622Z"
   },
   {
    "duration": 23,
    "start_time": "2022-05-23T11:55:56.646Z"
   },
   {
    "duration": 43,
    "start_time": "2022-05-23T11:55:56.670Z"
   },
   {
    "duration": 22,
    "start_time": "2022-05-23T11:55:56.715Z"
   },
   {
    "duration": 22,
    "start_time": "2022-05-23T11:55:56.739Z"
   },
   {
    "duration": 54,
    "start_time": "2022-05-23T11:55:56.763Z"
   },
   {
    "duration": 34,
    "start_time": "2022-05-23T11:55:56.819Z"
   },
   {
    "duration": 491,
    "start_time": "2022-05-23T11:55:56.855Z"
   },
   {
    "duration": 499,
    "start_time": "2022-05-23T11:55:57.350Z"
   },
   {
    "duration": 24,
    "start_time": "2022-05-23T11:55:57.851Z"
   },
   {
    "duration": 1399,
    "start_time": "2022-05-23T11:55:57.877Z"
   },
   {
    "duration": 46,
    "start_time": "2022-05-23T11:55:59.278Z"
   },
   {
    "duration": 892,
    "start_time": "2022-05-23T11:55:59.326Z"
   },
   {
    "duration": 28,
    "start_time": "2022-05-23T11:56:00.220Z"
   },
   {
    "duration": 70,
    "start_time": "2022-05-23T11:56:00.251Z"
   },
   {
    "duration": 39,
    "start_time": "2022-05-23T11:56:00.328Z"
   },
   {
    "duration": 21,
    "start_time": "2022-05-23T11:56:00.368Z"
   },
   {
    "duration": 413,
    "start_time": "2022-05-23T11:56:00.391Z"
   },
   {
    "duration": 16,
    "start_time": "2022-05-23T11:56:00.809Z"
   },
   {
    "duration": 207,
    "start_time": "2022-05-23T11:56:00.827Z"
   },
   {
    "duration": 224,
    "start_time": "2022-05-23T11:56:01.036Z"
   },
   {
    "duration": 15,
    "start_time": "2022-05-23T11:56:01.262Z"
   },
   {
    "duration": 23,
    "start_time": "2022-05-23T11:56:01.280Z"
   },
   {
    "duration": 2113,
    "start_time": "2022-05-23T11:56:01.305Z"
   },
   {
    "duration": 114,
    "start_time": "2022-05-23T11:56:03.424Z"
   },
   {
    "duration": 79,
    "start_time": "2022-05-23T11:56:03.541Z"
   },
   {
    "duration": 27,
    "start_time": "2022-05-23T11:56:03.623Z"
   },
   {
    "duration": 293,
    "start_time": "2022-05-23T11:56:03.652Z"
   },
   {
    "duration": 22,
    "start_time": "2022-05-23T11:56:03.948Z"
   },
   {
    "duration": 28,
    "start_time": "2022-05-23T11:56:03.973Z"
   },
   {
    "duration": 50,
    "start_time": "2022-05-23T11:56:04.003Z"
   },
   {
    "duration": 47,
    "start_time": "2022-05-23T11:56:04.055Z"
   },
   {
    "duration": 3,
    "start_time": "2022-05-23T11:56:04.104Z"
   },
   {
    "duration": 274,
    "start_time": "2022-05-23T11:56:04.109Z"
   },
   {
    "duration": 67,
    "start_time": "2022-05-23T11:56:04.385Z"
   },
   {
    "duration": 691,
    "start_time": "2022-05-23T11:56:04.454Z"
   },
   {
    "duration": 522,
    "start_time": "2022-05-23T11:56:05.147Z"
   },
   {
    "duration": 72,
    "start_time": "2022-05-23T11:56:05.671Z"
   },
   {
    "duration": 567,
    "start_time": "2022-05-23T11:56:05.746Z"
   },
   {
    "duration": 510,
    "start_time": "2022-05-23T11:56:06.317Z"
   },
   {
    "duration": 46,
    "start_time": "2022-05-23T11:56:06.831Z"
   },
   {
    "duration": 536,
    "start_time": "2022-05-23T11:56:06.880Z"
   },
   {
    "duration": 514,
    "start_time": "2022-05-23T11:56:07.428Z"
   },
   {
    "duration": 17,
    "start_time": "2022-05-23T11:56:07.944Z"
   },
   {
    "duration": 4,
    "start_time": "2022-05-23T11:56:07.963Z"
   },
   {
    "duration": 51,
    "start_time": "2022-05-23T11:56:07.968Z"
   },
   {
    "duration": 18,
    "start_time": "2022-05-23T11:56:08.030Z"
   },
   {
    "duration": 4,
    "start_time": "2022-05-23T11:56:08.051Z"
   },
   {
    "duration": 16,
    "start_time": "2022-05-23T11:56:08.058Z"
   },
   {
    "duration": 10,
    "start_time": "2022-05-23T11:57:03.213Z"
   },
   {
    "duration": 204,
    "start_time": "2022-05-23T11:57:23.573Z"
   },
   {
    "duration": 5,
    "start_time": "2022-05-23T11:59:40.687Z"
   },
   {
    "duration": 4,
    "start_time": "2022-05-23T11:59:40.991Z"
   },
   {
    "duration": 38,
    "start_time": "2022-05-23T11:59:41.284Z"
   },
   {
    "duration": 4,
    "start_time": "2022-05-23T11:59:41.625Z"
   },
   {
    "duration": 223,
    "start_time": "2022-05-23T11:59:42.013Z"
   },
   {
    "duration": 21,
    "start_time": "2022-05-23T12:03:29.321Z"
   },
   {
    "duration": 680,
    "start_time": "2022-05-23T12:03:30.375Z"
   },
   {
    "duration": 38,
    "start_time": "2022-05-23T12:05:16.122Z"
   },
   {
    "duration": 442,
    "start_time": "2022-05-23T12:05:16.462Z"
   },
   {
    "duration": 15,
    "start_time": "2022-05-23T12:05:58.633Z"
   },
   {
    "duration": 81,
    "start_time": "2022-05-23T12:07:20.387Z"
   },
   {
    "duration": 14,
    "start_time": "2022-05-23T12:13:20.227Z"
   },
   {
    "duration": 16,
    "start_time": "2022-05-23T12:13:35.925Z"
   },
   {
    "duration": 32,
    "start_time": "2022-05-23T12:17:55.004Z"
   },
   {
    "duration": 406,
    "start_time": "2022-05-23T12:17:55.940Z"
   },
   {
    "duration": 56,
    "start_time": "2022-05-23T12:18:05.229Z"
   }
  ],
  "kernelspec": {
   "display_name": "Python 3",
   "language": "python",
   "name": "python3"
  },
  "language_info": {
   "codemirror_mode": {
    "name": "ipython",
    "version": 3
   },
   "file_extension": ".py",
   "mimetype": "text/x-python",
   "name": "python",
   "nbconvert_exporter": "python",
   "pygments_lexer": "ipython3",
   "version": "3.8.8"
  },
  "toc": {
   "base_numbering": 1,
   "nav_menu": {},
   "number_sections": true,
   "sideBar": true,
   "skip_h1_title": true,
   "title_cell": "Table of Contents",
   "title_sidebar": "Contents",
   "toc_cell": false,
   "toc_position": {},
   "toc_section_display": true,
   "toc_window_display": false
  }
 },
 "nbformat": 4,
 "nbformat_minor": 2
}
